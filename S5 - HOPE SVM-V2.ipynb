{
 "cells": [
  {
   "cell_type": "markdown",
   "metadata": {},
   "source": [
    "# Import data from DB."
   ]
  },
  {
   "cell_type": "code",
   "execution_count": 1,
   "metadata": {},
   "outputs": [],
   "source": [
    "import pandas as pd\n",
    "import numpy as np"
   ]
  },
  {
   "cell_type": "code",
   "execution_count": 2,
   "metadata": {},
   "outputs": [
    {
     "name": "stdout",
     "output_type": "stream",
     "text": [
      "1243\n"
     ]
    }
   ],
   "source": [
    "dfOrg = pd.read_csv('hope_dataset_cleaned.csv')  \n",
    "\n",
    "print(dfOrg.shape[0])"
   ]
  },
  {
   "cell_type": "code",
   "execution_count": 3,
   "metadata": {},
   "outputs": [
    {
     "data": {
      "text/html": [
       "<div>\n",
       "<style scoped>\n",
       "    .dataframe tbody tr th:only-of-type {\n",
       "        vertical-align: middle;\n",
       "    }\n",
       "\n",
       "    .dataframe tbody tr th {\n",
       "        vertical-align: top;\n",
       "    }\n",
       "\n",
       "    .dataframe thead th {\n",
       "        text-align: right;\n",
       "    }\n",
       "</style>\n",
       "<table border=\"1\" class=\"dataframe\">\n",
       "  <thead>\n",
       "    <tr style=\"text-align: right;\">\n",
       "      <th></th>\n",
       "      <th>pedido.data.attributes.age</th>\n",
       "      <th>pedido.data.attributes.diagnostic_main</th>\n",
       "      <th>pedido.data.attributes.gender</th>\n",
       "      <th>articulo</th>\n",
       "      <th>respuesta.articlesRevisedYear</th>\n",
       "      <th>respuesta.articlesRevisedMonth</th>\n",
       "      <th>respuesta.pubmed_keys</th>\n",
       "      <th>utilidad</th>\n",
       "    </tr>\n",
       "  </thead>\n",
       "  <tbody>\n",
       "    <tr>\n",
       "      <th>0</th>\n",
       "      <td>75.0</td>\n",
       "      <td>FISTULA PERITONEAL</td>\n",
       "      <td>male</td>\n",
       "      <td>27395425</td>\n",
       "      <td>2018</td>\n",
       "      <td>1</td>\n",
       "      <td>Abdomen,Adenocarcinoma,Antiemetics,Blood Cultu...</td>\n",
       "      <td>1.0</td>\n",
       "    </tr>\n",
       "    <tr>\n",
       "      <th>1</th>\n",
       "      <td>75.0</td>\n",
       "      <td>FISTULA PERITONEAL</td>\n",
       "      <td>male</td>\n",
       "      <td>28560554</td>\n",
       "      <td>2018</td>\n",
       "      <td>4</td>\n",
       "      <td>Abdomen,Adenocarcinoma,Antiemetics,Blood Cultu...</td>\n",
       "      <td>NaN</td>\n",
       "    </tr>\n",
       "    <tr>\n",
       "      <th>2</th>\n",
       "      <td>75.0</td>\n",
       "      <td>FISTULA PERITONEAL</td>\n",
       "      <td>male</td>\n",
       "      <td>28641726</td>\n",
       "      <td>2017</td>\n",
       "      <td>12</td>\n",
       "      <td>Abdomen,Adenocarcinoma,Antiemetics,Blood Cultu...</td>\n",
       "      <td>NaN</td>\n",
       "    </tr>\n",
       "    <tr>\n",
       "      <th>3</th>\n",
       "      <td>75.0</td>\n",
       "      <td>FISTULA PERITONEAL</td>\n",
       "      <td>male</td>\n",
       "      <td>26245344</td>\n",
       "      <td>2016</td>\n",
       "      <td>12</td>\n",
       "      <td>Abdomen,Adenocarcinoma,Antiemetics,Blood Cultu...</td>\n",
       "      <td>NaN</td>\n",
       "    </tr>\n",
       "    <tr>\n",
       "      <th>4</th>\n",
       "      <td>75.0</td>\n",
       "      <td>FISTULA PERITONEAL</td>\n",
       "      <td>male</td>\n",
       "      <td>28942543</td>\n",
       "      <td>2018</td>\n",
       "      <td>6</td>\n",
       "      <td>Abdomen,Adenocarcinoma,Antiemetics,Blood Cultu...</td>\n",
       "      <td>NaN</td>\n",
       "    </tr>\n",
       "    <tr>\n",
       "      <th>5</th>\n",
       "      <td>75.0</td>\n",
       "      <td>FISTULA PERITONEAL</td>\n",
       "      <td>male</td>\n",
       "      <td>24782153</td>\n",
       "      <td>2014</td>\n",
       "      <td>6</td>\n",
       "      <td>Abdomen,Adenocarcinoma,Antiemetics,Blood Cultu...</td>\n",
       "      <td>NaN</td>\n",
       "    </tr>\n",
       "    <tr>\n",
       "      <th>6</th>\n",
       "      <td>75.0</td>\n",
       "      <td>FISTULA PERITONEAL</td>\n",
       "      <td>male</td>\n",
       "      <td>28002229</td>\n",
       "      <td>2018</td>\n",
       "      <td>9</td>\n",
       "      <td>Abdomen,Adenocarcinoma,Antiemetics,Blood Cultu...</td>\n",
       "      <td>NaN</td>\n",
       "    </tr>\n",
       "    <tr>\n",
       "      <th>7</th>\n",
       "      <td>75.0</td>\n",
       "      <td>FISTULA PERITONEAL</td>\n",
       "      <td>male</td>\n",
       "      <td>27505109</td>\n",
       "      <td>2017</td>\n",
       "      <td>4</td>\n",
       "      <td>Abdomen,Adenocarcinoma,Antiemetics,Blood Cultu...</td>\n",
       "      <td>NaN</td>\n",
       "    </tr>\n",
       "    <tr>\n",
       "      <th>8</th>\n",
       "      <td>75.0</td>\n",
       "      <td>FISTULA PERITONEAL</td>\n",
       "      <td>male</td>\n",
       "      <td>24850546</td>\n",
       "      <td>2015</td>\n",
       "      <td>1</td>\n",
       "      <td>Abdomen,Adenocarcinoma,Antiemetics,Blood Cultu...</td>\n",
       "      <td>NaN</td>\n",
       "    </tr>\n",
       "    <tr>\n",
       "      <th>9</th>\n",
       "      <td>75.0</td>\n",
       "      <td>FISTULA PERITONEAL</td>\n",
       "      <td>male</td>\n",
       "      <td>29371050</td>\n",
       "      <td>2019</td>\n",
       "      <td>4</td>\n",
       "      <td>Abdomen,Adenocarcinoma,Antiemetics,Blood Cultu...</td>\n",
       "      <td>NaN</td>\n",
       "    </tr>\n",
       "  </tbody>\n",
       "</table>\n",
       "</div>"
      ],
      "text/plain": [
       "   pedido.data.attributes.age pedido.data.attributes.diagnostic_main  \\\n",
       "0                        75.0                     FISTULA PERITONEAL   \n",
       "1                        75.0                     FISTULA PERITONEAL   \n",
       "2                        75.0                     FISTULA PERITONEAL   \n",
       "3                        75.0                     FISTULA PERITONEAL   \n",
       "4                        75.0                     FISTULA PERITONEAL   \n",
       "5                        75.0                     FISTULA PERITONEAL   \n",
       "6                        75.0                     FISTULA PERITONEAL   \n",
       "7                        75.0                     FISTULA PERITONEAL   \n",
       "8                        75.0                     FISTULA PERITONEAL   \n",
       "9                        75.0                     FISTULA PERITONEAL   \n",
       "\n",
       "  pedido.data.attributes.gender  articulo  respuesta.articlesRevisedYear  \\\n",
       "0                          male  27395425                           2018   \n",
       "1                          male  28560554                           2018   \n",
       "2                          male  28641726                           2017   \n",
       "3                          male  26245344                           2016   \n",
       "4                          male  28942543                           2018   \n",
       "5                          male  24782153                           2014   \n",
       "6                          male  28002229                           2018   \n",
       "7                          male  27505109                           2017   \n",
       "8                          male  24850546                           2015   \n",
       "9                          male  29371050                           2019   \n",
       "\n",
       "   respuesta.articlesRevisedMonth  \\\n",
       "0                               1   \n",
       "1                               4   \n",
       "2                              12   \n",
       "3                              12   \n",
       "4                               6   \n",
       "5                               6   \n",
       "6                               9   \n",
       "7                               4   \n",
       "8                               1   \n",
       "9                               4   \n",
       "\n",
       "                               respuesta.pubmed_keys  utilidad  \n",
       "0  Abdomen,Adenocarcinoma,Antiemetics,Blood Cultu...       1.0  \n",
       "1  Abdomen,Adenocarcinoma,Antiemetics,Blood Cultu...       NaN  \n",
       "2  Abdomen,Adenocarcinoma,Antiemetics,Blood Cultu...       NaN  \n",
       "3  Abdomen,Adenocarcinoma,Antiemetics,Blood Cultu...       NaN  \n",
       "4  Abdomen,Adenocarcinoma,Antiemetics,Blood Cultu...       NaN  \n",
       "5  Abdomen,Adenocarcinoma,Antiemetics,Blood Cultu...       NaN  \n",
       "6  Abdomen,Adenocarcinoma,Antiemetics,Blood Cultu...       NaN  \n",
       "7  Abdomen,Adenocarcinoma,Antiemetics,Blood Cultu...       NaN  \n",
       "8  Abdomen,Adenocarcinoma,Antiemetics,Blood Cultu...       NaN  \n",
       "9  Abdomen,Adenocarcinoma,Antiemetics,Blood Cultu...       NaN  "
      ]
     },
     "execution_count": 3,
     "metadata": {},
     "output_type": "execute_result"
    }
   ],
   "source": [
    "dfOrg.head(10)"
   ]
  },
  {
   "cell_type": "markdown",
   "metadata": {},
   "source": [
    "Expand pubmed_keys attribute"
   ]
  },
  {
   "cell_type": "code",
   "execution_count": 4,
   "metadata": {},
   "outputs": [
    {
     "data": {
      "text/html": [
       "<div>\n",
       "<style scoped>\n",
       "    .dataframe tbody tr th:only-of-type {\n",
       "        vertical-align: middle;\n",
       "    }\n",
       "\n",
       "    .dataframe tbody tr th {\n",
       "        vertical-align: top;\n",
       "    }\n",
       "\n",
       "    .dataframe thead th {\n",
       "        text-align: right;\n",
       "    }\n",
       "</style>\n",
       "<table border=\"1\" class=\"dataframe\">\n",
       "  <thead>\n",
       "    <tr style=\"text-align: right;\">\n",
       "      <th></th>\n",
       "      <th>pedido.data.attributes.age</th>\n",
       "      <th>pedido.data.attributes.diagnostic_main</th>\n",
       "      <th>pedido.data.attributes.gender</th>\n",
       "      <th>articulo</th>\n",
       "      <th>respuesta.articlesRevisedYear</th>\n",
       "      <th>respuesta.articlesRevisedMonth</th>\n",
       "      <th>respuesta.pubmed_keys</th>\n",
       "      <th>utilidad</th>\n",
       "    </tr>\n",
       "  </thead>\n",
       "  <tbody>\n",
       "    <tr>\n",
       "      <th>0</th>\n",
       "      <td>75.0</td>\n",
       "      <td>FISTULA PERITONEAL</td>\n",
       "      <td>male</td>\n",
       "      <td>27395425</td>\n",
       "      <td>2018</td>\n",
       "      <td>1</td>\n",
       "      <td>Abdomen</td>\n",
       "      <td>1.0</td>\n",
       "    </tr>\n",
       "    <tr>\n",
       "      <th>1</th>\n",
       "      <td>75.0</td>\n",
       "      <td>FISTULA PERITONEAL</td>\n",
       "      <td>male</td>\n",
       "      <td>27395425</td>\n",
       "      <td>2018</td>\n",
       "      <td>1</td>\n",
       "      <td>Adenocarcinoma</td>\n",
       "      <td>1.0</td>\n",
       "    </tr>\n",
       "    <tr>\n",
       "      <th>2</th>\n",
       "      <td>75.0</td>\n",
       "      <td>FISTULA PERITONEAL</td>\n",
       "      <td>male</td>\n",
       "      <td>27395425</td>\n",
       "      <td>2018</td>\n",
       "      <td>1</td>\n",
       "      <td>Antiemetics</td>\n",
       "      <td>1.0</td>\n",
       "    </tr>\n",
       "    <tr>\n",
       "      <th>3</th>\n",
       "      <td>75.0</td>\n",
       "      <td>FISTULA PERITONEAL</td>\n",
       "      <td>male</td>\n",
       "      <td>27395425</td>\n",
       "      <td>2018</td>\n",
       "      <td>1</td>\n",
       "      <td>Blood Culture</td>\n",
       "      <td>1.0</td>\n",
       "    </tr>\n",
       "    <tr>\n",
       "      <th>4</th>\n",
       "      <td>75.0</td>\n",
       "      <td>FISTULA PERITONEAL</td>\n",
       "      <td>male</td>\n",
       "      <td>27395425</td>\n",
       "      <td>2018</td>\n",
       "      <td>1</td>\n",
       "      <td>Catharsis</td>\n",
       "      <td>1.0</td>\n",
       "    </tr>\n",
       "    <tr>\n",
       "      <th>5</th>\n",
       "      <td>75.0</td>\n",
       "      <td>FISTULA PERITONEAL</td>\n",
       "      <td>male</td>\n",
       "      <td>27395425</td>\n",
       "      <td>2018</td>\n",
       "      <td>1</td>\n",
       "      <td>Diuresis</td>\n",
       "      <td>1.0</td>\n",
       "    </tr>\n",
       "    <tr>\n",
       "      <th>6</th>\n",
       "      <td>75.0</td>\n",
       "      <td>FISTULA PERITONEAL</td>\n",
       "      <td>male</td>\n",
       "      <td>27395425</td>\n",
       "      <td>2018</td>\n",
       "      <td>1</td>\n",
       "      <td>Fistula</td>\n",
       "      <td>1.0</td>\n",
       "    </tr>\n",
       "    <tr>\n",
       "      <th>7</th>\n",
       "      <td>75.0</td>\n",
       "      <td>FISTULA PERITONEAL</td>\n",
       "      <td>male</td>\n",
       "      <td>27395425</td>\n",
       "      <td>2018</td>\n",
       "      <td>1</td>\n",
       "      <td>Gastrectomy</td>\n",
       "      <td>1.0</td>\n",
       "    </tr>\n",
       "    <tr>\n",
       "      <th>8</th>\n",
       "      <td>75.0</td>\n",
       "      <td>FISTULA PERITONEAL</td>\n",
       "      <td>male</td>\n",
       "      <td>27395425</td>\n",
       "      <td>2018</td>\n",
       "      <td>1</td>\n",
       "      <td>Incisional Hernia</td>\n",
       "      <td>1.0</td>\n",
       "    </tr>\n",
       "    <tr>\n",
       "      <th>9</th>\n",
       "      <td>75.0</td>\n",
       "      <td>FISTULA PERITONEAL</td>\n",
       "      <td>male</td>\n",
       "      <td>27395425</td>\n",
       "      <td>2018</td>\n",
       "      <td>1</td>\n",
       "      <td>Intestines</td>\n",
       "      <td>1.0</td>\n",
       "    </tr>\n",
       "  </tbody>\n",
       "</table>\n",
       "</div>"
      ],
      "text/plain": [
       "   pedido.data.attributes.age pedido.data.attributes.diagnostic_main  \\\n",
       "0                        75.0                     FISTULA PERITONEAL   \n",
       "1                        75.0                     FISTULA PERITONEAL   \n",
       "2                        75.0                     FISTULA PERITONEAL   \n",
       "3                        75.0                     FISTULA PERITONEAL   \n",
       "4                        75.0                     FISTULA PERITONEAL   \n",
       "5                        75.0                     FISTULA PERITONEAL   \n",
       "6                        75.0                     FISTULA PERITONEAL   \n",
       "7                        75.0                     FISTULA PERITONEAL   \n",
       "8                        75.0                     FISTULA PERITONEAL   \n",
       "9                        75.0                     FISTULA PERITONEAL   \n",
       "\n",
       "  pedido.data.attributes.gender  articulo  respuesta.articlesRevisedYear  \\\n",
       "0                          male  27395425                           2018   \n",
       "1                          male  27395425                           2018   \n",
       "2                          male  27395425                           2018   \n",
       "3                          male  27395425                           2018   \n",
       "4                          male  27395425                           2018   \n",
       "5                          male  27395425                           2018   \n",
       "6                          male  27395425                           2018   \n",
       "7                          male  27395425                           2018   \n",
       "8                          male  27395425                           2018   \n",
       "9                          male  27395425                           2018   \n",
       "\n",
       "   respuesta.articlesRevisedMonth respuesta.pubmed_keys  utilidad  \n",
       "0                               1               Abdomen       1.0  \n",
       "1                               1        Adenocarcinoma       1.0  \n",
       "2                               1           Antiemetics       1.0  \n",
       "3                               1         Blood Culture       1.0  \n",
       "4                               1             Catharsis       1.0  \n",
       "5                               1              Diuresis       1.0  \n",
       "6                               1               Fistula       1.0  \n",
       "7                               1           Gastrectomy       1.0  \n",
       "8                               1     Incisional Hernia       1.0  \n",
       "9                               1            Intestines       1.0  "
      ]
     },
     "execution_count": 4,
     "metadata": {},
     "output_type": "execute_result"
    }
   ],
   "source": [
    "dfOrg['respuesta.pubmed_keys'] = dfOrg['respuesta.pubmed_keys'].apply(lambda x : str(x).split(','))\n",
    "\n",
    "dfOrg = dfOrg.explode('respuesta.pubmed_keys').reset_index(drop=True)\n",
    "\n",
    "dfOrg.head(10)"
   ]
  },
  {
   "cell_type": "markdown",
   "metadata": {},
   "source": [
    "# Transform (factorice) from Categories to continuous atributes"
   ]
  },
  {
   "cell_type": "markdown",
   "metadata": {},
   "source": [
    "Transform 'pedido.data.attributes.diagnostic_main' atribute"
   ]
  },
  {
   "cell_type": "code",
   "execution_count": 5,
   "metadata": {},
   "outputs": [],
   "source": [
    "dataDiagnosticMain, categoriesDiagnosticMain = pd.factorize(dfOrg['pedido.data.attributes.diagnostic_main'])\n",
    "\n",
    "dfOrg['pedido.data.attributes.diagnostic_main'] = dataDiagnosticMain"
   ]
  },
  {
   "cell_type": "markdown",
   "metadata": {},
   "source": [
    "Transform 'gender' atribute"
   ]
  },
  {
   "cell_type": "code",
   "execution_count": 6,
   "metadata": {},
   "outputs": [],
   "source": [
    "dataGender, categoriesGender = pd.factorize(dfOrg['pedido.data.attributes.gender'])\n",
    "\n",
    "dfOrg['pedido.data.attributes.gender'] = dataGender"
   ]
  },
  {
   "cell_type": "markdown",
   "metadata": {},
   "source": [
    "Transform 'respuesta.pubmed_keys' atribute"
   ]
  },
  {
   "cell_type": "code",
   "execution_count": 7,
   "metadata": {},
   "outputs": [
    {
     "name": "stdout",
     "output_type": "stream",
     "text": [
      "total: 353\n"
     ]
    }
   ],
   "source": [
    "categoriesORGPubMedKeys = dfOrg['respuesta.pubmed_keys'].value_counts()\n",
    "\n",
    "print(\"total: \" + str(categoriesORGPubMedKeys.size))"
   ]
  },
  {
   "cell_type": "code",
   "execution_count": 8,
   "metadata": {},
   "outputs": [],
   "source": [
    "dataPubMedKeys, categoriesPubMedKeys = pd.factorize(dfOrg['respuesta.pubmed_keys'])\n",
    "\n",
    "dfOrg['respuesta.pubmed_keys'] = dataPubMedKeys"
   ]
  },
  {
   "cell_type": "code",
   "execution_count": 9,
   "metadata": {},
   "outputs": [
    {
     "data": {
      "text/html": [
       "<div>\n",
       "<style scoped>\n",
       "    .dataframe tbody tr th:only-of-type {\n",
       "        vertical-align: middle;\n",
       "    }\n",
       "\n",
       "    .dataframe tbody tr th {\n",
       "        vertical-align: top;\n",
       "    }\n",
       "\n",
       "    .dataframe thead th {\n",
       "        text-align: right;\n",
       "    }\n",
       "</style>\n",
       "<table border=\"1\" class=\"dataframe\">\n",
       "  <thead>\n",
       "    <tr style=\"text-align: right;\">\n",
       "      <th></th>\n",
       "      <th>pedido.data.attributes.age</th>\n",
       "      <th>pedido.data.attributes.diagnostic_main</th>\n",
       "      <th>pedido.data.attributes.gender</th>\n",
       "      <th>articulo</th>\n",
       "      <th>respuesta.articlesRevisedYear</th>\n",
       "      <th>respuesta.articlesRevisedMonth</th>\n",
       "      <th>respuesta.pubmed_keys</th>\n",
       "      <th>utilidad</th>\n",
       "    </tr>\n",
       "  </thead>\n",
       "  <tbody>\n",
       "    <tr>\n",
       "      <th>0</th>\n",
       "      <td>75.0</td>\n",
       "      <td>0</td>\n",
       "      <td>0</td>\n",
       "      <td>27395425</td>\n",
       "      <td>2018</td>\n",
       "      <td>1</td>\n",
       "      <td>0</td>\n",
       "      <td>1.0</td>\n",
       "    </tr>\n",
       "    <tr>\n",
       "      <th>1</th>\n",
       "      <td>75.0</td>\n",
       "      <td>0</td>\n",
       "      <td>0</td>\n",
       "      <td>27395425</td>\n",
       "      <td>2018</td>\n",
       "      <td>1</td>\n",
       "      <td>1</td>\n",
       "      <td>1.0</td>\n",
       "    </tr>\n",
       "    <tr>\n",
       "      <th>2</th>\n",
       "      <td>75.0</td>\n",
       "      <td>0</td>\n",
       "      <td>0</td>\n",
       "      <td>27395425</td>\n",
       "      <td>2018</td>\n",
       "      <td>1</td>\n",
       "      <td>2</td>\n",
       "      <td>1.0</td>\n",
       "    </tr>\n",
       "    <tr>\n",
       "      <th>3</th>\n",
       "      <td>75.0</td>\n",
       "      <td>0</td>\n",
       "      <td>0</td>\n",
       "      <td>27395425</td>\n",
       "      <td>2018</td>\n",
       "      <td>1</td>\n",
       "      <td>3</td>\n",
       "      <td>1.0</td>\n",
       "    </tr>\n",
       "    <tr>\n",
       "      <th>4</th>\n",
       "      <td>75.0</td>\n",
       "      <td>0</td>\n",
       "      <td>0</td>\n",
       "      <td>27395425</td>\n",
       "      <td>2018</td>\n",
       "      <td>1</td>\n",
       "      <td>4</td>\n",
       "      <td>1.0</td>\n",
       "    </tr>\n",
       "    <tr>\n",
       "      <th>5</th>\n",
       "      <td>75.0</td>\n",
       "      <td>0</td>\n",
       "      <td>0</td>\n",
       "      <td>27395425</td>\n",
       "      <td>2018</td>\n",
       "      <td>1</td>\n",
       "      <td>5</td>\n",
       "      <td>1.0</td>\n",
       "    </tr>\n",
       "    <tr>\n",
       "      <th>6</th>\n",
       "      <td>75.0</td>\n",
       "      <td>0</td>\n",
       "      <td>0</td>\n",
       "      <td>27395425</td>\n",
       "      <td>2018</td>\n",
       "      <td>1</td>\n",
       "      <td>6</td>\n",
       "      <td>1.0</td>\n",
       "    </tr>\n",
       "    <tr>\n",
       "      <th>7</th>\n",
       "      <td>75.0</td>\n",
       "      <td>0</td>\n",
       "      <td>0</td>\n",
       "      <td>27395425</td>\n",
       "      <td>2018</td>\n",
       "      <td>1</td>\n",
       "      <td>7</td>\n",
       "      <td>1.0</td>\n",
       "    </tr>\n",
       "    <tr>\n",
       "      <th>8</th>\n",
       "      <td>75.0</td>\n",
       "      <td>0</td>\n",
       "      <td>0</td>\n",
       "      <td>27395425</td>\n",
       "      <td>2018</td>\n",
       "      <td>1</td>\n",
       "      <td>8</td>\n",
       "      <td>1.0</td>\n",
       "    </tr>\n",
       "    <tr>\n",
       "      <th>9</th>\n",
       "      <td>75.0</td>\n",
       "      <td>0</td>\n",
       "      <td>0</td>\n",
       "      <td>27395425</td>\n",
       "      <td>2018</td>\n",
       "      <td>1</td>\n",
       "      <td>9</td>\n",
       "      <td>1.0</td>\n",
       "    </tr>\n",
       "  </tbody>\n",
       "</table>\n",
       "</div>"
      ],
      "text/plain": [
       "   pedido.data.attributes.age  pedido.data.attributes.diagnostic_main  \\\n",
       "0                        75.0                                       0   \n",
       "1                        75.0                                       0   \n",
       "2                        75.0                                       0   \n",
       "3                        75.0                                       0   \n",
       "4                        75.0                                       0   \n",
       "5                        75.0                                       0   \n",
       "6                        75.0                                       0   \n",
       "7                        75.0                                       0   \n",
       "8                        75.0                                       0   \n",
       "9                        75.0                                       0   \n",
       "\n",
       "   pedido.data.attributes.gender  articulo  respuesta.articlesRevisedYear  \\\n",
       "0                              0  27395425                           2018   \n",
       "1                              0  27395425                           2018   \n",
       "2                              0  27395425                           2018   \n",
       "3                              0  27395425                           2018   \n",
       "4                              0  27395425                           2018   \n",
       "5                              0  27395425                           2018   \n",
       "6                              0  27395425                           2018   \n",
       "7                              0  27395425                           2018   \n",
       "8                              0  27395425                           2018   \n",
       "9                              0  27395425                           2018   \n",
       "\n",
       "   respuesta.articlesRevisedMonth  respuesta.pubmed_keys  utilidad  \n",
       "0                               1                      0       1.0  \n",
       "1                               1                      1       1.0  \n",
       "2                               1                      2       1.0  \n",
       "3                               1                      3       1.0  \n",
       "4                               1                      4       1.0  \n",
       "5                               1                      5       1.0  \n",
       "6                               1                      6       1.0  \n",
       "7                               1                      7       1.0  \n",
       "8                               1                      8       1.0  \n",
       "9                               1                      9       1.0  "
      ]
     },
     "execution_count": 9,
     "metadata": {},
     "output_type": "execute_result"
    }
   ],
   "source": [
    "dfOrg.head(10)"
   ]
  },
  {
   "cell_type": "code",
   "execution_count": 10,
   "metadata": {},
   "outputs": [
    {
     "name": "stdout",
     "output_type": "stream",
     "text": [
      "age NaN => 10\n",
      "diagnostic_main NaN => 0\n",
      "gender NaN => 0\n",
      "articulo NaN => 0\n",
      "articlesRevisedYear NaN => 0\n",
      "articlesRevisedMonth NaN => 0\n",
      "pubmed_keys NaN => 0\n",
      "utilidad NaN => 14758\n"
     ]
    }
   ],
   "source": [
    "print(\"age NaN => \" + str(dfOrg[pd.isnull(dfOrg['pedido.data.attributes.age'])].shape[0]))\n",
    "print(\"diagnostic_main NaN => \" + str(dfOrg[pd.isnull(dfOrg['pedido.data.attributes.diagnostic_main'])].shape[0]))\n",
    "print(\"gender NaN => \" + str(dfOrg[pd.isnull(dfOrg['pedido.data.attributes.gender'])].shape[0]))\n",
    "print(\"articulo NaN => \" + str(dfOrg[pd.isnull(dfOrg['articulo'])].shape[0]))\n",
    "print(\"articlesRevisedYear NaN => \" + str(dfOrg[pd.isnull(dfOrg['respuesta.articlesRevisedYear'])].shape[0]))\n",
    "print(\"articlesRevisedMonth NaN => \" + str(dfOrg[pd.isnull(dfOrg['respuesta.articlesRevisedMonth'])].shape[0]))\n",
    "print(\"pubmed_keys NaN => \" + str(dfOrg[pd.isnull(dfOrg['respuesta.pubmed_keys'])].shape[0]))\n",
    "print(\"utilidad NaN => \" + str(dfOrg[pd.isnull(dfOrg['utilidad'])].shape[0]))"
   ]
  },
  {
   "cell_type": "markdown",
   "metadata": {},
   "source": [
    "Remove row with age eq NaN"
   ]
  },
  {
   "cell_type": "code",
   "execution_count": 11,
   "metadata": {},
   "outputs": [],
   "source": [
    "dfOrg = dfOrg[pd.notnull(dfOrg['pedido.data.attributes.age'])]"
   ]
  },
  {
   "cell_type": "markdown",
   "metadata": {},
   "source": [
    "# Standardize the Data"
   ]
  },
  {
   "cell_type": "markdown",
   "metadata": {},
   "source": [
    "Choosed \"age\", \"diagnostic_main\", \"month\" and \"pubmed_keys\" attributes (based on PCA_V3 study)"
   ]
  },
  {
   "cell_type": "code",
   "execution_count": 12,
   "metadata": {},
   "outputs": [
    {
     "data": {
      "text/html": [
       "<div>\n",
       "<style scoped>\n",
       "    .dataframe tbody tr th:only-of-type {\n",
       "        vertical-align: middle;\n",
       "    }\n",
       "\n",
       "    .dataframe tbody tr th {\n",
       "        vertical-align: top;\n",
       "    }\n",
       "\n",
       "    .dataframe thead th {\n",
       "        text-align: right;\n",
       "    }\n",
       "</style>\n",
       "<table border=\"1\" class=\"dataframe\">\n",
       "  <thead>\n",
       "    <tr style=\"text-align: right;\">\n",
       "      <th></th>\n",
       "      <th>pedido.data.attributes.age</th>\n",
       "      <th>pedido.data.attributes.diagnostic_main</th>\n",
       "      <th>respuesta.articlesRevisedMonth</th>\n",
       "      <th>respuesta.pubmed_keys</th>\n",
       "      <th>utilidad</th>\n",
       "    </tr>\n",
       "  </thead>\n",
       "  <tbody>\n",
       "    <tr>\n",
       "      <th>0</th>\n",
       "      <td>1.285887</td>\n",
       "      <td>-1.503163</td>\n",
       "      <td>-1.463658</td>\n",
       "      <td>-1.089722</td>\n",
       "      <td>1.0</td>\n",
       "    </tr>\n",
       "    <tr>\n",
       "      <th>1</th>\n",
       "      <td>1.285887</td>\n",
       "      <td>-1.503163</td>\n",
       "      <td>-1.463658</td>\n",
       "      <td>-1.080463</td>\n",
       "      <td>1.0</td>\n",
       "    </tr>\n",
       "    <tr>\n",
       "      <th>2</th>\n",
       "      <td>1.285887</td>\n",
       "      <td>-1.503163</td>\n",
       "      <td>-1.463658</td>\n",
       "      <td>-1.071203</td>\n",
       "      <td>1.0</td>\n",
       "    </tr>\n",
       "    <tr>\n",
       "      <th>3</th>\n",
       "      <td>1.285887</td>\n",
       "      <td>-1.503163</td>\n",
       "      <td>-1.463658</td>\n",
       "      <td>-1.061944</td>\n",
       "      <td>1.0</td>\n",
       "    </tr>\n",
       "    <tr>\n",
       "      <th>4</th>\n",
       "      <td>1.285887</td>\n",
       "      <td>-1.503163</td>\n",
       "      <td>-1.463658</td>\n",
       "      <td>-1.052684</td>\n",
       "      <td>1.0</td>\n",
       "    </tr>\n",
       "    <tr>\n",
       "      <th>...</th>\n",
       "      <td>...</td>\n",
       "      <td>...</td>\n",
       "      <td>...</td>\n",
       "      <td>...</td>\n",
       "      <td>...</td>\n",
       "    </tr>\n",
       "    <tr>\n",
       "      <th>15583</th>\n",
       "      <td>-0.607930</td>\n",
       "      <td>-0.586347</td>\n",
       "      <td>-1.178433</td>\n",
       "      <td>-0.330441</td>\n",
       "      <td>NaN</td>\n",
       "    </tr>\n",
       "    <tr>\n",
       "      <th>15584</th>\n",
       "      <td>-0.607930</td>\n",
       "      <td>-0.586347</td>\n",
       "      <td>-1.178433</td>\n",
       "      <td>-0.978608</td>\n",
       "      <td>NaN</td>\n",
       "    </tr>\n",
       "    <tr>\n",
       "      <th>15585</th>\n",
       "      <td>-0.607930</td>\n",
       "      <td>-0.586347</td>\n",
       "      <td>-1.178433</td>\n",
       "      <td>0.891817</td>\n",
       "      <td>NaN</td>\n",
       "    </tr>\n",
       "    <tr>\n",
       "      <th>15586</th>\n",
       "      <td>-0.607930</td>\n",
       "      <td>-0.586347</td>\n",
       "      <td>-1.178433</td>\n",
       "      <td>-0.876753</td>\n",
       "      <td>NaN</td>\n",
       "    </tr>\n",
       "    <tr>\n",
       "      <th>15587</th>\n",
       "      <td>-0.607930</td>\n",
       "      <td>-0.586347</td>\n",
       "      <td>-1.178433</td>\n",
       "      <td>0.901077</td>\n",
       "      <td>NaN</td>\n",
       "    </tr>\n",
       "  </tbody>\n",
       "</table>\n",
       "<p>15578 rows × 5 columns</p>\n",
       "</div>"
      ],
      "text/plain": [
       "       pedido.data.attributes.age  pedido.data.attributes.diagnostic_main  \\\n",
       "0                        1.285887                               -1.503163   \n",
       "1                        1.285887                               -1.503163   \n",
       "2                        1.285887                               -1.503163   \n",
       "3                        1.285887                               -1.503163   \n",
       "4                        1.285887                               -1.503163   \n",
       "...                           ...                                     ...   \n",
       "15583                   -0.607930                               -0.586347   \n",
       "15584                   -0.607930                               -0.586347   \n",
       "15585                   -0.607930                               -0.586347   \n",
       "15586                   -0.607930                               -0.586347   \n",
       "15587                   -0.607930                               -0.586347   \n",
       "\n",
       "       respuesta.articlesRevisedMonth  respuesta.pubmed_keys  utilidad  \n",
       "0                           -1.463658              -1.089722       1.0  \n",
       "1                           -1.463658              -1.080463       1.0  \n",
       "2                           -1.463658              -1.071203       1.0  \n",
       "3                           -1.463658              -1.061944       1.0  \n",
       "4                           -1.463658              -1.052684       1.0  \n",
       "...                               ...                    ...       ...  \n",
       "15583                       -1.178433              -0.330441       NaN  \n",
       "15584                       -1.178433              -0.978608       NaN  \n",
       "15585                       -1.178433               0.891817       NaN  \n",
       "15586                       -1.178433              -0.876753       NaN  \n",
       "15587                       -1.178433               0.901077       NaN  \n",
       "\n",
       "[15578 rows x 5 columns]"
      ]
     },
     "execution_count": 12,
     "metadata": {},
     "output_type": "execute_result"
    }
   ],
   "source": [
    "from sklearn.preprocessing import StandardScaler\n",
    "\n",
    "features = [\"pedido.data.attributes.age\",\n",
    "    \"pedido.data.attributes.diagnostic_main\",\n",
    "    \"respuesta.articlesRevisedMonth\",\n",
    "    \"respuesta.pubmed_keys\",\n",
    "    \"utilidad\"\n",
    "]\n",
    "\n",
    "# Separating out the features\n",
    "x = dfOrg.loc[:, features].values\n",
    "\n",
    "featuresTransformed = StandardScaler().fit_transform(x)\n",
    "\n",
    "dfStandarized = pd.DataFrame(featuresTransformed, index=dfOrg.index, columns=features)\n",
    "dfStandarized['utilidad'] = dfOrg['utilidad']\n",
    "\n",
    "dfStandarized"
   ]
  },
  {
   "cell_type": "markdown",
   "metadata": {},
   "source": [
    "# Separe data by utilidad is defined"
   ]
  },
  {
   "cell_type": "code",
   "execution_count": 13,
   "metadata": {},
   "outputs": [
    {
     "name": "stdout",
     "output_type": "stream",
     "text": [
      "830\n",
      "14748\n"
     ]
    }
   ],
   "source": [
    "dfDataSetComplete = dfStandarized[pd.notnull(dfStandarized['utilidad'])]\n",
    "\n",
    "print(dfDataSetComplete.shape[0])\n",
    "\n",
    "dfDataSetToPredict = dfStandarized[pd.isnull(dfStandarized['utilidad'])]\n",
    "\n",
    "print(dfDataSetToPredict.shape[0])"
   ]
  },
  {
   "cell_type": "markdown",
   "metadata": {},
   "source": [
    "# SVM"
   ]
  },
  {
   "cell_type": "markdown",
   "metadata": {},
   "source": [
    "We check the number of results"
   ]
  },
  {
   "cell_type": "code",
   "execution_count": 14,
   "metadata": {},
   "outputs": [
    {
     "data": {
      "text/plain": [
       "utilidad\n",
       "0.0    346\n",
       "1.0    484\n",
       "dtype: int64"
      ]
     },
     "execution_count": 14,
     "metadata": {},
     "output_type": "execute_result"
    }
   ],
   "source": [
    " dfDataSetComplete.groupby('utilidad').size()"
   ]
  },
  {
   "cell_type": "markdown",
   "metadata": {},
   "source": [
    "Separe \"utilidad\" atribute from dataToTrain"
   ]
  },
  {
   "cell_type": "code",
   "execution_count": 15,
   "metadata": {},
   "outputs": [
    {
     "data": {
      "text/plain": [
       "(830, 4)"
      ]
     },
     "execution_count": 15,
     "metadata": {},
     "output_type": "execute_result"
    }
   ],
   "source": [
    "X = np.array(dfDataSetComplete.drop(['utilidad'],1))\n",
    "y = np.array(dfDataSetComplete['utilidad'])\n",
    "X.shape"
   ]
  },
  {
   "cell_type": "code",
   "execution_count": 16,
   "metadata": {},
   "outputs": [],
   "source": [
    "from sklearn.model_selection import train_test_split\n",
    "\n",
    "X_train, X_test, y_train, y_test = train_test_split(X, y, random_state=0)"
   ]
  },
  {
   "cell_type": "code",
   "execution_count": 19,
   "metadata": {},
   "outputs": [
    {
     "data": {
      "text/plain": [
       "Text(0.5, 0, 'X')"
      ]
     },
     "execution_count": 19,
     "metadata": {},
     "output_type": "execute_result"
    },
    {
     "data": {
      "image/png": "[encoded data removed]",
      "text/plain": [
       "<Figure size 432x288 with 1 Axes>"
      ]
     },
     "metadata": {
      "needs_background": "light"
     },
     "output_type": "display_data"
    }
   ],
   "source": [
    "ax = dfDataSetComplete.plot.scatter(x=\"pedido.data.attributes.age\", y=\"utilidad\", c=dfDataSetComplete.utilidad.map({0:'b', 1:'r'}))\n",
    "dfDataSetComplete.plot.scatter(x=\"pedido.data.attributes.diagnostic_main\", y=\"utilidad\", c=dfDataSetComplete.utilidad.map({0:'b', 1:'r'}), ax=ax)\n",
    "dfDataSetComplete.plot.scatter(x=\"respuesta.articlesRevisedMonth\", y=\"utilidad\", c=dfDataSetComplete.utilidad.map({0:'b', 1:'r'}), ax=ax)\n",
    "dfDataSetComplete.plot.scatter(x=\"respuesta.pubmed_keys\", y=\"utilidad\", c=dfDataSetComplete.utilidad.map({0:'b', 1:'r'}), ax=ax)\n",
    "ax.set_xlabel('X')"
   ]
  },
  {
   "cell_type": "markdown",
   "metadata": {},
   "source": [
    "A simple vista no podemos crear un hiperplano lineal (division de valores) que nos ayude a poder clasificar los valores del campo utilidad en base los atributos del data set, ya que los resultados del campo \"utilidad\" estan distribuidos sobre todo el plano de X. Exploraremos con los kernel methods, que metodo nos ayuda a poder crear el hiperplano más optimo para la clasificación"
   ]
  },
  {
   "cell_type": "markdown",
   "metadata": {},
   "source": [
    "# Exploring Hiper Parameters"
   ]
  },
  {
   "cell_type": "markdown",
   "metadata": {},
   "source": [
    "· C: el valor de penalització dels errors en la classificació. Indica el compromís entre obtenir l'hiperpla amb el marge més gran possible i classificar el màxim número d'exemples correctament. Provarem valors aleatoris distribuits uniformement entre 1 i 500."
   ]
  },
  {
   "cell_type": "markdown",
   "metadata": {},
   "source": [
    "https://scikit-learn.org/stable/modules/generated/sklearn.svm.SVC.html\n",
    "\n",
    "https://scikit-learn.org/stable/auto_examples/svm/plot_rbf_parameters.html"
   ]
  },
  {
   "cell_type": "code",
   "execution_count": null,
   "metadata": {},
   "outputs": [],
   "source": [
    "from sklearn.model_selection import RandomizedSearchCV\n",
    "from sklearn import svm\n",
    "from scipy.stats import uniform as sp_rand\n",
    "from time import time\n",
    "\n",
    "clf = svm.SVC()\n",
    "\n",
    "kernels = ['poly', 'rbf', 'sigmoid']\n",
    "\n",
    "param_dist = {\n",
    "    \"C\":     sp_rand(loc=1, scale=500),\n",
    "    \"gamma\": sp_rand(loc=1e-3, scale=1e3)\n",
    "}\n",
    "\n",
    "best_score = []\n",
    "\n",
    "for k in kernels:\n",
    "    param_dist['kernel'] = [k]\n",
    "    n_iter_search = 10\n",
    "    random_search = RandomizedSearchCV(clf, param_distributions=param_dist, n_iter=n_iter_search, cv=4)\n",
    "\n",
    "    start = time()\n",
    "    random_search.fit(X_train, y_train)\n",
    "    end = time()\n",
    "    print(\"El entrenamiento a durado {} segundos\".format(end - start))\n",
    "\n",
    "    means = random_search.cv_results_[\"mean_test_score\"]\n",
    "    stds = random_search.cv_results_[\"std_test_score\"]\n",
    "    params = random_search.cv_results_['params']\n",
    "    ranks = random_search.cv_results_['rank_test_score']\n",
    "    best_score.append({'kernel':k,'score':random_search.best_score_, 'params': random_search.best_params_})\n",
    "\n",
    "    for rank, mean, std, pms in zip(ranks, means, stds, params):\n",
    "        print(\"{}) Precision media: {:.2f} +/- {:.2f} con parametros {}\".format(rank, mean*100, std*100, pms))\n",
    "  "
   ]
  },
  {
   "cell_type": "code",
   "execution_count": null,
   "metadata": {},
   "outputs": [],
   "source": [
    "import matplotlib.pyplot as plt\n",
    "\n",
    "fig = plt.figure()\n",
    "ax = fig.add_axes([0,0,1,1])\n",
    "ax.bar([dic['kernel'] for dic in best_score],[dic['score'] for dic in best_score])\n",
    "plt.show()"
   ]
  },
  {
   "cell_type": "code",
   "execution_count": null,
   "metadata": {},
   "outputs": [],
   "source": [
    "pd.DataFrame(best_score)"
   ]
  },
  {
   "cell_type": "markdown",
   "metadata": {},
   "source": [
    "vemos que el kernel que mejor se ajusta al modelo es el radial (rbf). Utilizaremos este kernel con sus correspondientes parametros para entrenar el modelo predictivo"
   ]
  },
  {
   "cell_type": "markdown",
   "metadata": {},
   "source": [
    "## Evaluating the Algorithm"
   ]
  },
  {
   "cell_type": "code",
   "execution_count": null,
   "metadata": {},
   "outputs": [],
   "source": [
    "from sklearn.metrics import accuracy_score\n",
    "\n",
    "print(\"Valor optimo para a C: {}\".format(best_score[1]['params']['C']))\n",
    "print(\"Valor òptim per a gamma: {}\".format(best_score[1]['params'][\"gamma\"]))\n",
    "\n",
    "modelSVM = svm.SVC(kernel=best_score[1]['kernel'], gamma=best_score[1]['params'][\"gamma\"], C=best_score[1]['params']['C']).fit(X_train, y_train)\n",
    "predict = modelSVM.predict(X_test)\n",
    "\n",
    "accuracy = np.true_divide(np.sum(predict == y_test), predict.shape[0])*100\n",
    "print(\"Precision en el conjunto de test: {:.2f}%\".format(accuracy))\n"
   ]
  },
  {
   "cell_type": "code",
   "execution_count": null,
   "metadata": {},
   "outputs": [],
   "source": [
    "from sklearn.metrics import confusion_matrix\n",
    "import itertools\n",
    "\n",
    "\n",
    "cnf_matrix = confusion_matrix(y_test, predict)\n",
    "\n",
    "def plot_confusion_matrix(cm, classes):\n",
    "    cm = cm.astype('float') / cm.sum(axis=1)[:, np.newaxis]\n",
    "   \n",
    "    cmap=plt.cm.Blues\n",
    "\n",
    "    plt.imshow(cm, interpolation='nearest', cmap=cmap)\n",
    "    plt.colorbar()\n",
    "    tick_marks = np.arange(len(classes))\n",
    "    plt.xticks(tick_marks, classes, rotation=45)\n",
    "    plt.yticks(tick_marks, classes)\n",
    "\n",
    "    thresh = cm.max() / 2.\n",
    "    for i, j in itertools.product(range(cm.shape[0]), range(cm.shape[1])):\n",
    "        plt.text(j, i, format(cm[i, j], \".2f\"),\n",
    "                 horizontalalignment=\"center\",\n",
    "                 color=\"white\" if cm[i, j] > thresh else \"black\")\n",
    "\n",
    "    plt.tight_layout()\n",
    "    plt.ylabel('True label')\n",
    "    plt.xlabel('Predicted label')\n",
    "\n",
    "n_classes=[\"0\",\"1\"]\n",
    "plot_confusion_matrix(cnf_matrix, classes=n_classes)"
   ]
  },
  {
   "cell_type": "markdown",
   "metadata": {},
   "source": [
    "# Run Prediction"
   ]
  },
  {
   "cell_type": "code",
   "execution_count": null,
   "metadata": {},
   "outputs": [],
   "source": [
    "result = modelSVM.predict(dfDataSetToPredict[[\n",
    "    \"pedido.data.attributes.age\",\n",
    "    \"pedido.data.attributes.diagnostic_main\",\n",
    "    \"respuesta.articlesRevisedYear\",\n",
    "    \"respuesta.pubmed_keys\",\n",
    "    \"articulo\"\n",
    "]])\n",
    "\n",
    "result"
   ]
  }
 ],
 "metadata": {
  "kernelspec": {
   "display_name": "Python 3",
   "language": "python",
   "name": "python3"
  },
  "language_info": {
   "codemirror_mode": {
    "name": "ipython",
    "version": 3
   },
   "file_extension": ".py",
   "mimetype": "text/x-python",
   "name": "python",
   "nbconvert_exporter": "python",
   "pygments_lexer": "ipython3",
   "version": "3.8.6"
  }
 },
 "nbformat": 4,
 "nbformat_minor": 4
}

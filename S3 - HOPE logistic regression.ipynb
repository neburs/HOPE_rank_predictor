{
 "cells": [
  {
   "cell_type": "markdown",
   "metadata": {},
   "source": [
    "## Import data from DB."
   ]
  },
  {
   "cell_type": "code",
   "execution_count": 1,
   "metadata": {},
   "outputs": [],
   "source": [
    "import pandas as pd\n",
    "import numpy as np"
   ]
  },
  {
   "cell_type": "code",
   "execution_count": 2,
   "metadata": {},
   "outputs": [
    {
     "name": "stdout",
     "output_type": "stream",
     "text": [
      "1243\n"
     ]
    }
   ],
   "source": [
    "dfOrg = pd.read_csv('hope_dataset_cleaned.csv')  \n",
    "\n",
    "print(dfOrg.shape[0])"
   ]
  },
  {
   "cell_type": "code",
   "execution_count": 3,
   "metadata": {},
   "outputs": [
    {
     "data": {
      "text/html": [
       "<div>\n",
       "<style scoped>\n",
       "    .dataframe tbody tr th:only-of-type {\n",
       "        vertical-align: middle;\n",
       "    }\n",
       "\n",
       "    .dataframe tbody tr th {\n",
       "        vertical-align: top;\n",
       "    }\n",
       "\n",
       "    .dataframe thead th {\n",
       "        text-align: right;\n",
       "    }\n",
       "</style>\n",
       "<table border=\"1\" class=\"dataframe\">\n",
       "  <thead>\n",
       "    <tr style=\"text-align: right;\">\n",
       "      <th></th>\n",
       "      <th>pedido.data.attributes.age</th>\n",
       "      <th>pedido.data.attributes.diagnostic_main</th>\n",
       "      <th>pedido.data.attributes.gender</th>\n",
       "      <th>articulo</th>\n",
       "      <th>respuesta.articlesRevisedYear</th>\n",
       "      <th>respuesta.articlesRevisedMonth</th>\n",
       "      <th>respuesta.pubmed_keys</th>\n",
       "      <th>utilidad</th>\n",
       "    </tr>\n",
       "  </thead>\n",
       "  <tbody>\n",
       "    <tr>\n",
       "      <th>0</th>\n",
       "      <td>75.0</td>\n",
       "      <td>FISTULA PERITONEAL</td>\n",
       "      <td>male</td>\n",
       "      <td>27395425</td>\n",
       "      <td>2018</td>\n",
       "      <td>1</td>\n",
       "      <td>Abdomen,Adenocarcinoma,Antiemetics,Blood Cultu...</td>\n",
       "      <td>1.0</td>\n",
       "    </tr>\n",
       "    <tr>\n",
       "      <th>1</th>\n",
       "      <td>75.0</td>\n",
       "      <td>FISTULA PERITONEAL</td>\n",
       "      <td>male</td>\n",
       "      <td>28560554</td>\n",
       "      <td>2018</td>\n",
       "      <td>4</td>\n",
       "      <td>Abdomen,Adenocarcinoma,Antiemetics,Blood Cultu...</td>\n",
       "      <td>NaN</td>\n",
       "    </tr>\n",
       "    <tr>\n",
       "      <th>2</th>\n",
       "      <td>75.0</td>\n",
       "      <td>FISTULA PERITONEAL</td>\n",
       "      <td>male</td>\n",
       "      <td>28641726</td>\n",
       "      <td>2017</td>\n",
       "      <td>12</td>\n",
       "      <td>Abdomen,Adenocarcinoma,Antiemetics,Blood Cultu...</td>\n",
       "      <td>NaN</td>\n",
       "    </tr>\n",
       "    <tr>\n",
       "      <th>3</th>\n",
       "      <td>75.0</td>\n",
       "      <td>FISTULA PERITONEAL</td>\n",
       "      <td>male</td>\n",
       "      <td>26245344</td>\n",
       "      <td>2016</td>\n",
       "      <td>12</td>\n",
       "      <td>Abdomen,Adenocarcinoma,Antiemetics,Blood Cultu...</td>\n",
       "      <td>NaN</td>\n",
       "    </tr>\n",
       "    <tr>\n",
       "      <th>4</th>\n",
       "      <td>75.0</td>\n",
       "      <td>FISTULA PERITONEAL</td>\n",
       "      <td>male</td>\n",
       "      <td>28942543</td>\n",
       "      <td>2018</td>\n",
       "      <td>6</td>\n",
       "      <td>Abdomen,Adenocarcinoma,Antiemetics,Blood Cultu...</td>\n",
       "      <td>NaN</td>\n",
       "    </tr>\n",
       "    <tr>\n",
       "      <th>5</th>\n",
       "      <td>75.0</td>\n",
       "      <td>FISTULA PERITONEAL</td>\n",
       "      <td>male</td>\n",
       "      <td>24782153</td>\n",
       "      <td>2014</td>\n",
       "      <td>6</td>\n",
       "      <td>Abdomen,Adenocarcinoma,Antiemetics,Blood Cultu...</td>\n",
       "      <td>NaN</td>\n",
       "    </tr>\n",
       "    <tr>\n",
       "      <th>6</th>\n",
       "      <td>75.0</td>\n",
       "      <td>FISTULA PERITONEAL</td>\n",
       "      <td>male</td>\n",
       "      <td>28002229</td>\n",
       "      <td>2018</td>\n",
       "      <td>9</td>\n",
       "      <td>Abdomen,Adenocarcinoma,Antiemetics,Blood Cultu...</td>\n",
       "      <td>NaN</td>\n",
       "    </tr>\n",
       "    <tr>\n",
       "      <th>7</th>\n",
       "      <td>75.0</td>\n",
       "      <td>FISTULA PERITONEAL</td>\n",
       "      <td>male</td>\n",
       "      <td>27505109</td>\n",
       "      <td>2017</td>\n",
       "      <td>4</td>\n",
       "      <td>Abdomen,Adenocarcinoma,Antiemetics,Blood Cultu...</td>\n",
       "      <td>NaN</td>\n",
       "    </tr>\n",
       "    <tr>\n",
       "      <th>8</th>\n",
       "      <td>75.0</td>\n",
       "      <td>FISTULA PERITONEAL</td>\n",
       "      <td>male</td>\n",
       "      <td>24850546</td>\n",
       "      <td>2015</td>\n",
       "      <td>1</td>\n",
       "      <td>Abdomen,Adenocarcinoma,Antiemetics,Blood Cultu...</td>\n",
       "      <td>NaN</td>\n",
       "    </tr>\n",
       "    <tr>\n",
       "      <th>9</th>\n",
       "      <td>75.0</td>\n",
       "      <td>FISTULA PERITONEAL</td>\n",
       "      <td>male</td>\n",
       "      <td>29371050</td>\n",
       "      <td>2019</td>\n",
       "      <td>4</td>\n",
       "      <td>Abdomen,Adenocarcinoma,Antiemetics,Blood Cultu...</td>\n",
       "      <td>NaN</td>\n",
       "    </tr>\n",
       "  </tbody>\n",
       "</table>\n",
       "</div>"
      ],
      "text/plain": [
       "   pedido.data.attributes.age pedido.data.attributes.diagnostic_main  \\\n",
       "0                        75.0                     FISTULA PERITONEAL   \n",
       "1                        75.0                     FISTULA PERITONEAL   \n",
       "2                        75.0                     FISTULA PERITONEAL   \n",
       "3                        75.0                     FISTULA PERITONEAL   \n",
       "4                        75.0                     FISTULA PERITONEAL   \n",
       "5                        75.0                     FISTULA PERITONEAL   \n",
       "6                        75.0                     FISTULA PERITONEAL   \n",
       "7                        75.0                     FISTULA PERITONEAL   \n",
       "8                        75.0                     FISTULA PERITONEAL   \n",
       "9                        75.0                     FISTULA PERITONEAL   \n",
       "\n",
       "  pedido.data.attributes.gender  articulo  respuesta.articlesRevisedYear  \\\n",
       "0                          male  27395425                           2018   \n",
       "1                          male  28560554                           2018   \n",
       "2                          male  28641726                           2017   \n",
       "3                          male  26245344                           2016   \n",
       "4                          male  28942543                           2018   \n",
       "5                          male  24782153                           2014   \n",
       "6                          male  28002229                           2018   \n",
       "7                          male  27505109                           2017   \n",
       "8                          male  24850546                           2015   \n",
       "9                          male  29371050                           2019   \n",
       "\n",
       "   respuesta.articlesRevisedMonth  \\\n",
       "0                               1   \n",
       "1                               4   \n",
       "2                              12   \n",
       "3                              12   \n",
       "4                               6   \n",
       "5                               6   \n",
       "6                               9   \n",
       "7                               4   \n",
       "8                               1   \n",
       "9                               4   \n",
       "\n",
       "                               respuesta.pubmed_keys  utilidad  \n",
       "0  Abdomen,Adenocarcinoma,Antiemetics,Blood Cultu...       1.0  \n",
       "1  Abdomen,Adenocarcinoma,Antiemetics,Blood Cultu...       NaN  \n",
       "2  Abdomen,Adenocarcinoma,Antiemetics,Blood Cultu...       NaN  \n",
       "3  Abdomen,Adenocarcinoma,Antiemetics,Blood Cultu...       NaN  \n",
       "4  Abdomen,Adenocarcinoma,Antiemetics,Blood Cultu...       NaN  \n",
       "5  Abdomen,Adenocarcinoma,Antiemetics,Blood Cultu...       NaN  \n",
       "6  Abdomen,Adenocarcinoma,Antiemetics,Blood Cultu...       NaN  \n",
       "7  Abdomen,Adenocarcinoma,Antiemetics,Blood Cultu...       NaN  \n",
       "8  Abdomen,Adenocarcinoma,Antiemetics,Blood Cultu...       NaN  \n",
       "9  Abdomen,Adenocarcinoma,Antiemetics,Blood Cultu...       NaN  "
      ]
     },
     "execution_count": 3,
     "metadata": {},
     "output_type": "execute_result"
    }
   ],
   "source": [
    "dfOrg.head(10)"
   ]
  },
  {
   "cell_type": "markdown",
   "metadata": {},
   "source": [
    "## Transform (factorice) from Categories to continuous atributes\n",
    "\n",
    "Transform 'pedido.data.attributes.diagnostic_main' atribute"
   ]
  },
  {
   "cell_type": "code",
   "execution_count": 4,
   "metadata": {},
   "outputs": [],
   "source": [
    "dataDiagnosticMain, categoriesDiagnosticMain = pd.factorize(dfOrg['pedido.data.attributes.diagnostic_main'])\n",
    "\n",
    "dfOrg['pedido.data.attributes.diagnostic_main'] = dataDiagnosticMain"
   ]
  },
  {
   "cell_type": "markdown",
   "metadata": {},
   "source": [
    "Transform 'gender' atribute"
   ]
  },
  {
   "cell_type": "code",
   "execution_count": 5,
   "metadata": {},
   "outputs": [],
   "source": [
    "dataGender, categoriesGender = pd.factorize(dfOrg['pedido.data.attributes.gender'])\n",
    "\n",
    "dfOrg['pedido.data.attributes.gender'] = dataGender"
   ]
  },
  {
   "cell_type": "markdown",
   "metadata": {},
   "source": [
    "Transform 'respuesta.pubmed_keys' atribute"
   ]
  },
  {
   "cell_type": "code",
   "execution_count": 6,
   "metadata": {},
   "outputs": [
    {
     "name": "stdout",
     "output_type": "stream",
     "text": [
      "total: 80\n"
     ]
    }
   ],
   "source": [
    "categoriesORGPubMedKeys = dfOrg['respuesta.pubmed_keys'].value_counts()\n",
    "\n",
    "print(\"total: \" + str(categoriesORGPubMedKeys.size))"
   ]
  },
  {
   "cell_type": "code",
   "execution_count": 7,
   "metadata": {},
   "outputs": [],
   "source": [
    "dataPubMedKeys, categoriesPubMedKeys = pd.factorize(dfOrg['respuesta.pubmed_keys'])\n",
    "\n",
    "dfOrg['respuesta.pubmed_keys'] = dataPubMedKeys"
   ]
  },
  {
   "cell_type": "code",
   "execution_count": 8,
   "metadata": {},
   "outputs": [
    {
     "data": {
      "text/html": [
       "<div>\n",
       "<style scoped>\n",
       "    .dataframe tbody tr th:only-of-type {\n",
       "        vertical-align: middle;\n",
       "    }\n",
       "\n",
       "    .dataframe tbody tr th {\n",
       "        vertical-align: top;\n",
       "    }\n",
       "\n",
       "    .dataframe thead th {\n",
       "        text-align: right;\n",
       "    }\n",
       "</style>\n",
       "<table border=\"1\" class=\"dataframe\">\n",
       "  <thead>\n",
       "    <tr style=\"text-align: right;\">\n",
       "      <th></th>\n",
       "      <th>pedido.data.attributes.age</th>\n",
       "      <th>pedido.data.attributes.diagnostic_main</th>\n",
       "      <th>pedido.data.attributes.gender</th>\n",
       "      <th>articulo</th>\n",
       "      <th>respuesta.articlesRevisedYear</th>\n",
       "      <th>respuesta.articlesRevisedMonth</th>\n",
       "      <th>respuesta.pubmed_keys</th>\n",
       "      <th>utilidad</th>\n",
       "    </tr>\n",
       "  </thead>\n",
       "  <tbody>\n",
       "    <tr>\n",
       "      <th>0</th>\n",
       "      <td>75.0</td>\n",
       "      <td>0</td>\n",
       "      <td>0</td>\n",
       "      <td>27395425</td>\n",
       "      <td>2018</td>\n",
       "      <td>1</td>\n",
       "      <td>0</td>\n",
       "      <td>1.0</td>\n",
       "    </tr>\n",
       "    <tr>\n",
       "      <th>1</th>\n",
       "      <td>75.0</td>\n",
       "      <td>0</td>\n",
       "      <td>0</td>\n",
       "      <td>28560554</td>\n",
       "      <td>2018</td>\n",
       "      <td>4</td>\n",
       "      <td>0</td>\n",
       "      <td>NaN</td>\n",
       "    </tr>\n",
       "    <tr>\n",
       "      <th>2</th>\n",
       "      <td>75.0</td>\n",
       "      <td>0</td>\n",
       "      <td>0</td>\n",
       "      <td>28641726</td>\n",
       "      <td>2017</td>\n",
       "      <td>12</td>\n",
       "      <td>0</td>\n",
       "      <td>NaN</td>\n",
       "    </tr>\n",
       "    <tr>\n",
       "      <th>3</th>\n",
       "      <td>75.0</td>\n",
       "      <td>0</td>\n",
       "      <td>0</td>\n",
       "      <td>26245344</td>\n",
       "      <td>2016</td>\n",
       "      <td>12</td>\n",
       "      <td>0</td>\n",
       "      <td>NaN</td>\n",
       "    </tr>\n",
       "    <tr>\n",
       "      <th>4</th>\n",
       "      <td>75.0</td>\n",
       "      <td>0</td>\n",
       "      <td>0</td>\n",
       "      <td>28942543</td>\n",
       "      <td>2018</td>\n",
       "      <td>6</td>\n",
       "      <td>0</td>\n",
       "      <td>NaN</td>\n",
       "    </tr>\n",
       "    <tr>\n",
       "      <th>5</th>\n",
       "      <td>75.0</td>\n",
       "      <td>0</td>\n",
       "      <td>0</td>\n",
       "      <td>24782153</td>\n",
       "      <td>2014</td>\n",
       "      <td>6</td>\n",
       "      <td>0</td>\n",
       "      <td>NaN</td>\n",
       "    </tr>\n",
       "    <tr>\n",
       "      <th>6</th>\n",
       "      <td>75.0</td>\n",
       "      <td>0</td>\n",
       "      <td>0</td>\n",
       "      <td>28002229</td>\n",
       "      <td>2018</td>\n",
       "      <td>9</td>\n",
       "      <td>0</td>\n",
       "      <td>NaN</td>\n",
       "    </tr>\n",
       "    <tr>\n",
       "      <th>7</th>\n",
       "      <td>75.0</td>\n",
       "      <td>0</td>\n",
       "      <td>0</td>\n",
       "      <td>27505109</td>\n",
       "      <td>2017</td>\n",
       "      <td>4</td>\n",
       "      <td>0</td>\n",
       "      <td>NaN</td>\n",
       "    </tr>\n",
       "    <tr>\n",
       "      <th>8</th>\n",
       "      <td>75.0</td>\n",
       "      <td>0</td>\n",
       "      <td>0</td>\n",
       "      <td>24850546</td>\n",
       "      <td>2015</td>\n",
       "      <td>1</td>\n",
       "      <td>0</td>\n",
       "      <td>NaN</td>\n",
       "    </tr>\n",
       "    <tr>\n",
       "      <th>9</th>\n",
       "      <td>75.0</td>\n",
       "      <td>0</td>\n",
       "      <td>0</td>\n",
       "      <td>29371050</td>\n",
       "      <td>2019</td>\n",
       "      <td>4</td>\n",
       "      <td>0</td>\n",
       "      <td>NaN</td>\n",
       "    </tr>\n",
       "  </tbody>\n",
       "</table>\n",
       "</div>"
      ],
      "text/plain": [
       "   pedido.data.attributes.age  pedido.data.attributes.diagnostic_main  \\\n",
       "0                        75.0                                       0   \n",
       "1                        75.0                                       0   \n",
       "2                        75.0                                       0   \n",
       "3                        75.0                                       0   \n",
       "4                        75.0                                       0   \n",
       "5                        75.0                                       0   \n",
       "6                        75.0                                       0   \n",
       "7                        75.0                                       0   \n",
       "8                        75.0                                       0   \n",
       "9                        75.0                                       0   \n",
       "\n",
       "   pedido.data.attributes.gender  articulo  respuesta.articlesRevisedYear  \\\n",
       "0                              0  27395425                           2018   \n",
       "1                              0  28560554                           2018   \n",
       "2                              0  28641726                           2017   \n",
       "3                              0  26245344                           2016   \n",
       "4                              0  28942543                           2018   \n",
       "5                              0  24782153                           2014   \n",
       "6                              0  28002229                           2018   \n",
       "7                              0  27505109                           2017   \n",
       "8                              0  24850546                           2015   \n",
       "9                              0  29371050                           2019   \n",
       "\n",
       "   respuesta.articlesRevisedMonth  respuesta.pubmed_keys  utilidad  \n",
       "0                               1                      0       1.0  \n",
       "1                               4                      0       NaN  \n",
       "2                              12                      0       NaN  \n",
       "3                              12                      0       NaN  \n",
       "4                               6                      0       NaN  \n",
       "5                               6                      0       NaN  \n",
       "6                               9                      0       NaN  \n",
       "7                               4                      0       NaN  \n",
       "8                               1                      0       NaN  \n",
       "9                               4                      0       NaN  "
      ]
     },
     "execution_count": 8,
     "metadata": {},
     "output_type": "execute_result"
    }
   ],
   "source": [
    "dfOrg.head(10)"
   ]
  },
  {
   "cell_type": "code",
   "execution_count": 9,
   "metadata": {},
   "outputs": [
    {
     "name": "stdout",
     "output_type": "stream",
     "text": [
      "age NaN => 10\n",
      "diagnostic_main NaN => 0\n",
      "gender NaN => 0\n",
      "articulo NaN => 0\n",
      "articlesRevisedYear NaN => 0\n",
      "articlesRevisedMonth NaN => 0\n",
      "pubmed_keys NaN => 0\n",
      "utilidad NaN => 1192\n"
     ]
    }
   ],
   "source": [
    "print(\"age NaN => \" + str(dfOrg[pd.isnull(dfOrg['pedido.data.attributes.age'])].shape[0]))\n",
    "print(\"diagnostic_main NaN => \" + str(dfOrg[pd.isnull(dfOrg['pedido.data.attributes.diagnostic_main'])].shape[0]))\n",
    "print(\"gender NaN => \" + str(dfOrg[pd.isnull(dfOrg['pedido.data.attributes.gender'])].shape[0]))\n",
    "print(\"articulo NaN => \" + str(dfOrg[pd.isnull(dfOrg['articulo'])].shape[0]))\n",
    "print(\"articlesRevisedYear NaN => \" + str(dfOrg[pd.isnull(dfOrg['respuesta.articlesRevisedYear'])].shape[0]))\n",
    "print(\"articlesRevisedMonth NaN => \" + str(dfOrg[pd.isnull(dfOrg['respuesta.articlesRevisedMonth'])].shape[0]))\n",
    "print(\"pubmed_keys NaN => \" + str(dfOrg[pd.isnull(dfOrg['respuesta.pubmed_keys'])].shape[0]))\n",
    "print(\"utilidad NaN => \" + str(dfOrg[pd.isnull(dfOrg['utilidad'])].shape[0]))"
   ]
  },
  {
   "cell_type": "markdown",
   "metadata": {},
   "source": [
    "Remove row with age eq NaN"
   ]
  },
  {
   "cell_type": "code",
   "execution_count": 10,
   "metadata": {},
   "outputs": [],
   "source": [
    "dfOrg = dfOrg[pd.notnull(dfOrg['pedido.data.attributes.age'])]"
   ]
  },
  {
   "cell_type": "markdown",
   "metadata": {},
   "source": [
    "## Separe data by utilidad is defined"
   ]
  },
  {
   "cell_type": "code",
   "execution_count": 11,
   "metadata": {},
   "outputs": [
    {
     "name": "stdout",
     "output_type": "stream",
     "text": [
      "51\n",
      "1182\n"
     ]
    }
   ],
   "source": [
    "dfDataSetComplete = dfOrg[pd.notnull(dfOrg['utilidad'])]\n",
    "\n",
    "print(dfDataSetComplete.shape[0])\n",
    "\n",
    "dfDataSetToPredict = dfOrg[pd.isnull(dfOrg['utilidad'])]\n",
    "\n",
    "print(dfDataSetToPredict.shape[0])"
   ]
  },
  {
   "cell_type": "code",
   "execution_count": 12,
   "metadata": {},
   "outputs": [
    {
     "data": {
      "text/html": [
       "<div>\n",
       "<style scoped>\n",
       "    .dataframe tbody tr th:only-of-type {\n",
       "        vertical-align: middle;\n",
       "    }\n",
       "\n",
       "    .dataframe tbody tr th {\n",
       "        vertical-align: top;\n",
       "    }\n",
       "\n",
       "    .dataframe thead th {\n",
       "        text-align: right;\n",
       "    }\n",
       "</style>\n",
       "<table border=\"1\" class=\"dataframe\">\n",
       "  <thead>\n",
       "    <tr style=\"text-align: right;\">\n",
       "      <th></th>\n",
       "      <th>pedido.data.attributes.age</th>\n",
       "      <th>pedido.data.attributes.diagnostic_main</th>\n",
       "      <th>pedido.data.attributes.gender</th>\n",
       "      <th>articulo</th>\n",
       "      <th>respuesta.articlesRevisedYear</th>\n",
       "      <th>respuesta.articlesRevisedMonth</th>\n",
       "      <th>respuesta.pubmed_keys</th>\n",
       "      <th>utilidad</th>\n",
       "    </tr>\n",
       "  </thead>\n",
       "  <tbody>\n",
       "    <tr>\n",
       "      <th>0</th>\n",
       "      <td>75.0</td>\n",
       "      <td>0</td>\n",
       "      <td>0</td>\n",
       "      <td>27395425</td>\n",
       "      <td>2018</td>\n",
       "      <td>1</td>\n",
       "      <td>0</td>\n",
       "      <td>1.0</td>\n",
       "    </tr>\n",
       "    <tr>\n",
       "      <th>32</th>\n",
       "      <td>75.0</td>\n",
       "      <td>0</td>\n",
       "      <td>0</td>\n",
       "      <td>28694230</td>\n",
       "      <td>2017</td>\n",
       "      <td>12</td>\n",
       "      <td>3</td>\n",
       "      <td>1.0</td>\n",
       "    </tr>\n",
       "    <tr>\n",
       "      <th>230</th>\n",
       "      <td>36.0</td>\n",
       "      <td>6</td>\n",
       "      <td>0</td>\n",
       "      <td>28805236</td>\n",
       "      <td>2011</td>\n",
       "      <td>3</td>\n",
       "      <td>21</td>\n",
       "      <td>0.0</td>\n",
       "    </tr>\n",
       "    <tr>\n",
       "      <th>290</th>\n",
       "      <td>51.0</td>\n",
       "      <td>10</td>\n",
       "      <td>0</td>\n",
       "      <td>27537587</td>\n",
       "      <td>2011</td>\n",
       "      <td>3</td>\n",
       "      <td>23</td>\n",
       "      <td>0.0</td>\n",
       "    </tr>\n",
       "    <tr>\n",
       "      <th>299</th>\n",
       "      <td>51.0</td>\n",
       "      <td>10</td>\n",
       "      <td>0</td>\n",
       "      <td>28148670</td>\n",
       "      <td>2019</td>\n",
       "      <td>3</td>\n",
       "      <td>23</td>\n",
       "      <td>1.0</td>\n",
       "    </tr>\n",
       "    <tr>\n",
       "      <th>300</th>\n",
       "      <td>18.0</td>\n",
       "      <td>11</td>\n",
       "      <td>0</td>\n",
       "      <td>25055513</td>\n",
       "      <td>2019</td>\n",
       "      <td>3</td>\n",
       "      <td>24</td>\n",
       "      <td>1.0</td>\n",
       "    </tr>\n",
       "    <tr>\n",
       "      <th>303</th>\n",
       "      <td>18.0</td>\n",
       "      <td>11</td>\n",
       "      <td>0</td>\n",
       "      <td>29279563</td>\n",
       "      <td>2017</td>\n",
       "      <td>2</td>\n",
       "      <td>24</td>\n",
       "      <td>0.0</td>\n",
       "    </tr>\n",
       "    <tr>\n",
       "      <th>304</th>\n",
       "      <td>18.0</td>\n",
       "      <td>11</td>\n",
       "      <td>0</td>\n",
       "      <td>29279563</td>\n",
       "      <td>2017</td>\n",
       "      <td>2</td>\n",
       "      <td>24</td>\n",
       "      <td>0.0</td>\n",
       "    </tr>\n",
       "    <tr>\n",
       "      <th>305</th>\n",
       "      <td>18.0</td>\n",
       "      <td>11</td>\n",
       "      <td>0</td>\n",
       "      <td>28065368</td>\n",
       "      <td>2017</td>\n",
       "      <td>11</td>\n",
       "      <td>24</td>\n",
       "      <td>1.0</td>\n",
       "    </tr>\n",
       "    <tr>\n",
       "      <th>311</th>\n",
       "      <td>76.0</td>\n",
       "      <td>12</td>\n",
       "      <td>0</td>\n",
       "      <td>30762794</td>\n",
       "      <td>2019</td>\n",
       "      <td>3</td>\n",
       "      <td>25</td>\n",
       "      <td>1.0</td>\n",
       "    </tr>\n",
       "  </tbody>\n",
       "</table>\n",
       "</div>"
      ],
      "text/plain": [
       "     pedido.data.attributes.age  pedido.data.attributes.diagnostic_main  \\\n",
       "0                          75.0                                       0   \n",
       "32                         75.0                                       0   \n",
       "230                        36.0                                       6   \n",
       "290                        51.0                                      10   \n",
       "299                        51.0                                      10   \n",
       "300                        18.0                                      11   \n",
       "303                        18.0                                      11   \n",
       "304                        18.0                                      11   \n",
       "305                        18.0                                      11   \n",
       "311                        76.0                                      12   \n",
       "\n",
       "     pedido.data.attributes.gender  articulo  respuesta.articlesRevisedYear  \\\n",
       "0                                0  27395425                           2018   \n",
       "32                               0  28694230                           2017   \n",
       "230                              0  28805236                           2011   \n",
       "290                              0  27537587                           2011   \n",
       "299                              0  28148670                           2019   \n",
       "300                              0  25055513                           2019   \n",
       "303                              0  29279563                           2017   \n",
       "304                              0  29279563                           2017   \n",
       "305                              0  28065368                           2017   \n",
       "311                              0  30762794                           2019   \n",
       "\n",
       "     respuesta.articlesRevisedMonth  respuesta.pubmed_keys  utilidad  \n",
       "0                                 1                      0       1.0  \n",
       "32                               12                      3       1.0  \n",
       "230                               3                     21       0.0  \n",
       "290                               3                     23       0.0  \n",
       "299                               3                     23       1.0  \n",
       "300                               3                     24       1.0  \n",
       "303                               2                     24       0.0  \n",
       "304                               2                     24       0.0  \n",
       "305                              11                     24       1.0  \n",
       "311                               3                     25       1.0  "
      ]
     },
     "execution_count": 12,
     "metadata": {},
     "output_type": "execute_result"
    }
   ],
   "source": [
    "dfDataSetComplete.head(10)"
   ]
  },
  {
   "cell_type": "markdown",
   "metadata": {},
   "source": [
    "## Logistic Regression"
   ]
  },
  {
   "cell_type": "code",
   "execution_count": 13,
   "metadata": {},
   "outputs": [],
   "source": [
    "from sklearn import linear_model\n",
    "from sklearn.model_selection import train_test_split\n",
    "from sklearn import model_selection\n",
    "from sklearn.metrics import accuracy_score"
   ]
  },
  {
   "cell_type": "code",
   "execution_count": 14,
   "metadata": {},
   "outputs": [
    {
     "data": {
      "text/html": [
       "<div>\n",
       "<style scoped>\n",
       "    .dataframe tbody tr th:only-of-type {\n",
       "        vertical-align: middle;\n",
       "    }\n",
       "\n",
       "    .dataframe tbody tr th {\n",
       "        vertical-align: top;\n",
       "    }\n",
       "\n",
       "    .dataframe thead th {\n",
       "        text-align: right;\n",
       "    }\n",
       "</style>\n",
       "<table border=\"1\" class=\"dataframe\">\n",
       "  <thead>\n",
       "    <tr style=\"text-align: right;\">\n",
       "      <th></th>\n",
       "      <th>pedido.data.attributes.age</th>\n",
       "      <th>pedido.data.attributes.diagnostic_main</th>\n",
       "      <th>pedido.data.attributes.gender</th>\n",
       "      <th>articulo</th>\n",
       "      <th>respuesta.articlesRevisedYear</th>\n",
       "      <th>respuesta.articlesRevisedMonth</th>\n",
       "      <th>respuesta.pubmed_keys</th>\n",
       "      <th>utilidad</th>\n",
       "    </tr>\n",
       "  </thead>\n",
       "  <tbody>\n",
       "    <tr>\n",
       "      <th>count</th>\n",
       "      <td>51.000000</td>\n",
       "      <td>51.000000</td>\n",
       "      <td>51.0</td>\n",
       "      <td>5.100000e+01</td>\n",
       "      <td>51.000000</td>\n",
       "      <td>51.000000</td>\n",
       "      <td>51.000000</td>\n",
       "      <td>51.000000</td>\n",
       "    </tr>\n",
       "    <tr>\n",
       "      <th>mean</th>\n",
       "      <td>55.039216</td>\n",
       "      <td>12.764706</td>\n",
       "      <td>0.0</td>\n",
       "      <td>2.789015e+07</td>\n",
       "      <td>2016.686275</td>\n",
       "      <td>5.862745</td>\n",
       "      <td>36.372549</td>\n",
       "      <td>0.588235</td>\n",
       "    </tr>\n",
       "    <tr>\n",
       "      <th>std</th>\n",
       "      <td>21.981775</td>\n",
       "      <td>5.911305</td>\n",
       "      <td>0.0</td>\n",
       "      <td>2.586429e+06</td>\n",
       "      <td>2.760364</td>\n",
       "      <td>3.852374</td>\n",
       "      <td>13.795595</td>\n",
       "      <td>0.497050</td>\n",
       "    </tr>\n",
       "    <tr>\n",
       "      <th>min</th>\n",
       "      <td>18.000000</td>\n",
       "      <td>0.000000</td>\n",
       "      <td>0.0</td>\n",
       "      <td>2.105578e+07</td>\n",
       "      <td>2010.000000</td>\n",
       "      <td>1.000000</td>\n",
       "      <td>0.000000</td>\n",
       "      <td>0.000000</td>\n",
       "    </tr>\n",
       "    <tr>\n",
       "      <th>25%</th>\n",
       "      <td>29.000000</td>\n",
       "      <td>8.000000</td>\n",
       "      <td>0.0</td>\n",
       "      <td>2.636224e+07</td>\n",
       "      <td>2016.000000</td>\n",
       "      <td>3.000000</td>\n",
       "      <td>28.000000</td>\n",
       "      <td>0.000000</td>\n",
       "    </tr>\n",
       "    <tr>\n",
       "      <th>50%</th>\n",
       "      <td>64.000000</td>\n",
       "      <td>12.000000</td>\n",
       "      <td>0.0</td>\n",
       "      <td>2.851632e+07</td>\n",
       "      <td>2017.000000</td>\n",
       "      <td>4.000000</td>\n",
       "      <td>36.000000</td>\n",
       "      <td>1.000000</td>\n",
       "    </tr>\n",
       "    <tr>\n",
       "      <th>75%</th>\n",
       "      <td>75.000000</td>\n",
       "      <td>15.000000</td>\n",
       "      <td>0.0</td>\n",
       "      <td>2.976877e+07</td>\n",
       "      <td>2019.000000</td>\n",
       "      <td>10.000000</td>\n",
       "      <td>41.500000</td>\n",
       "      <td>1.000000</td>\n",
       "    </tr>\n",
       "    <tr>\n",
       "      <th>max</th>\n",
       "      <td>81.000000</td>\n",
       "      <td>29.000000</td>\n",
       "      <td>0.0</td>\n",
       "      <td>3.151530e+07</td>\n",
       "      <td>2019.000000</td>\n",
       "      <td>12.000000</td>\n",
       "      <td>73.000000</td>\n",
       "      <td>1.000000</td>\n",
       "    </tr>\n",
       "  </tbody>\n",
       "</table>\n",
       "</div>"
      ],
      "text/plain": [
       "       pedido.data.attributes.age  pedido.data.attributes.diagnostic_main  \\\n",
       "count                   51.000000                               51.000000   \n",
       "mean                    55.039216                               12.764706   \n",
       "std                     21.981775                                5.911305   \n",
       "min                     18.000000                                0.000000   \n",
       "25%                     29.000000                                8.000000   \n",
       "50%                     64.000000                               12.000000   \n",
       "75%                     75.000000                               15.000000   \n",
       "max                     81.000000                               29.000000   \n",
       "\n",
       "       pedido.data.attributes.gender      articulo  \\\n",
       "count                           51.0  5.100000e+01   \n",
       "mean                             0.0  2.789015e+07   \n",
       "std                              0.0  2.586429e+06   \n",
       "min                              0.0  2.105578e+07   \n",
       "25%                              0.0  2.636224e+07   \n",
       "50%                              0.0  2.851632e+07   \n",
       "75%                              0.0  2.976877e+07   \n",
       "max                              0.0  3.151530e+07   \n",
       "\n",
       "       respuesta.articlesRevisedYear  respuesta.articlesRevisedMonth  \\\n",
       "count                      51.000000                       51.000000   \n",
       "mean                     2016.686275                        5.862745   \n",
       "std                         2.760364                        3.852374   \n",
       "min                      2010.000000                        1.000000   \n",
       "25%                      2016.000000                        3.000000   \n",
       "50%                      2017.000000                        4.000000   \n",
       "75%                      2019.000000                       10.000000   \n",
       "max                      2019.000000                       12.000000   \n",
       "\n",
       "       respuesta.pubmed_keys   utilidad  \n",
       "count              51.000000  51.000000  \n",
       "mean               36.372549   0.588235  \n",
       "std                13.795595   0.497050  \n",
       "min                 0.000000   0.000000  \n",
       "25%                28.000000   0.000000  \n",
       "50%                36.000000   1.000000  \n",
       "75%                41.500000   1.000000  \n",
       "max                73.000000   1.000000  "
      ]
     },
     "execution_count": 14,
     "metadata": {},
     "output_type": "execute_result"
    }
   ],
   "source": [
    "dfDataSetComplete.describe()"
   ]
  },
  {
   "cell_type": "markdown",
   "metadata": {},
   "source": [
    "We check the number of results"
   ]
  },
  {
   "cell_type": "code",
   "execution_count": 15,
   "metadata": {},
   "outputs": [
    {
     "data": {
      "text/plain": [
       "utilidad\n",
       "0.0    21\n",
       "1.0    30\n",
       "dtype: int64"
      ]
     },
     "execution_count": 15,
     "metadata": {},
     "output_type": "execute_result"
    }
   ],
   "source": [
    " dfDataSetComplete.groupby('utilidad').size()"
   ]
  },
  {
   "cell_type": "markdown",
   "metadata": {},
   "source": [
    "Choosed \"age\", \"diagnostic_main\", \"year\", \"pubmed_keys\" and \"articulo\" attributes (based on PCA study)"
   ]
  },
  {
   "cell_type": "code",
   "execution_count": 16,
   "metadata": {},
   "outputs": [
    {
     "data": {
      "text/plain": [
       "(51, 5)"
      ]
     },
     "execution_count": 16,
     "metadata": {},
     "output_type": "execute_result"
    }
   ],
   "source": [
    "dataToTrain = dfDataSetComplete[[\n",
    "    \"pedido.data.attributes.age\",\n",
    "    \"pedido.data.attributes.diagnostic_main\",\n",
    "    \"respuesta.articlesRevisedYear\",\n",
    "    \"respuesta.pubmed_keys\",\n",
    "    \"articulo\",\n",
    "    \"utilidad\"\n",
    "]]\n",
    "\n",
    "\n",
    "X = np.array(dataToTrain.drop(['utilidad'],1))\n",
    "y = np.array(dataToTrain['utilidad'])\n",
    "X.shape"
   ]
  },
  {
   "cell_type": "code",
   "execution_count": 17,
   "metadata": {},
   "outputs": [],
   "source": [
    "X_train, X_test, y_train, y_test = train_test_split(X, y, random_state=0)"
   ]
  },
  {
   "cell_type": "code",
   "execution_count": 18,
   "metadata": {},
   "outputs": [
    {
     "data": {
      "text/plain": [
       "0.6052631578947368"
      ]
     },
     "execution_count": 18,
     "metadata": {},
     "output_type": "execute_result"
    }
   ],
   "source": [
    "model = linear_model.LogisticRegression()\n",
    "model.fit(X_train,y_train)\n",
    " \n",
    "model.score(X_train,y_train)"
   ]
  },
  {
   "cell_type": "code",
   "execution_count": 19,
   "metadata": {},
   "outputs": [
    {
     "name": "stdout",
     "output_type": "stream",
     "text": [
      "Logistic Regression: 0.600000 (0.181812)\n"
     ]
    }
   ],
   "source": [
    "# see: https://es.wikipedia.org/wiki/Validaci%C3%B3n_cruzada\n",
    "kfold = model_selection.KFold(n_splits=10)\n",
    "cv_results = model_selection.cross_val_score(model, X_train, y_train, cv=kfold, scoring='accuracy')\n",
    "msg = \"%s: %f (%f)\" % (\"Logistic Regression\", cv_results.mean(), cv_results.std())\n",
    "print(msg)"
   ]
  },
  {
   "cell_type": "code",
   "execution_count": 20,
   "metadata": {},
   "outputs": [
    {
     "name": "stdout",
     "output_type": "stream",
     "text": [
      "0.5384615384615384\n"
     ]
    }
   ],
   "source": [
    "predictions = model.predict(X_test)\n",
    "print(accuracy_score(y_test, predictions))"
   ]
  },
  {
   "cell_type": "code",
   "execution_count": 21,
   "metadata": {},
   "outputs": [],
   "source": [
    "import seaborn as sn\n",
    "import matplotlib.pyplot as plt\n",
    "from sklearn.metrics import confusion_matrix "
   ]
  },
  {
   "cell_type": "code",
   "execution_count": 22,
   "metadata": {},
   "outputs": [
    {
     "data": {
      "image/png": "[encoded data removed]",
      "text/plain": [
       "<Figure size 432x288 with 2 Axes>"
      ]
     },
     "metadata": {},
     "output_type": "display_data"
    }
   ],
   "source": [
    "cf = confusion_matrix(y_test, predictions)\n",
    "\n",
    "df_cm = pd.DataFrame(cf, range(2), range(2))\n",
    "sn.set(font_scale=1.4) # for label size\n",
    "sn.heatmap(df_cm, annot=True, annot_kws={\"size\": 16}) # font size\n",
    "\n",
    "plt.show()"
   ]
  },
  {
   "cell_type": "markdown",
   "metadata": {},
   "source": [
    "## Run Prediction"
   ]
  },
  {
   "cell_type": "code",
   "execution_count": 23,
   "metadata": {},
   "outputs": [
    {
     "data": {
      "text/plain": [
       "array([1., 1., 1., ..., 1., 1., 1.])"
      ]
     },
     "execution_count": 23,
     "metadata": {},
     "output_type": "execute_result"
    }
   ],
   "source": [
    "result = model.predict(dfDataSetToPredict[[\n",
    "    \"pedido.data.attributes.age\",\n",
    "    \"pedido.data.attributes.diagnostic_main\",\n",
    "    \"respuesta.articlesRevisedYear\",\n",
    "    \"respuesta.pubmed_keys\",\n",
    "    \"articulo\"\n",
    "]])\n",
    "\n",
    "result"
   ]
  },
  {
   "cell_type": "code",
   "execution_count": null,
   "metadata": {},
   "outputs": [],
   "source": []
  }
 ],
 "metadata": {
  "kernelspec": {
   "display_name": "Python 3",
   "language": "python",
   "name": "python3"
  },
  "language_info": {
   "codemirror_mode": {
    "name": "ipython",
    "version": 3
   },
   "file_extension": ".py",
   "mimetype": "text/x-python",
   "name": "python",
   "nbconvert_exporter": "python",
   "pygments_lexer": "ipython3",
   "version": "3.7.6"
  }
 },
 "nbformat": 4,
 "nbformat_minor": 4
}

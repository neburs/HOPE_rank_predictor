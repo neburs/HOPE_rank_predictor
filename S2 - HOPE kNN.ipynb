{
 "cells": [
  {
   "cell_type": "markdown",
   "metadata": {},
   "source": [
    "## Import data from DB."
   ]
  },
  {
   "cell_type": "code",
   "execution_count": 1,
   "metadata": {},
   "outputs": [],
   "source": [
    "import pandas as pd\n",
    "import numpy as np\n"
   ]
  },
  {
   "cell_type": "code",
   "execution_count": 2,
   "metadata": {},
   "outputs": [
    {
     "name": "stdout",
     "output_type": "stream",
     "text": [
      "1243\n"
     ]
    }
   ],
   "source": [
    "dfOrg = pd.read_csv('hope_dataset_cleaned.csv')  \n",
    "\n",
    "print(dfOrg.shape[0])"
   ]
  },
  {
   "cell_type": "code",
   "execution_count": 3,
   "metadata": {},
   "outputs": [
    {
     "data": {
      "text/html": [
       "<div>\n",
       "<style scoped>\n",
       "    .dataframe tbody tr th:only-of-type {\n",
       "        vertical-align: middle;\n",
       "    }\n",
       "\n",
       "    .dataframe tbody tr th {\n",
       "        vertical-align: top;\n",
       "    }\n",
       "\n",
       "    .dataframe thead th {\n",
       "        text-align: right;\n",
       "    }\n",
       "</style>\n",
       "<table border=\"1\" class=\"dataframe\">\n",
       "  <thead>\n",
       "    <tr style=\"text-align: right;\">\n",
       "      <th></th>\n",
       "      <th>pedido.data.attributes.age</th>\n",
       "      <th>pedido.data.attributes.diagnostic_main</th>\n",
       "      <th>pedido.data.attributes.gender</th>\n",
       "      <th>articulo</th>\n",
       "      <th>respuesta.articlesRevisedYear</th>\n",
       "      <th>respuesta.articlesRevisedMonth</th>\n",
       "      <th>respuesta.pubmed_keys</th>\n",
       "      <th>utilidad</th>\n",
       "    </tr>\n",
       "  </thead>\n",
       "  <tbody>\n",
       "    <tr>\n",
       "      <th>0</th>\n",
       "      <td>75.0</td>\n",
       "      <td>FISTULA PERITONEAL</td>\n",
       "      <td>male</td>\n",
       "      <td>27395425</td>\n",
       "      <td>2018</td>\n",
       "      <td>1</td>\n",
       "      <td>Abdomen,Adenocarcinoma,Antiemetics,Blood Cultu...</td>\n",
       "      <td>1.0</td>\n",
       "    </tr>\n",
       "    <tr>\n",
       "      <th>1</th>\n",
       "      <td>75.0</td>\n",
       "      <td>FISTULA PERITONEAL</td>\n",
       "      <td>male</td>\n",
       "      <td>28560554</td>\n",
       "      <td>2018</td>\n",
       "      <td>4</td>\n",
       "      <td>Abdomen,Adenocarcinoma,Antiemetics,Blood Cultu...</td>\n",
       "      <td>NaN</td>\n",
       "    </tr>\n",
       "    <tr>\n",
       "      <th>2</th>\n",
       "      <td>75.0</td>\n",
       "      <td>FISTULA PERITONEAL</td>\n",
       "      <td>male</td>\n",
       "      <td>28641726</td>\n",
       "      <td>2017</td>\n",
       "      <td>12</td>\n",
       "      <td>Abdomen,Adenocarcinoma,Antiemetics,Blood Cultu...</td>\n",
       "      <td>NaN</td>\n",
       "    </tr>\n",
       "    <tr>\n",
       "      <th>3</th>\n",
       "      <td>75.0</td>\n",
       "      <td>FISTULA PERITONEAL</td>\n",
       "      <td>male</td>\n",
       "      <td>26245344</td>\n",
       "      <td>2016</td>\n",
       "      <td>12</td>\n",
       "      <td>Abdomen,Adenocarcinoma,Antiemetics,Blood Cultu...</td>\n",
       "      <td>NaN</td>\n",
       "    </tr>\n",
       "    <tr>\n",
       "      <th>4</th>\n",
       "      <td>75.0</td>\n",
       "      <td>FISTULA PERITONEAL</td>\n",
       "      <td>male</td>\n",
       "      <td>28942543</td>\n",
       "      <td>2018</td>\n",
       "      <td>6</td>\n",
       "      <td>Abdomen,Adenocarcinoma,Antiemetics,Blood Cultu...</td>\n",
       "      <td>NaN</td>\n",
       "    </tr>\n",
       "    <tr>\n",
       "      <th>5</th>\n",
       "      <td>75.0</td>\n",
       "      <td>FISTULA PERITONEAL</td>\n",
       "      <td>male</td>\n",
       "      <td>24782153</td>\n",
       "      <td>2014</td>\n",
       "      <td>6</td>\n",
       "      <td>Abdomen,Adenocarcinoma,Antiemetics,Blood Cultu...</td>\n",
       "      <td>NaN</td>\n",
       "    </tr>\n",
       "    <tr>\n",
       "      <th>6</th>\n",
       "      <td>75.0</td>\n",
       "      <td>FISTULA PERITONEAL</td>\n",
       "      <td>male</td>\n",
       "      <td>28002229</td>\n",
       "      <td>2018</td>\n",
       "      <td>9</td>\n",
       "      <td>Abdomen,Adenocarcinoma,Antiemetics,Blood Cultu...</td>\n",
       "      <td>NaN</td>\n",
       "    </tr>\n",
       "    <tr>\n",
       "      <th>7</th>\n",
       "      <td>75.0</td>\n",
       "      <td>FISTULA PERITONEAL</td>\n",
       "      <td>male</td>\n",
       "      <td>27505109</td>\n",
       "      <td>2017</td>\n",
       "      <td>4</td>\n",
       "      <td>Abdomen,Adenocarcinoma,Antiemetics,Blood Cultu...</td>\n",
       "      <td>NaN</td>\n",
       "    </tr>\n",
       "    <tr>\n",
       "      <th>8</th>\n",
       "      <td>75.0</td>\n",
       "      <td>FISTULA PERITONEAL</td>\n",
       "      <td>male</td>\n",
       "      <td>24850546</td>\n",
       "      <td>2015</td>\n",
       "      <td>1</td>\n",
       "      <td>Abdomen,Adenocarcinoma,Antiemetics,Blood Cultu...</td>\n",
       "      <td>NaN</td>\n",
       "    </tr>\n",
       "    <tr>\n",
       "      <th>9</th>\n",
       "      <td>75.0</td>\n",
       "      <td>FISTULA PERITONEAL</td>\n",
       "      <td>male</td>\n",
       "      <td>29371050</td>\n",
       "      <td>2019</td>\n",
       "      <td>4</td>\n",
       "      <td>Abdomen,Adenocarcinoma,Antiemetics,Blood Cultu...</td>\n",
       "      <td>NaN</td>\n",
       "    </tr>\n",
       "  </tbody>\n",
       "</table>\n",
       "</div>"
      ],
      "text/plain": [
       "   pedido.data.attributes.age pedido.data.attributes.diagnostic_main  \\\n",
       "0                        75.0                     FISTULA PERITONEAL   \n",
       "1                        75.0                     FISTULA PERITONEAL   \n",
       "2                        75.0                     FISTULA PERITONEAL   \n",
       "3                        75.0                     FISTULA PERITONEAL   \n",
       "4                        75.0                     FISTULA PERITONEAL   \n",
       "5                        75.0                     FISTULA PERITONEAL   \n",
       "6                        75.0                     FISTULA PERITONEAL   \n",
       "7                        75.0                     FISTULA PERITONEAL   \n",
       "8                        75.0                     FISTULA PERITONEAL   \n",
       "9                        75.0                     FISTULA PERITONEAL   \n",
       "\n",
       "  pedido.data.attributes.gender  articulo  respuesta.articlesRevisedYear  \\\n",
       "0                          male  27395425                           2018   \n",
       "1                          male  28560554                           2018   \n",
       "2                          male  28641726                           2017   \n",
       "3                          male  26245344                           2016   \n",
       "4                          male  28942543                           2018   \n",
       "5                          male  24782153                           2014   \n",
       "6                          male  28002229                           2018   \n",
       "7                          male  27505109                           2017   \n",
       "8                          male  24850546                           2015   \n",
       "9                          male  29371050                           2019   \n",
       "\n",
       "   respuesta.articlesRevisedMonth  \\\n",
       "0                               1   \n",
       "1                               4   \n",
       "2                              12   \n",
       "3                              12   \n",
       "4                               6   \n",
       "5                               6   \n",
       "6                               9   \n",
       "7                               4   \n",
       "8                               1   \n",
       "9                               4   \n",
       "\n",
       "                               respuesta.pubmed_keys  utilidad  \n",
       "0  Abdomen,Adenocarcinoma,Antiemetics,Blood Cultu...       1.0  \n",
       "1  Abdomen,Adenocarcinoma,Antiemetics,Blood Cultu...       NaN  \n",
       "2  Abdomen,Adenocarcinoma,Antiemetics,Blood Cultu...       NaN  \n",
       "3  Abdomen,Adenocarcinoma,Antiemetics,Blood Cultu...       NaN  \n",
       "4  Abdomen,Adenocarcinoma,Antiemetics,Blood Cultu...       NaN  \n",
       "5  Abdomen,Adenocarcinoma,Antiemetics,Blood Cultu...       NaN  \n",
       "6  Abdomen,Adenocarcinoma,Antiemetics,Blood Cultu...       NaN  \n",
       "7  Abdomen,Adenocarcinoma,Antiemetics,Blood Cultu...       NaN  \n",
       "8  Abdomen,Adenocarcinoma,Antiemetics,Blood Cultu...       NaN  \n",
       "9  Abdomen,Adenocarcinoma,Antiemetics,Blood Cultu...       NaN  "
      ]
     },
     "execution_count": 3,
     "metadata": {},
     "output_type": "execute_result"
    }
   ],
   "source": [
    "dfOrg.head(10)"
   ]
  },
  {
   "cell_type": "markdown",
   "metadata": {},
   "source": [
    "## Transform (factorice) from Categories to continuous atributes\n",
    "\n",
    "Transform 'pedido.data.attributes.diagnostic_main' atribute"
   ]
  },
  {
   "cell_type": "code",
   "execution_count": 4,
   "metadata": {},
   "outputs": [
    {
     "name": "stdout",
     "output_type": "stream",
     "text": [
      "total: 31\n"
     ]
    },
    {
     "data": {
      "text/plain": [
       "CETOACIDOSIS DIABETICA         250\n",
       "REHABILITACION NEUROLOGICA     180\n",
       "INFECCION DE PARTES BLANDAS    170\n",
       "DOLOR ABDOMINAL                131\n",
       "INSUFICIENCIA RESPIRATORIA      90\n",
       "FISTULA PERITONEAL              40\n",
       "DIFICULTAD RESPIRATORIA         30\n",
       "REACCION ALERGICA               30\n",
       "INFECCION URINARIA              30\n",
       "CA GASTRICO                     20\n",
       "LEGRADO                         20\n",
       "ACV.ISQUEMICO                   20\n",
       "CEFALEA INTENSA                 20\n",
       "PROLAPSO                        20\n",
       "SINDROME FEBRIL                 20\n",
       "TORACOTOMIA                     11\n",
       "ABDOMEN AGUDO                   11\n",
       "ANEMIA                          10\n",
       "POLITRAUMATISMO                 10\n",
       "ADENOMA DE PROSTATA             10\n",
       "TEP                             10\n",
       "DOLOR                           10\n",
       "DERMOLIPECTOMIA                 10\n",
       "INSUFICIENCIA CARDIACA          10\n",
       "METRORRAGIA                     10\n",
       "HEMORRAGIA DIGESTIVA            10\n",
       "DIABETES                        10\n",
       "LUXACION COLUMNA CERVICAL       10\n",
       "DISNEA                          10\n",
       "ARTRITIS SEPTICA                10\n",
       "NEUMONIA                        10\n",
       "Name: pedido.data.attributes.diagnostic_main, dtype: int64"
      ]
     },
     "execution_count": 4,
     "metadata": {},
     "output_type": "execute_result"
    }
   ],
   "source": [
    "dfKNN = dfOrg\n",
    "\n",
    "categoriesORGDiagnosticMain = dfKNN['pedido.data.attributes.diagnostic_main'].value_counts()\n",
    "\n",
    "print(\"total: \" + str(categoriesORGDiagnosticMain.size))\n",
    "\n",
    "categoriesORGDiagnosticMain"
   ]
  },
  {
   "cell_type": "code",
   "execution_count": 5,
   "metadata": {},
   "outputs": [],
   "source": [
    "dataDiagnosticMain, categoriesDiagnosticMain = pd.factorize(dfKNN['pedido.data.attributes.diagnostic_main'])\n",
    "\n",
    "dfKNN['pedido.data.attributes.diagnostic_main'] = dataDiagnosticMain"
   ]
  },
  {
   "cell_type": "markdown",
   "metadata": {},
   "source": [
    "Transform 'gender' atribute"
   ]
  },
  {
   "cell_type": "code",
   "execution_count": 6,
   "metadata": {},
   "outputs": [],
   "source": [
    "dataGender, categoriesGender = pd.factorize(dfKNN['pedido.data.attributes.gender'])\n",
    "\n",
    "dfKNN['pedido.data.attributes.gender'] = dataGender"
   ]
  },
  {
   "cell_type": "markdown",
   "metadata": {},
   "source": [
    "Transform 'respuesta.pubmed_keys' atribute"
   ]
  },
  {
   "cell_type": "code",
   "execution_count": 7,
   "metadata": {},
   "outputs": [
    {
     "name": "stdout",
     "output_type": "stream",
     "text": [
      "total: 80\n"
     ]
    }
   ],
   "source": [
    "categoriesORGPubMedKeys = dfKNN['respuesta.pubmed_keys'].value_counts()\n",
    "\n",
    "print(\"total: \" + str(categoriesORGPubMedKeys.size))"
   ]
  },
  {
   "cell_type": "code",
   "execution_count": 8,
   "metadata": {},
   "outputs": [],
   "source": [
    "dataPubMedKeys, categoriesPubMedKeys = pd.factorize(dfKNN['respuesta.pubmed_keys'])\n",
    "\n",
    "dfKNN['respuesta.pubmed_keys'] = dataPubMedKeys"
   ]
  },
  {
   "cell_type": "code",
   "execution_count": 9,
   "metadata": {},
   "outputs": [
    {
     "data": {
      "text/html": [
       "<div>\n",
       "<style scoped>\n",
       "    .dataframe tbody tr th:only-of-type {\n",
       "        vertical-align: middle;\n",
       "    }\n",
       "\n",
       "    .dataframe tbody tr th {\n",
       "        vertical-align: top;\n",
       "    }\n",
       "\n",
       "    .dataframe thead th {\n",
       "        text-align: right;\n",
       "    }\n",
       "</style>\n",
       "<table border=\"1\" class=\"dataframe\">\n",
       "  <thead>\n",
       "    <tr style=\"text-align: right;\">\n",
       "      <th></th>\n",
       "      <th>pedido.data.attributes.age</th>\n",
       "      <th>pedido.data.attributes.diagnostic_main</th>\n",
       "      <th>pedido.data.attributes.gender</th>\n",
       "      <th>articulo</th>\n",
       "      <th>respuesta.articlesRevisedYear</th>\n",
       "      <th>respuesta.articlesRevisedMonth</th>\n",
       "      <th>respuesta.pubmed_keys</th>\n",
       "      <th>utilidad</th>\n",
       "    </tr>\n",
       "  </thead>\n",
       "  <tbody>\n",
       "    <tr>\n",
       "      <th>0</th>\n",
       "      <td>75.0</td>\n",
       "      <td>0</td>\n",
       "      <td>0</td>\n",
       "      <td>27395425</td>\n",
       "      <td>2018</td>\n",
       "      <td>1</td>\n",
       "      <td>0</td>\n",
       "      <td>1.0</td>\n",
       "    </tr>\n",
       "    <tr>\n",
       "      <th>1</th>\n",
       "      <td>75.0</td>\n",
       "      <td>0</td>\n",
       "      <td>0</td>\n",
       "      <td>28560554</td>\n",
       "      <td>2018</td>\n",
       "      <td>4</td>\n",
       "      <td>0</td>\n",
       "      <td>NaN</td>\n",
       "    </tr>\n",
       "    <tr>\n",
       "      <th>2</th>\n",
       "      <td>75.0</td>\n",
       "      <td>0</td>\n",
       "      <td>0</td>\n",
       "      <td>28641726</td>\n",
       "      <td>2017</td>\n",
       "      <td>12</td>\n",
       "      <td>0</td>\n",
       "      <td>NaN</td>\n",
       "    </tr>\n",
       "    <tr>\n",
       "      <th>3</th>\n",
       "      <td>75.0</td>\n",
       "      <td>0</td>\n",
       "      <td>0</td>\n",
       "      <td>26245344</td>\n",
       "      <td>2016</td>\n",
       "      <td>12</td>\n",
       "      <td>0</td>\n",
       "      <td>NaN</td>\n",
       "    </tr>\n",
       "    <tr>\n",
       "      <th>4</th>\n",
       "      <td>75.0</td>\n",
       "      <td>0</td>\n",
       "      <td>0</td>\n",
       "      <td>28942543</td>\n",
       "      <td>2018</td>\n",
       "      <td>6</td>\n",
       "      <td>0</td>\n",
       "      <td>NaN</td>\n",
       "    </tr>\n",
       "    <tr>\n",
       "      <th>5</th>\n",
       "      <td>75.0</td>\n",
       "      <td>0</td>\n",
       "      <td>0</td>\n",
       "      <td>24782153</td>\n",
       "      <td>2014</td>\n",
       "      <td>6</td>\n",
       "      <td>0</td>\n",
       "      <td>NaN</td>\n",
       "    </tr>\n",
       "    <tr>\n",
       "      <th>6</th>\n",
       "      <td>75.0</td>\n",
       "      <td>0</td>\n",
       "      <td>0</td>\n",
       "      <td>28002229</td>\n",
       "      <td>2018</td>\n",
       "      <td>9</td>\n",
       "      <td>0</td>\n",
       "      <td>NaN</td>\n",
       "    </tr>\n",
       "    <tr>\n",
       "      <th>7</th>\n",
       "      <td>75.0</td>\n",
       "      <td>0</td>\n",
       "      <td>0</td>\n",
       "      <td>27505109</td>\n",
       "      <td>2017</td>\n",
       "      <td>4</td>\n",
       "      <td>0</td>\n",
       "      <td>NaN</td>\n",
       "    </tr>\n",
       "    <tr>\n",
       "      <th>8</th>\n",
       "      <td>75.0</td>\n",
       "      <td>0</td>\n",
       "      <td>0</td>\n",
       "      <td>24850546</td>\n",
       "      <td>2015</td>\n",
       "      <td>1</td>\n",
       "      <td>0</td>\n",
       "      <td>NaN</td>\n",
       "    </tr>\n",
       "    <tr>\n",
       "      <th>9</th>\n",
       "      <td>75.0</td>\n",
       "      <td>0</td>\n",
       "      <td>0</td>\n",
       "      <td>29371050</td>\n",
       "      <td>2019</td>\n",
       "      <td>4</td>\n",
       "      <td>0</td>\n",
       "      <td>NaN</td>\n",
       "    </tr>\n",
       "  </tbody>\n",
       "</table>\n",
       "</div>"
      ],
      "text/plain": [
       "   pedido.data.attributes.age  pedido.data.attributes.diagnostic_main  \\\n",
       "0                        75.0                                       0   \n",
       "1                        75.0                                       0   \n",
       "2                        75.0                                       0   \n",
       "3                        75.0                                       0   \n",
       "4                        75.0                                       0   \n",
       "5                        75.0                                       0   \n",
       "6                        75.0                                       0   \n",
       "7                        75.0                                       0   \n",
       "8                        75.0                                       0   \n",
       "9                        75.0                                       0   \n",
       "\n",
       "   pedido.data.attributes.gender  articulo  respuesta.articlesRevisedYear  \\\n",
       "0                              0  27395425                           2018   \n",
       "1                              0  28560554                           2018   \n",
       "2                              0  28641726                           2017   \n",
       "3                              0  26245344                           2016   \n",
       "4                              0  28942543                           2018   \n",
       "5                              0  24782153                           2014   \n",
       "6                              0  28002229                           2018   \n",
       "7                              0  27505109                           2017   \n",
       "8                              0  24850546                           2015   \n",
       "9                              0  29371050                           2019   \n",
       "\n",
       "   respuesta.articlesRevisedMonth  respuesta.pubmed_keys  utilidad  \n",
       "0                               1                      0       1.0  \n",
       "1                               4                      0       NaN  \n",
       "2                              12                      0       NaN  \n",
       "3                              12                      0       NaN  \n",
       "4                               6                      0       NaN  \n",
       "5                               6                      0       NaN  \n",
       "6                               9                      0       NaN  \n",
       "7                               4                      0       NaN  \n",
       "8                               1                      0       NaN  \n",
       "9                               4                      0       NaN  "
      ]
     },
     "execution_count": 9,
     "metadata": {},
     "output_type": "execute_result"
    }
   ],
   "source": [
    "dfKNN.head(10)"
   ]
  },
  {
   "cell_type": "code",
   "execution_count": 10,
   "metadata": {},
   "outputs": [
    {
     "name": "stdout",
     "output_type": "stream",
     "text": [
      "age NaN => 10\n",
      "diagnostic_main NaN => 0\n",
      "gender NaN => 0\n",
      "articulo NaN => 0\n",
      "articlesRevisedYear NaN => 0\n",
      "articlesRevisedMonth NaN => 0\n",
      "pubmed_keys NaN => 0\n",
      "utilidad NaN => 1192\n"
     ]
    }
   ],
   "source": [
    "print(\"age NaN => \" + str(dfKNN[pd.isnull(dfKNN['pedido.data.attributes.age'])].shape[0]))\n",
    "print(\"diagnostic_main NaN => \" + str(dfKNN[pd.isnull(dfKNN['pedido.data.attributes.diagnostic_main'])].shape[0]))\n",
    "print(\"gender NaN => \" + str(dfKNN[pd.isnull(dfKNN['pedido.data.attributes.gender'])].shape[0]))\n",
    "print(\"articulo NaN => \" + str(dfKNN[pd.isnull(dfKNN['articulo'])].shape[0]))\n",
    "print(\"articlesRevisedYear NaN => \" + str(dfKNN[pd.isnull(dfKNN['respuesta.articlesRevisedYear'])].shape[0]))\n",
    "print(\"articlesRevisedMonth NaN => \" + str(dfKNN[pd.isnull(dfKNN['respuesta.articlesRevisedMonth'])].shape[0]))\n",
    "print(\"pubmed_keys NaN => \" + str(dfKNN[pd.isnull(dfKNN['respuesta.pubmed_keys'])].shape[0]))\n",
    "print(\"utilidad NaN => \" + str(dfKNN[pd.isnull(dfKNN['utilidad'])].shape[0]))"
   ]
  },
  {
   "cell_type": "markdown",
   "metadata": {},
   "source": [
    "Remove row with age eq NaN"
   ]
  },
  {
   "cell_type": "code",
   "execution_count": 11,
   "metadata": {},
   "outputs": [],
   "source": [
    "dfKNN = dfKNN[pd.notnull(dfKNN['pedido.data.attributes.age'])]"
   ]
  },
  {
   "cell_type": "markdown",
   "metadata": {},
   "source": [
    "## Separe data by utilidad is defined"
   ]
  },
  {
   "cell_type": "code",
   "execution_count": 12,
   "metadata": {},
   "outputs": [
    {
     "name": "stdout",
     "output_type": "stream",
     "text": [
      "51\n",
      "1182\n"
     ]
    }
   ],
   "source": [
    "dfDataSetComplete = dfKNN[pd.notnull(dfKNN['utilidad'])]\n",
    "\n",
    "print(dfDataSetComplete.shape[0])\n",
    "\n",
    "dfDataSetToPredict = dfKNN[pd.isnull(dfKNN['utilidad'])]\n",
    "\n",
    "print(dfDataSetToPredict.shape[0])"
   ]
  },
  {
   "cell_type": "code",
   "execution_count": 13,
   "metadata": {},
   "outputs": [
    {
     "data": {
      "text/html": [
       "<div>\n",
       "<style scoped>\n",
       "    .dataframe tbody tr th:only-of-type {\n",
       "        vertical-align: middle;\n",
       "    }\n",
       "\n",
       "    .dataframe tbody tr th {\n",
       "        vertical-align: top;\n",
       "    }\n",
       "\n",
       "    .dataframe thead th {\n",
       "        text-align: right;\n",
       "    }\n",
       "</style>\n",
       "<table border=\"1\" class=\"dataframe\">\n",
       "  <thead>\n",
       "    <tr style=\"text-align: right;\">\n",
       "      <th></th>\n",
       "      <th>pedido.data.attributes.age</th>\n",
       "      <th>pedido.data.attributes.diagnostic_main</th>\n",
       "      <th>pedido.data.attributes.gender</th>\n",
       "      <th>articulo</th>\n",
       "      <th>respuesta.articlesRevisedYear</th>\n",
       "      <th>respuesta.articlesRevisedMonth</th>\n",
       "      <th>respuesta.pubmed_keys</th>\n",
       "      <th>utilidad</th>\n",
       "    </tr>\n",
       "  </thead>\n",
       "  <tbody>\n",
       "    <tr>\n",
       "      <th>0</th>\n",
       "      <td>75.0</td>\n",
       "      <td>0</td>\n",
       "      <td>0</td>\n",
       "      <td>27395425</td>\n",
       "      <td>2018</td>\n",
       "      <td>1</td>\n",
       "      <td>0</td>\n",
       "      <td>1.0</td>\n",
       "    </tr>\n",
       "    <tr>\n",
       "      <th>32</th>\n",
       "      <td>75.0</td>\n",
       "      <td>0</td>\n",
       "      <td>0</td>\n",
       "      <td>28694230</td>\n",
       "      <td>2017</td>\n",
       "      <td>12</td>\n",
       "      <td>3</td>\n",
       "      <td>1.0</td>\n",
       "    </tr>\n",
       "    <tr>\n",
       "      <th>230</th>\n",
       "      <td>36.0</td>\n",
       "      <td>6</td>\n",
       "      <td>0</td>\n",
       "      <td>28805236</td>\n",
       "      <td>2011</td>\n",
       "      <td>3</td>\n",
       "      <td>21</td>\n",
       "      <td>0.0</td>\n",
       "    </tr>\n",
       "    <tr>\n",
       "      <th>290</th>\n",
       "      <td>51.0</td>\n",
       "      <td>10</td>\n",
       "      <td>0</td>\n",
       "      <td>27537587</td>\n",
       "      <td>2011</td>\n",
       "      <td>3</td>\n",
       "      <td>23</td>\n",
       "      <td>0.0</td>\n",
       "    </tr>\n",
       "    <tr>\n",
       "      <th>299</th>\n",
       "      <td>51.0</td>\n",
       "      <td>10</td>\n",
       "      <td>0</td>\n",
       "      <td>28148670</td>\n",
       "      <td>2019</td>\n",
       "      <td>3</td>\n",
       "      <td>23</td>\n",
       "      <td>1.0</td>\n",
       "    </tr>\n",
       "    <tr>\n",
       "      <th>300</th>\n",
       "      <td>18.0</td>\n",
       "      <td>11</td>\n",
       "      <td>0</td>\n",
       "      <td>25055513</td>\n",
       "      <td>2019</td>\n",
       "      <td>3</td>\n",
       "      <td>24</td>\n",
       "      <td>1.0</td>\n",
       "    </tr>\n",
       "    <tr>\n",
       "      <th>303</th>\n",
       "      <td>18.0</td>\n",
       "      <td>11</td>\n",
       "      <td>0</td>\n",
       "      <td>29279563</td>\n",
       "      <td>2017</td>\n",
       "      <td>2</td>\n",
       "      <td>24</td>\n",
       "      <td>0.0</td>\n",
       "    </tr>\n",
       "    <tr>\n",
       "      <th>304</th>\n",
       "      <td>18.0</td>\n",
       "      <td>11</td>\n",
       "      <td>0</td>\n",
       "      <td>29279563</td>\n",
       "      <td>2017</td>\n",
       "      <td>2</td>\n",
       "      <td>24</td>\n",
       "      <td>0.0</td>\n",
       "    </tr>\n",
       "    <tr>\n",
       "      <th>305</th>\n",
       "      <td>18.0</td>\n",
       "      <td>11</td>\n",
       "      <td>0</td>\n",
       "      <td>28065368</td>\n",
       "      <td>2017</td>\n",
       "      <td>11</td>\n",
       "      <td>24</td>\n",
       "      <td>1.0</td>\n",
       "    </tr>\n",
       "    <tr>\n",
       "      <th>311</th>\n",
       "      <td>76.0</td>\n",
       "      <td>12</td>\n",
       "      <td>0</td>\n",
       "      <td>30762794</td>\n",
       "      <td>2019</td>\n",
       "      <td>3</td>\n",
       "      <td>25</td>\n",
       "      <td>1.0</td>\n",
       "    </tr>\n",
       "  </tbody>\n",
       "</table>\n",
       "</div>"
      ],
      "text/plain": [
       "     pedido.data.attributes.age  pedido.data.attributes.diagnostic_main  \\\n",
       "0                          75.0                                       0   \n",
       "32                         75.0                                       0   \n",
       "230                        36.0                                       6   \n",
       "290                        51.0                                      10   \n",
       "299                        51.0                                      10   \n",
       "300                        18.0                                      11   \n",
       "303                        18.0                                      11   \n",
       "304                        18.0                                      11   \n",
       "305                        18.0                                      11   \n",
       "311                        76.0                                      12   \n",
       "\n",
       "     pedido.data.attributes.gender  articulo  respuesta.articlesRevisedYear  \\\n",
       "0                                0  27395425                           2018   \n",
       "32                               0  28694230                           2017   \n",
       "230                              0  28805236                           2011   \n",
       "290                              0  27537587                           2011   \n",
       "299                              0  28148670                           2019   \n",
       "300                              0  25055513                           2019   \n",
       "303                              0  29279563                           2017   \n",
       "304                              0  29279563                           2017   \n",
       "305                              0  28065368                           2017   \n",
       "311                              0  30762794                           2019   \n",
       "\n",
       "     respuesta.articlesRevisedMonth  respuesta.pubmed_keys  utilidad  \n",
       "0                                 1                      0       1.0  \n",
       "32                               12                      3       1.0  \n",
       "230                               3                     21       0.0  \n",
       "290                               3                     23       0.0  \n",
       "299                               3                     23       1.0  \n",
       "300                               3                     24       1.0  \n",
       "303                               2                     24       0.0  \n",
       "304                               2                     24       0.0  \n",
       "305                              11                     24       1.0  \n",
       "311                               3                     25       1.0  "
      ]
     },
     "execution_count": 13,
     "metadata": {},
     "output_type": "execute_result"
    }
   ],
   "source": [
    "dfDataSetComplete.head(10)"
   ]
  },
  {
   "cell_type": "markdown",
   "metadata": {},
   "source": [
    "## k-NN"
   ]
  },
  {
   "cell_type": "code",
   "execution_count": 14,
   "metadata": {},
   "outputs": [],
   "source": [
    "from sklearn.neighbors import KNeighborsClassifier\n",
    "from sklearn.model_selection import train_test_split\n",
    "from sklearn.preprocessing import MinMaxScaler\n",
    "from matplotlib.colors import ListedColormap\n",
    "import matplotlib.pyplot as plt"
   ]
  },
  {
   "cell_type": "code",
   "execution_count": 15,
   "metadata": {},
   "outputs": [],
   "source": [
    "# Discard 'articulo' because it is a identifier\n",
    "\n",
    "X = dfDataSetComplete[['pedido.data.attributes.age', \n",
    "       'pedido.data.attributes.diagnostic_main',\n",
    "       'pedido.data.attributes.gender', \n",
    "       'respuesta.articlesRevisedYear', \n",
    "       'respuesta.articlesRevisedMonth',\n",
    "       'respuesta.pubmed_keys']].values\n",
    "\n",
    "y = dfDataSetComplete['utilidad'].values\n",
    "\n",
    "X_train, X_test, y_train, y_test = train_test_split(X, y, random_state=0)\n"
   ]
  },
  {
   "cell_type": "code",
   "execution_count": 16,
   "metadata": {},
   "outputs": [],
   "source": [
    "scaler = MinMaxScaler()\n",
    "X_train = scaler.fit_transform(X_train)\n",
    "X_test = scaler.transform(X_test)"
   ]
  },
  {
   "cell_type": "code",
   "execution_count": 17,
   "metadata": {},
   "outputs": [],
   "source": [
    "k_range = range(1, 20)\n",
    "accuracy = []\n",
    "error = []\n",
    "for k in k_range:\n",
    "    knn = KNeighborsClassifier(n_neighbors = k)\n",
    "    knn.fit(X_train, y_train)\n",
    "    y_pred = knn.predict(X_test)\n",
    "    accuracy.append(knn.score(X_test, y_test))\n",
    "    error.append(np.mean(y_pred != y_test))\n"
   ]
  },
  {
   "cell_type": "code",
   "execution_count": 18,
   "metadata": {},
   "outputs": [
    {
     "data": {
      "text/plain": [
       "Text(0, 0.5, 'Accuracy')"
      ]
     },
     "execution_count": 18,
     "metadata": {},
     "output_type": "execute_result"
    },
    {
     "data": {
      "image/png": "[encoded data removed]",
      "text/plain": [
       "<Figure size 864x432 with 1 Axes>"
      ]
     },
     "metadata": {
      "needs_background": "light"
     },
     "output_type": "display_data"
    }
   ],
   "source": [
    "plt.figure(figsize=(12, 6))\n",
    "plt.plot(range(1, 20), accuracy, color='red', linestyle='dashed', marker='o',\n",
    "         markerfacecolor='blue', markersize=10)\n",
    "plt.title('Accuracy Rate K Value')\n",
    "plt.xlabel('K Value')\n",
    "plt.ylabel('Accuracy')"
   ]
  },
  {
   "cell_type": "code",
   "execution_count": 19,
   "metadata": {},
   "outputs": [
    {
     "data": {
      "text/plain": [
       "[0.6923076923076923,\n",
       " 0.7692307692307693,\n",
       " 0.6923076923076923,\n",
       " 0.6923076923076923,\n",
       " 0.7692307692307693,\n",
       " 0.6153846153846154,\n",
       " 0.6153846153846154,\n",
       " 0.7692307692307693,\n",
       " 0.7692307692307693,\n",
       " 0.5384615384615384,\n",
       " 0.6153846153846154,\n",
       " 0.6153846153846154,\n",
       " 0.5384615384615384,\n",
       " 0.6153846153846154,\n",
       " 0.6923076923076923,\n",
       " 0.7692307692307693,\n",
       " 0.5384615384615384,\n",
       " 0.6153846153846154,\n",
       " 0.5384615384615384]"
      ]
     },
     "execution_count": 19,
     "metadata": {},
     "output_type": "execute_result"
    }
   ],
   "source": [
    "accuracy"
   ]
  },
  {
   "cell_type": "code",
   "execution_count": 20,
   "metadata": {},
   "outputs": [
    {
     "data": {
      "text/plain": [
       "Text(0, 0.5, 'Mean Error')"
      ]
     },
     "execution_count": 20,
     "metadata": {},
     "output_type": "execute_result"
    },
    {
     "data": {
      "image/png": "[encoded data removed]",
      "text/plain": [
       "<Figure size 864x432 with 1 Axes>"
      ]
     },
     "metadata": {
      "needs_background": "light"
     },
     "output_type": "display_data"
    }
   ],
   "source": [
    "plt.figure(figsize=(12, 6))\n",
    "plt.plot(range(1, 20), error, color='red', linestyle='dashed', marker='o',\n",
    "         markerfacecolor='blue', markersize=10)\n",
    "plt.title('Error Rate K Value')\n",
    "plt.xlabel('K Value')\n",
    "plt.ylabel('Mean Error')"
   ]
  },
  {
   "cell_type": "code",
   "execution_count": 21,
   "metadata": {},
   "outputs": [
    {
     "data": {
      "text/plain": [
       "[0.3076923076923077,\n",
       " 0.23076923076923078,\n",
       " 0.3076923076923077,\n",
       " 0.3076923076923077,\n",
       " 0.23076923076923078,\n",
       " 0.38461538461538464,\n",
       " 0.38461538461538464,\n",
       " 0.23076923076923078,\n",
       " 0.23076923076923078,\n",
       " 0.46153846153846156,\n",
       " 0.38461538461538464,\n",
       " 0.38461538461538464,\n",
       " 0.46153846153846156,\n",
       " 0.38461538461538464,\n",
       " 0.3076923076923077,\n",
       " 0.23076923076923078,\n",
       " 0.46153846153846156,\n",
       " 0.38461538461538464,\n",
       " 0.46153846153846156]"
      ]
     },
     "execution_count": 21,
     "metadata": {},
     "output_type": "execute_result"
    }
   ],
   "source": [
    "error"
   ]
  },
  {
   "cell_type": "code",
   "execution_count": 22,
   "metadata": {},
   "outputs": [
    {
     "name": "stdout",
     "output_type": "stream",
     "text": [
      "Accuracy of K-NN classifier on training set: 0.74\n",
      "Accuracy of K-NN classifier on test set: 0.77\n"
     ]
    }
   ],
   "source": [
    "n_neighbors = 2\n",
    "\n",
    "knn = KNeighborsClassifier(n_neighbors)\n",
    "knn.fit(X_train, y_train)\n",
    "print('Accuracy of K-NN classifier on training set: {:.2f}'\n",
    "     .format(knn.score(X_train, y_train)))\n",
    "print('Accuracy of K-NN classifier on test set: {:.2f}'\n",
    "     .format(knn.score(X_test, y_test)))"
   ]
  },
  {
   "cell_type": "markdown",
   "metadata": {},
   "source": [
    "## Print the K-NN classification only with the attributes \"diagnostic_main\" and \"pubmed_keys\""
   ]
  },
  {
   "cell_type": "code",
   "execution_count": 23,
   "metadata": {},
   "outputs": [
    {
     "data": {
      "image/png": "[encoded data removed]",
      "text/plain": [
       "<Figure size 864x432 with 1 Axes>"
      ]
     },
     "metadata": {
      "needs_background": "light"
     },
     "output_type": "display_data"
    }
   ],
   "source": [
    "# see: https://scikit-learn.org/stable/auto_examples/neighbors/plot_classification.html\n",
    "\n",
    "X_plot = dfDataSetComplete[['pedido.data.attributes.diagnostic_main',\n",
    "       'respuesta.pubmed_keys']].values\n",
    "y_plot = dfDataSetComplete['utilidad'].values\n",
    "\n",
    "h = .02  # step size in the mesh\n",
    "\n",
    "# Create color maps\n",
    "cmap_light = ListedColormap(['orange', 'blue'])\n",
    "cmap_bold = ListedColormap(['red', 'cyan'])\n",
    "\n",
    "# we create an instance of Neighbours Classifier and fit the data.\n",
    "clf = KNeighborsClassifier(n_neighbors)\n",
    "clf.fit(X_plot, y_plot)\n",
    "\n",
    "# Plot the decision boundary. For that, we will assign a color to each\n",
    "# point in the mesh [x_min, x_max]x[y_min, y_max].\n",
    "x_min, x_max = X_plot[:, 0].min() - 1, X_plot[:, 0].max() + 1\n",
    "y_min, y_max = X_plot[:, 1].min() - 1, X_plot[:, 1].max() + 1\n",
    "xx, yy = np.meshgrid(np.arange(x_min, x_max, h),\n",
    "                     np.arange(y_min, y_max, h))\n",
    "Z = clf.predict(np.c_[xx.ravel(), yy.ravel()])\n",
    "\n",
    "# Put the result into a color plot\n",
    "Z = Z.reshape(xx.shape)\n",
    "plt.figure(figsize=(12, 6))\n",
    "plt.pcolormesh(xx, yy, Z, cmap=cmap_light)\n",
    "\n",
    "# Plot also the training points\n",
    "plt.scatter(X_plot[:, 0], X_plot[:, 1], c=y_plot, cmap=cmap_bold,\n",
    "            edgecolor='k', s=20)\n",
    "plt.xlim(xx.min(), xx.max())\n",
    "plt.ylim(yy.min(), yy.max())\n",
    "plt.title(\"2-Class classification (k = 2)\")\n",
    "\n",
    "plt.show()"
   ]
  },
  {
   "cell_type": "markdown",
   "metadata": {},
   "source": [
    "## Run Prediction"
   ]
  },
  {
   "cell_type": "code",
   "execution_count": 24,
   "metadata": {},
   "outputs": [
    {
     "data": {
      "text/plain": [
       "1       [0.0]\n",
       "2       [0.0]\n",
       "3       [0.0]\n",
       "4       [0.0]\n",
       "5       [0.0]\n",
       "        ...  \n",
       "1238    [1.0]\n",
       "1239    [1.0]\n",
       "1240    [1.0]\n",
       "1241    [1.0]\n",
       "1242    [1.0]\n",
       "Length: 1182, dtype: object"
      ]
     },
     "execution_count": 24,
     "metadata": {},
     "output_type": "execute_result"
    }
   ],
   "source": [
    "def runPrediction(row):\n",
    "    valuesrow = np.array([row.get(['pedido.data.attributes.age', \n",
    "       'pedido.data.attributes.diagnostic_main',\n",
    "       'pedido.data.attributes.gender', \n",
    "       'respuesta.articlesRevisedYear', \n",
    "       'respuesta.articlesRevisedMonth',\n",
    "       'respuesta.pubmed_keys']).values])\n",
    "    return knn.predict(valuesrow)\n",
    "\n",
    "dfDataSetToPredict.apply(runPrediction, axis=1)"
   ]
  },
  {
   "cell_type": "code",
   "execution_count": null,
   "metadata": {},
   "outputs": [],
   "source": []
  }
 ],
 "metadata": {
  "kernelspec": {
   "display_name": "Python 3",
   "language": "python",
   "name": "python3"
  },
  "language_info": {
   "codemirror_mode": {
    "name": "ipython",
    "version": 3
   },
   "file_extension": ".py",
   "mimetype": "text/x-python",
   "name": "python",
   "nbconvert_exporter": "python",
   "pygments_lexer": "ipython3",
   "version": "3.7.6"
  }
 },
 "nbformat": 4,
 "nbformat_minor": 4
}

{
 "cells": [
  {
   "cell_type": "markdown",
   "metadata": {},
   "source": [
    "## Import data from DB."
   ]
  },
  {
   "cell_type": "code",
   "execution_count": 1,
   "metadata": {},
   "outputs": [],
   "source": [
    "import pandas as pd\n",
    "import numpy as np"
   ]
  },
  {
   "cell_type": "code",
   "execution_count": 2,
   "metadata": {},
   "outputs": [
    {
     "name": "stdout",
     "output_type": "stream",
     "text": [
      "1243\n"
     ]
    }
   ],
   "source": [
    "dfOrg = pd.read_csv('hope_dataset_cleaned.csv')  \n",
    "\n",
    "print(dfOrg.shape[0])"
   ]
  },
  {
   "cell_type": "code",
   "execution_count": 3,
   "metadata": {},
   "outputs": [
    {
     "data": {
      "text/html": [
       "<div>\n",
       "<style scoped>\n",
       "    .dataframe tbody tr th:only-of-type {\n",
       "        vertical-align: middle;\n",
       "    }\n",
       "\n",
       "    .dataframe tbody tr th {\n",
       "        vertical-align: top;\n",
       "    }\n",
       "\n",
       "    .dataframe thead th {\n",
       "        text-align: right;\n",
       "    }\n",
       "</style>\n",
       "<table border=\"1\" class=\"dataframe\">\n",
       "  <thead>\n",
       "    <tr style=\"text-align: right;\">\n",
       "      <th></th>\n",
       "      <th>pedido.data.attributes.age</th>\n",
       "      <th>pedido.data.attributes.diagnostic_main</th>\n",
       "      <th>pedido.data.attributes.gender</th>\n",
       "      <th>articulo</th>\n",
       "      <th>respuesta.articlesRevisedYear</th>\n",
       "      <th>respuesta.articlesRevisedMonth</th>\n",
       "      <th>respuesta.pubmed_keys</th>\n",
       "      <th>utilidad</th>\n",
       "    </tr>\n",
       "  </thead>\n",
       "  <tbody>\n",
       "    <tr>\n",
       "      <th>0</th>\n",
       "      <td>75.0</td>\n",
       "      <td>FISTULA PERITONEAL</td>\n",
       "      <td>male</td>\n",
       "      <td>27395425</td>\n",
       "      <td>2018</td>\n",
       "      <td>1</td>\n",
       "      <td>Abdomen,Adenocarcinoma,Antiemetics,Blood Cultu...</td>\n",
       "      <td>1.0</td>\n",
       "    </tr>\n",
       "    <tr>\n",
       "      <th>1</th>\n",
       "      <td>75.0</td>\n",
       "      <td>FISTULA PERITONEAL</td>\n",
       "      <td>male</td>\n",
       "      <td>28560554</td>\n",
       "      <td>2018</td>\n",
       "      <td>4</td>\n",
       "      <td>Abdomen,Adenocarcinoma,Antiemetics,Blood Cultu...</td>\n",
       "      <td>NaN</td>\n",
       "    </tr>\n",
       "    <tr>\n",
       "      <th>2</th>\n",
       "      <td>75.0</td>\n",
       "      <td>FISTULA PERITONEAL</td>\n",
       "      <td>male</td>\n",
       "      <td>28641726</td>\n",
       "      <td>2017</td>\n",
       "      <td>12</td>\n",
       "      <td>Abdomen,Adenocarcinoma,Antiemetics,Blood Cultu...</td>\n",
       "      <td>NaN</td>\n",
       "    </tr>\n",
       "    <tr>\n",
       "      <th>3</th>\n",
       "      <td>75.0</td>\n",
       "      <td>FISTULA PERITONEAL</td>\n",
       "      <td>male</td>\n",
       "      <td>26245344</td>\n",
       "      <td>2016</td>\n",
       "      <td>12</td>\n",
       "      <td>Abdomen,Adenocarcinoma,Antiemetics,Blood Cultu...</td>\n",
       "      <td>NaN</td>\n",
       "    </tr>\n",
       "    <tr>\n",
       "      <th>4</th>\n",
       "      <td>75.0</td>\n",
       "      <td>FISTULA PERITONEAL</td>\n",
       "      <td>male</td>\n",
       "      <td>28942543</td>\n",
       "      <td>2018</td>\n",
       "      <td>6</td>\n",
       "      <td>Abdomen,Adenocarcinoma,Antiemetics,Blood Cultu...</td>\n",
       "      <td>NaN</td>\n",
       "    </tr>\n",
       "    <tr>\n",
       "      <th>5</th>\n",
       "      <td>75.0</td>\n",
       "      <td>FISTULA PERITONEAL</td>\n",
       "      <td>male</td>\n",
       "      <td>24782153</td>\n",
       "      <td>2014</td>\n",
       "      <td>6</td>\n",
       "      <td>Abdomen,Adenocarcinoma,Antiemetics,Blood Cultu...</td>\n",
       "      <td>NaN</td>\n",
       "    </tr>\n",
       "    <tr>\n",
       "      <th>6</th>\n",
       "      <td>75.0</td>\n",
       "      <td>FISTULA PERITONEAL</td>\n",
       "      <td>male</td>\n",
       "      <td>28002229</td>\n",
       "      <td>2018</td>\n",
       "      <td>9</td>\n",
       "      <td>Abdomen,Adenocarcinoma,Antiemetics,Blood Cultu...</td>\n",
       "      <td>NaN</td>\n",
       "    </tr>\n",
       "    <tr>\n",
       "      <th>7</th>\n",
       "      <td>75.0</td>\n",
       "      <td>FISTULA PERITONEAL</td>\n",
       "      <td>male</td>\n",
       "      <td>27505109</td>\n",
       "      <td>2017</td>\n",
       "      <td>4</td>\n",
       "      <td>Abdomen,Adenocarcinoma,Antiemetics,Blood Cultu...</td>\n",
       "      <td>NaN</td>\n",
       "    </tr>\n",
       "    <tr>\n",
       "      <th>8</th>\n",
       "      <td>75.0</td>\n",
       "      <td>FISTULA PERITONEAL</td>\n",
       "      <td>male</td>\n",
       "      <td>24850546</td>\n",
       "      <td>2015</td>\n",
       "      <td>1</td>\n",
       "      <td>Abdomen,Adenocarcinoma,Antiemetics,Blood Cultu...</td>\n",
       "      <td>NaN</td>\n",
       "    </tr>\n",
       "    <tr>\n",
       "      <th>9</th>\n",
       "      <td>75.0</td>\n",
       "      <td>FISTULA PERITONEAL</td>\n",
       "      <td>male</td>\n",
       "      <td>29371050</td>\n",
       "      <td>2019</td>\n",
       "      <td>4</td>\n",
       "      <td>Abdomen,Adenocarcinoma,Antiemetics,Blood Cultu...</td>\n",
       "      <td>NaN</td>\n",
       "    </tr>\n",
       "  </tbody>\n",
       "</table>\n",
       "</div>"
      ],
      "text/plain": [
       "   pedido.data.attributes.age pedido.data.attributes.diagnostic_main  \\\n",
       "0                        75.0                     FISTULA PERITONEAL   \n",
       "1                        75.0                     FISTULA PERITONEAL   \n",
       "2                        75.0                     FISTULA PERITONEAL   \n",
       "3                        75.0                     FISTULA PERITONEAL   \n",
       "4                        75.0                     FISTULA PERITONEAL   \n",
       "5                        75.0                     FISTULA PERITONEAL   \n",
       "6                        75.0                     FISTULA PERITONEAL   \n",
       "7                        75.0                     FISTULA PERITONEAL   \n",
       "8                        75.0                     FISTULA PERITONEAL   \n",
       "9                        75.0                     FISTULA PERITONEAL   \n",
       "\n",
       "  pedido.data.attributes.gender  articulo  respuesta.articlesRevisedYear  \\\n",
       "0                          male  27395425                           2018   \n",
       "1                          male  28560554                           2018   \n",
       "2                          male  28641726                           2017   \n",
       "3                          male  26245344                           2016   \n",
       "4                          male  28942543                           2018   \n",
       "5                          male  24782153                           2014   \n",
       "6                          male  28002229                           2018   \n",
       "7                          male  27505109                           2017   \n",
       "8                          male  24850546                           2015   \n",
       "9                          male  29371050                           2019   \n",
       "\n",
       "   respuesta.articlesRevisedMonth  \\\n",
       "0                               1   \n",
       "1                               4   \n",
       "2                              12   \n",
       "3                              12   \n",
       "4                               6   \n",
       "5                               6   \n",
       "6                               9   \n",
       "7                               4   \n",
       "8                               1   \n",
       "9                               4   \n",
       "\n",
       "                               respuesta.pubmed_keys  utilidad  \n",
       "0  Abdomen,Adenocarcinoma,Antiemetics,Blood Cultu...       1.0  \n",
       "1  Abdomen,Adenocarcinoma,Antiemetics,Blood Cultu...       NaN  \n",
       "2  Abdomen,Adenocarcinoma,Antiemetics,Blood Cultu...       NaN  \n",
       "3  Abdomen,Adenocarcinoma,Antiemetics,Blood Cultu...       NaN  \n",
       "4  Abdomen,Adenocarcinoma,Antiemetics,Blood Cultu...       NaN  \n",
       "5  Abdomen,Adenocarcinoma,Antiemetics,Blood Cultu...       NaN  \n",
       "6  Abdomen,Adenocarcinoma,Antiemetics,Blood Cultu...       NaN  \n",
       "7  Abdomen,Adenocarcinoma,Antiemetics,Blood Cultu...       NaN  \n",
       "8  Abdomen,Adenocarcinoma,Antiemetics,Blood Cultu...       NaN  \n",
       "9  Abdomen,Adenocarcinoma,Antiemetics,Blood Cultu...       NaN  "
      ]
     },
     "execution_count": 3,
     "metadata": {},
     "output_type": "execute_result"
    }
   ],
   "source": [
    "dfOrg.head(10)"
   ]
  },
  {
   "cell_type": "markdown",
   "metadata": {},
   "source": [
    "Expand pubmed_keys attribute"
   ]
  },
  {
   "cell_type": "code",
   "execution_count": 4,
   "metadata": {},
   "outputs": [
    {
     "data": {
      "text/html": [
       "<div>\n",
       "<style scoped>\n",
       "    .dataframe tbody tr th:only-of-type {\n",
       "        vertical-align: middle;\n",
       "    }\n",
       "\n",
       "    .dataframe tbody tr th {\n",
       "        vertical-align: top;\n",
       "    }\n",
       "\n",
       "    .dataframe thead th {\n",
       "        text-align: right;\n",
       "    }\n",
       "</style>\n",
       "<table border=\"1\" class=\"dataframe\">\n",
       "  <thead>\n",
       "    <tr style=\"text-align: right;\">\n",
       "      <th></th>\n",
       "      <th>pedido.data.attributes.age</th>\n",
       "      <th>pedido.data.attributes.diagnostic_main</th>\n",
       "      <th>pedido.data.attributes.gender</th>\n",
       "      <th>articulo</th>\n",
       "      <th>respuesta.articlesRevisedYear</th>\n",
       "      <th>respuesta.articlesRevisedMonth</th>\n",
       "      <th>respuesta.pubmed_keys</th>\n",
       "      <th>utilidad</th>\n",
       "    </tr>\n",
       "  </thead>\n",
       "  <tbody>\n",
       "    <tr>\n",
       "      <th>0</th>\n",
       "      <td>75.0</td>\n",
       "      <td>FISTULA PERITONEAL</td>\n",
       "      <td>male</td>\n",
       "      <td>27395425</td>\n",
       "      <td>2018</td>\n",
       "      <td>1</td>\n",
       "      <td>Abdomen</td>\n",
       "      <td>1.0</td>\n",
       "    </tr>\n",
       "    <tr>\n",
       "      <th>1</th>\n",
       "      <td>75.0</td>\n",
       "      <td>FISTULA PERITONEAL</td>\n",
       "      <td>male</td>\n",
       "      <td>27395425</td>\n",
       "      <td>2018</td>\n",
       "      <td>1</td>\n",
       "      <td>Adenocarcinoma</td>\n",
       "      <td>1.0</td>\n",
       "    </tr>\n",
       "    <tr>\n",
       "      <th>2</th>\n",
       "      <td>75.0</td>\n",
       "      <td>FISTULA PERITONEAL</td>\n",
       "      <td>male</td>\n",
       "      <td>27395425</td>\n",
       "      <td>2018</td>\n",
       "      <td>1</td>\n",
       "      <td>Antiemetics</td>\n",
       "      <td>1.0</td>\n",
       "    </tr>\n",
       "    <tr>\n",
       "      <th>3</th>\n",
       "      <td>75.0</td>\n",
       "      <td>FISTULA PERITONEAL</td>\n",
       "      <td>male</td>\n",
       "      <td>27395425</td>\n",
       "      <td>2018</td>\n",
       "      <td>1</td>\n",
       "      <td>Blood Culture</td>\n",
       "      <td>1.0</td>\n",
       "    </tr>\n",
       "    <tr>\n",
       "      <th>4</th>\n",
       "      <td>75.0</td>\n",
       "      <td>FISTULA PERITONEAL</td>\n",
       "      <td>male</td>\n",
       "      <td>27395425</td>\n",
       "      <td>2018</td>\n",
       "      <td>1</td>\n",
       "      <td>Catharsis</td>\n",
       "      <td>1.0</td>\n",
       "    </tr>\n",
       "    <tr>\n",
       "      <th>5</th>\n",
       "      <td>75.0</td>\n",
       "      <td>FISTULA PERITONEAL</td>\n",
       "      <td>male</td>\n",
       "      <td>27395425</td>\n",
       "      <td>2018</td>\n",
       "      <td>1</td>\n",
       "      <td>Diuresis</td>\n",
       "      <td>1.0</td>\n",
       "    </tr>\n",
       "    <tr>\n",
       "      <th>6</th>\n",
       "      <td>75.0</td>\n",
       "      <td>FISTULA PERITONEAL</td>\n",
       "      <td>male</td>\n",
       "      <td>27395425</td>\n",
       "      <td>2018</td>\n",
       "      <td>1</td>\n",
       "      <td>Fistula</td>\n",
       "      <td>1.0</td>\n",
       "    </tr>\n",
       "    <tr>\n",
       "      <th>7</th>\n",
       "      <td>75.0</td>\n",
       "      <td>FISTULA PERITONEAL</td>\n",
       "      <td>male</td>\n",
       "      <td>27395425</td>\n",
       "      <td>2018</td>\n",
       "      <td>1</td>\n",
       "      <td>Gastrectomy</td>\n",
       "      <td>1.0</td>\n",
       "    </tr>\n",
       "    <tr>\n",
       "      <th>8</th>\n",
       "      <td>75.0</td>\n",
       "      <td>FISTULA PERITONEAL</td>\n",
       "      <td>male</td>\n",
       "      <td>27395425</td>\n",
       "      <td>2018</td>\n",
       "      <td>1</td>\n",
       "      <td>Incisional Hernia</td>\n",
       "      <td>1.0</td>\n",
       "    </tr>\n",
       "    <tr>\n",
       "      <th>9</th>\n",
       "      <td>75.0</td>\n",
       "      <td>FISTULA PERITONEAL</td>\n",
       "      <td>male</td>\n",
       "      <td>27395425</td>\n",
       "      <td>2018</td>\n",
       "      <td>1</td>\n",
       "      <td>Intestines</td>\n",
       "      <td>1.0</td>\n",
       "    </tr>\n",
       "  </tbody>\n",
       "</table>\n",
       "</div>"
      ],
      "text/plain": [
       "   pedido.data.attributes.age pedido.data.attributes.diagnostic_main  \\\n",
       "0                        75.0                     FISTULA PERITONEAL   \n",
       "1                        75.0                     FISTULA PERITONEAL   \n",
       "2                        75.0                     FISTULA PERITONEAL   \n",
       "3                        75.0                     FISTULA PERITONEAL   \n",
       "4                        75.0                     FISTULA PERITONEAL   \n",
       "5                        75.0                     FISTULA PERITONEAL   \n",
       "6                        75.0                     FISTULA PERITONEAL   \n",
       "7                        75.0                     FISTULA PERITONEAL   \n",
       "8                        75.0                     FISTULA PERITONEAL   \n",
       "9                        75.0                     FISTULA PERITONEAL   \n",
       "\n",
       "  pedido.data.attributes.gender  articulo  respuesta.articlesRevisedYear  \\\n",
       "0                          male  27395425                           2018   \n",
       "1                          male  27395425                           2018   \n",
       "2                          male  27395425                           2018   \n",
       "3                          male  27395425                           2018   \n",
       "4                          male  27395425                           2018   \n",
       "5                          male  27395425                           2018   \n",
       "6                          male  27395425                           2018   \n",
       "7                          male  27395425                           2018   \n",
       "8                          male  27395425                           2018   \n",
       "9                          male  27395425                           2018   \n",
       "\n",
       "   respuesta.articlesRevisedMonth respuesta.pubmed_keys  utilidad  \n",
       "0                               1               Abdomen       1.0  \n",
       "1                               1        Adenocarcinoma       1.0  \n",
       "2                               1           Antiemetics       1.0  \n",
       "3                               1         Blood Culture       1.0  \n",
       "4                               1             Catharsis       1.0  \n",
       "5                               1              Diuresis       1.0  \n",
       "6                               1               Fistula       1.0  \n",
       "7                               1           Gastrectomy       1.0  \n",
       "8                               1     Incisional Hernia       1.0  \n",
       "9                               1            Intestines       1.0  "
      ]
     },
     "execution_count": 4,
     "metadata": {},
     "output_type": "execute_result"
    }
   ],
   "source": [
    "dfOrg['respuesta.pubmed_keys'] = dfOrg['respuesta.pubmed_keys'].apply(lambda x : str(x).split(','))\n",
    "\n",
    "dfOrg = dfOrg.explode('respuesta.pubmed_keys').reset_index(drop=True)\n",
    "\n",
    "dfOrg.head(10)"
   ]
  },
  {
   "cell_type": "markdown",
   "metadata": {},
   "source": [
    "## Transform (factorice) from Categories to continuous atributes\n",
    "\n",
    "Transform 'pedido.data.attributes.diagnostic_main' atribute"
   ]
  },
  {
   "cell_type": "code",
   "execution_count": 5,
   "metadata": {},
   "outputs": [],
   "source": [
    "dataDiagnosticMain, categoriesDiagnosticMain = pd.factorize(dfOrg['pedido.data.attributes.diagnostic_main'])\n",
    "\n",
    "dfOrg['pedido.data.attributes.diagnostic_main'] = dataDiagnosticMain"
   ]
  },
  {
   "cell_type": "markdown",
   "metadata": {},
   "source": [
    "Transform 'gender' atribute"
   ]
  },
  {
   "cell_type": "code",
   "execution_count": 6,
   "metadata": {},
   "outputs": [],
   "source": [
    "dataGender, categoriesGender = pd.factorize(dfOrg['pedido.data.attributes.gender'])\n",
    "\n",
    "dfOrg['pedido.data.attributes.gender'] = dataGender"
   ]
  },
  {
   "cell_type": "markdown",
   "metadata": {},
   "source": [
    "Transform 'respuesta.pubmed_keys' atribute"
   ]
  },
  {
   "cell_type": "code",
   "execution_count": 7,
   "metadata": {},
   "outputs": [
    {
     "name": "stdout",
     "output_type": "stream",
     "text": [
      "total: 353\n"
     ]
    }
   ],
   "source": [
    "categoriesORGPubMedKeys = dfOrg['respuesta.pubmed_keys'].value_counts()\n",
    "\n",
    "print(\"total: \" + str(categoriesORGPubMedKeys.size))"
   ]
  },
  {
   "cell_type": "code",
   "execution_count": 8,
   "metadata": {},
   "outputs": [],
   "source": [
    "dataPubMedKeys, categoriesPubMedKeys = pd.factorize(dfOrg['respuesta.pubmed_keys'])\n",
    "\n",
    "dfOrg['respuesta.pubmed_keys'] = dataPubMedKeys"
   ]
  },
  {
   "cell_type": "code",
   "execution_count": 9,
   "metadata": {},
   "outputs": [
    {
     "data": {
      "text/html": [
       "<div>\n",
       "<style scoped>\n",
       "    .dataframe tbody tr th:only-of-type {\n",
       "        vertical-align: middle;\n",
       "    }\n",
       "\n",
       "    .dataframe tbody tr th {\n",
       "        vertical-align: top;\n",
       "    }\n",
       "\n",
       "    .dataframe thead th {\n",
       "        text-align: right;\n",
       "    }\n",
       "</style>\n",
       "<table border=\"1\" class=\"dataframe\">\n",
       "  <thead>\n",
       "    <tr style=\"text-align: right;\">\n",
       "      <th></th>\n",
       "      <th>pedido.data.attributes.age</th>\n",
       "      <th>pedido.data.attributes.diagnostic_main</th>\n",
       "      <th>pedido.data.attributes.gender</th>\n",
       "      <th>articulo</th>\n",
       "      <th>respuesta.articlesRevisedYear</th>\n",
       "      <th>respuesta.articlesRevisedMonth</th>\n",
       "      <th>respuesta.pubmed_keys</th>\n",
       "      <th>utilidad</th>\n",
       "    </tr>\n",
       "  </thead>\n",
       "  <tbody>\n",
       "    <tr>\n",
       "      <th>0</th>\n",
       "      <td>75.0</td>\n",
       "      <td>0</td>\n",
       "      <td>0</td>\n",
       "      <td>27395425</td>\n",
       "      <td>2018</td>\n",
       "      <td>1</td>\n",
       "      <td>0</td>\n",
       "      <td>1.0</td>\n",
       "    </tr>\n",
       "    <tr>\n",
       "      <th>1</th>\n",
       "      <td>75.0</td>\n",
       "      <td>0</td>\n",
       "      <td>0</td>\n",
       "      <td>27395425</td>\n",
       "      <td>2018</td>\n",
       "      <td>1</td>\n",
       "      <td>1</td>\n",
       "      <td>1.0</td>\n",
       "    </tr>\n",
       "    <tr>\n",
       "      <th>2</th>\n",
       "      <td>75.0</td>\n",
       "      <td>0</td>\n",
       "      <td>0</td>\n",
       "      <td>27395425</td>\n",
       "      <td>2018</td>\n",
       "      <td>1</td>\n",
       "      <td>2</td>\n",
       "      <td>1.0</td>\n",
       "    </tr>\n",
       "    <tr>\n",
       "      <th>3</th>\n",
       "      <td>75.0</td>\n",
       "      <td>0</td>\n",
       "      <td>0</td>\n",
       "      <td>27395425</td>\n",
       "      <td>2018</td>\n",
       "      <td>1</td>\n",
       "      <td>3</td>\n",
       "      <td>1.0</td>\n",
       "    </tr>\n",
       "    <tr>\n",
       "      <th>4</th>\n",
       "      <td>75.0</td>\n",
       "      <td>0</td>\n",
       "      <td>0</td>\n",
       "      <td>27395425</td>\n",
       "      <td>2018</td>\n",
       "      <td>1</td>\n",
       "      <td>4</td>\n",
       "      <td>1.0</td>\n",
       "    </tr>\n",
       "    <tr>\n",
       "      <th>5</th>\n",
       "      <td>75.0</td>\n",
       "      <td>0</td>\n",
       "      <td>0</td>\n",
       "      <td>27395425</td>\n",
       "      <td>2018</td>\n",
       "      <td>1</td>\n",
       "      <td>5</td>\n",
       "      <td>1.0</td>\n",
       "    </tr>\n",
       "    <tr>\n",
       "      <th>6</th>\n",
       "      <td>75.0</td>\n",
       "      <td>0</td>\n",
       "      <td>0</td>\n",
       "      <td>27395425</td>\n",
       "      <td>2018</td>\n",
       "      <td>1</td>\n",
       "      <td>6</td>\n",
       "      <td>1.0</td>\n",
       "    </tr>\n",
       "    <tr>\n",
       "      <th>7</th>\n",
       "      <td>75.0</td>\n",
       "      <td>0</td>\n",
       "      <td>0</td>\n",
       "      <td>27395425</td>\n",
       "      <td>2018</td>\n",
       "      <td>1</td>\n",
       "      <td>7</td>\n",
       "      <td>1.0</td>\n",
       "    </tr>\n",
       "    <tr>\n",
       "      <th>8</th>\n",
       "      <td>75.0</td>\n",
       "      <td>0</td>\n",
       "      <td>0</td>\n",
       "      <td>27395425</td>\n",
       "      <td>2018</td>\n",
       "      <td>1</td>\n",
       "      <td>8</td>\n",
       "      <td>1.0</td>\n",
       "    </tr>\n",
       "    <tr>\n",
       "      <th>9</th>\n",
       "      <td>75.0</td>\n",
       "      <td>0</td>\n",
       "      <td>0</td>\n",
       "      <td>27395425</td>\n",
       "      <td>2018</td>\n",
       "      <td>1</td>\n",
       "      <td>9</td>\n",
       "      <td>1.0</td>\n",
       "    </tr>\n",
       "  </tbody>\n",
       "</table>\n",
       "</div>"
      ],
      "text/plain": [
       "   pedido.data.attributes.age  pedido.data.attributes.diagnostic_main  \\\n",
       "0                        75.0                                       0   \n",
       "1                        75.0                                       0   \n",
       "2                        75.0                                       0   \n",
       "3                        75.0                                       0   \n",
       "4                        75.0                                       0   \n",
       "5                        75.0                                       0   \n",
       "6                        75.0                                       0   \n",
       "7                        75.0                                       0   \n",
       "8                        75.0                                       0   \n",
       "9                        75.0                                       0   \n",
       "\n",
       "   pedido.data.attributes.gender  articulo  respuesta.articlesRevisedYear  \\\n",
       "0                              0  27395425                           2018   \n",
       "1                              0  27395425                           2018   \n",
       "2                              0  27395425                           2018   \n",
       "3                              0  27395425                           2018   \n",
       "4                              0  27395425                           2018   \n",
       "5                              0  27395425                           2018   \n",
       "6                              0  27395425                           2018   \n",
       "7                              0  27395425                           2018   \n",
       "8                              0  27395425                           2018   \n",
       "9                              0  27395425                           2018   \n",
       "\n",
       "   respuesta.articlesRevisedMonth  respuesta.pubmed_keys  utilidad  \n",
       "0                               1                      0       1.0  \n",
       "1                               1                      1       1.0  \n",
       "2                               1                      2       1.0  \n",
       "3                               1                      3       1.0  \n",
       "4                               1                      4       1.0  \n",
       "5                               1                      5       1.0  \n",
       "6                               1                      6       1.0  \n",
       "7                               1                      7       1.0  \n",
       "8                               1                      8       1.0  \n",
       "9                               1                      9       1.0  "
      ]
     },
     "execution_count": 9,
     "metadata": {},
     "output_type": "execute_result"
    }
   ],
   "source": [
    "dfOrg.head(10)"
   ]
  },
  {
   "cell_type": "code",
   "execution_count": 10,
   "metadata": {},
   "outputs": [
    {
     "name": "stdout",
     "output_type": "stream",
     "text": [
      "age NaN => 10\n",
      "diagnostic_main NaN => 0\n",
      "gender NaN => 0\n",
      "articulo NaN => 0\n",
      "articlesRevisedYear NaN => 0\n",
      "articlesRevisedMonth NaN => 0\n",
      "pubmed_keys NaN => 0\n",
      "utilidad NaN => 14758\n"
     ]
    }
   ],
   "source": [
    "print(\"age NaN => \" + str(dfOrg[pd.isnull(dfOrg['pedido.data.attributes.age'])].shape[0]))\n",
    "print(\"diagnostic_main NaN => \" + str(dfOrg[pd.isnull(dfOrg['pedido.data.attributes.diagnostic_main'])].shape[0]))\n",
    "print(\"gender NaN => \" + str(dfOrg[pd.isnull(dfOrg['pedido.data.attributes.gender'])].shape[0]))\n",
    "print(\"articulo NaN => \" + str(dfOrg[pd.isnull(dfOrg['articulo'])].shape[0]))\n",
    "print(\"articlesRevisedYear NaN => \" + str(dfOrg[pd.isnull(dfOrg['respuesta.articlesRevisedYear'])].shape[0]))\n",
    "print(\"articlesRevisedMonth NaN => \" + str(dfOrg[pd.isnull(dfOrg['respuesta.articlesRevisedMonth'])].shape[0]))\n",
    "print(\"pubmed_keys NaN => \" + str(dfOrg[pd.isnull(dfOrg['respuesta.pubmed_keys'])].shape[0]))\n",
    "print(\"utilidad NaN => \" + str(dfOrg[pd.isnull(dfOrg['utilidad'])].shape[0]))"
   ]
  },
  {
   "cell_type": "markdown",
   "metadata": {},
   "source": [
    "Remove row with age eq NaN"
   ]
  },
  {
   "cell_type": "code",
   "execution_count": 11,
   "metadata": {},
   "outputs": [],
   "source": [
    "dfOrg = dfOrg[pd.notnull(dfOrg['pedido.data.attributes.age'])]"
   ]
  },
  {
   "cell_type": "markdown",
   "metadata": {},
   "source": [
    "## Standardize the Data"
   ]
  },
  {
   "cell_type": "code",
   "execution_count": 12,
   "metadata": {},
   "outputs": [
    {
     "data": {
      "text/html": [
       "<div>\n",
       "<style scoped>\n",
       "    .dataframe tbody tr th:only-of-type {\n",
       "        vertical-align: middle;\n",
       "    }\n",
       "\n",
       "    .dataframe tbody tr th {\n",
       "        vertical-align: top;\n",
       "    }\n",
       "\n",
       "    .dataframe thead th {\n",
       "        text-align: right;\n",
       "    }\n",
       "</style>\n",
       "<table border=\"1\" class=\"dataframe\">\n",
       "  <thead>\n",
       "    <tr style=\"text-align: right;\">\n",
       "      <th></th>\n",
       "      <th>pedido.data.attributes.age</th>\n",
       "      <th>pedido.data.attributes.diagnostic_main</th>\n",
       "      <th>pedido.data.attributes.gender</th>\n",
       "      <th>articulo</th>\n",
       "      <th>respuesta.articlesRevisedYear</th>\n",
       "      <th>respuesta.articlesRevisedMonth</th>\n",
       "      <th>respuesta.pubmed_keys</th>\n",
       "      <th>utilidad</th>\n",
       "    </tr>\n",
       "  </thead>\n",
       "  <tbody>\n",
       "    <tr>\n",
       "      <th>0</th>\n",
       "      <td>1.285887</td>\n",
       "      <td>-1.503163</td>\n",
       "      <td>0.0</td>\n",
       "      <td>-0.00421</td>\n",
       "      <td>0.633249</td>\n",
       "      <td>-1.463658</td>\n",
       "      <td>-1.089722</td>\n",
       "      <td>1.0</td>\n",
       "    </tr>\n",
       "    <tr>\n",
       "      <th>1</th>\n",
       "      <td>1.285887</td>\n",
       "      <td>-1.503163</td>\n",
       "      <td>0.0</td>\n",
       "      <td>-0.00421</td>\n",
       "      <td>0.633249</td>\n",
       "      <td>-1.463658</td>\n",
       "      <td>-1.080463</td>\n",
       "      <td>1.0</td>\n",
       "    </tr>\n",
       "    <tr>\n",
       "      <th>2</th>\n",
       "      <td>1.285887</td>\n",
       "      <td>-1.503163</td>\n",
       "      <td>0.0</td>\n",
       "      <td>-0.00421</td>\n",
       "      <td>0.633249</td>\n",
       "      <td>-1.463658</td>\n",
       "      <td>-1.071203</td>\n",
       "      <td>1.0</td>\n",
       "    </tr>\n",
       "    <tr>\n",
       "      <th>3</th>\n",
       "      <td>1.285887</td>\n",
       "      <td>-1.503163</td>\n",
       "      <td>0.0</td>\n",
       "      <td>-0.00421</td>\n",
       "      <td>0.633249</td>\n",
       "      <td>-1.463658</td>\n",
       "      <td>-1.061944</td>\n",
       "      <td>1.0</td>\n",
       "    </tr>\n",
       "    <tr>\n",
       "      <th>4</th>\n",
       "      <td>1.285887</td>\n",
       "      <td>-1.503163</td>\n",
       "      <td>0.0</td>\n",
       "      <td>-0.00421</td>\n",
       "      <td>0.633249</td>\n",
       "      <td>-1.463658</td>\n",
       "      <td>-1.052684</td>\n",
       "      <td>1.0</td>\n",
       "    </tr>\n",
       "    <tr>\n",
       "      <th>5</th>\n",
       "      <td>1.285887</td>\n",
       "      <td>-1.503163</td>\n",
       "      <td>0.0</td>\n",
       "      <td>-0.00421</td>\n",
       "      <td>0.633249</td>\n",
       "      <td>-1.463658</td>\n",
       "      <td>-1.043424</td>\n",
       "      <td>1.0</td>\n",
       "    </tr>\n",
       "    <tr>\n",
       "      <th>6</th>\n",
       "      <td>1.285887</td>\n",
       "      <td>-1.503163</td>\n",
       "      <td>0.0</td>\n",
       "      <td>-0.00421</td>\n",
       "      <td>0.633249</td>\n",
       "      <td>-1.463658</td>\n",
       "      <td>-1.034165</td>\n",
       "      <td>1.0</td>\n",
       "    </tr>\n",
       "    <tr>\n",
       "      <th>7</th>\n",
       "      <td>1.285887</td>\n",
       "      <td>-1.503163</td>\n",
       "      <td>0.0</td>\n",
       "      <td>-0.00421</td>\n",
       "      <td>0.633249</td>\n",
       "      <td>-1.463658</td>\n",
       "      <td>-1.024905</td>\n",
       "      <td>1.0</td>\n",
       "    </tr>\n",
       "    <tr>\n",
       "      <th>8</th>\n",
       "      <td>1.285887</td>\n",
       "      <td>-1.503163</td>\n",
       "      <td>0.0</td>\n",
       "      <td>-0.00421</td>\n",
       "      <td>0.633249</td>\n",
       "      <td>-1.463658</td>\n",
       "      <td>-1.015646</td>\n",
       "      <td>1.0</td>\n",
       "    </tr>\n",
       "    <tr>\n",
       "      <th>9</th>\n",
       "      <td>1.285887</td>\n",
       "      <td>-1.503163</td>\n",
       "      <td>0.0</td>\n",
       "      <td>-0.00421</td>\n",
       "      <td>0.633249</td>\n",
       "      <td>-1.463658</td>\n",
       "      <td>-1.006386</td>\n",
       "      <td>1.0</td>\n",
       "    </tr>\n",
       "  </tbody>\n",
       "</table>\n",
       "</div>"
      ],
      "text/plain": [
       "   pedido.data.attributes.age  pedido.data.attributes.diagnostic_main  \\\n",
       "0                    1.285887                               -1.503163   \n",
       "1                    1.285887                               -1.503163   \n",
       "2                    1.285887                               -1.503163   \n",
       "3                    1.285887                               -1.503163   \n",
       "4                    1.285887                               -1.503163   \n",
       "5                    1.285887                               -1.503163   \n",
       "6                    1.285887                               -1.503163   \n",
       "7                    1.285887                               -1.503163   \n",
       "8                    1.285887                               -1.503163   \n",
       "9                    1.285887                               -1.503163   \n",
       "\n",
       "   pedido.data.attributes.gender  articulo  respuesta.articlesRevisedYear  \\\n",
       "0                            0.0  -0.00421                       0.633249   \n",
       "1                            0.0  -0.00421                       0.633249   \n",
       "2                            0.0  -0.00421                       0.633249   \n",
       "3                            0.0  -0.00421                       0.633249   \n",
       "4                            0.0  -0.00421                       0.633249   \n",
       "5                            0.0  -0.00421                       0.633249   \n",
       "6                            0.0  -0.00421                       0.633249   \n",
       "7                            0.0  -0.00421                       0.633249   \n",
       "8                            0.0  -0.00421                       0.633249   \n",
       "9                            0.0  -0.00421                       0.633249   \n",
       "\n",
       "   respuesta.articlesRevisedMonth  respuesta.pubmed_keys  utilidad  \n",
       "0                       -1.463658              -1.089722       1.0  \n",
       "1                       -1.463658              -1.080463       1.0  \n",
       "2                       -1.463658              -1.071203       1.0  \n",
       "3                       -1.463658              -1.061944       1.0  \n",
       "4                       -1.463658              -1.052684       1.0  \n",
       "5                       -1.463658              -1.043424       1.0  \n",
       "6                       -1.463658              -1.034165       1.0  \n",
       "7                       -1.463658              -1.024905       1.0  \n",
       "8                       -1.463658              -1.015646       1.0  \n",
       "9                       -1.463658              -1.006386       1.0  "
      ]
     },
     "execution_count": 12,
     "metadata": {},
     "output_type": "execute_result"
    }
   ],
   "source": [
    "from sklearn.preprocessing import StandardScaler\n",
    "\n",
    "features = dfOrg.columns.drop(['utilidad'])\n",
    "\n",
    "# Separating out the features\n",
    "x = dfOrg.loc[:, features].values\n",
    "\n",
    "featuresTransformed = StandardScaler().fit_transform(x)\n",
    "\n",
    "dfStandarized = pd.DataFrame(featuresTransformed, index=dfOrg.index, columns=features)\n",
    "dfStandarized['utilidad'] = dfOrg['utilidad']\n",
    "\n",
    "dfStandarized.head(10)"
   ]
  },
  {
   "cell_type": "markdown",
   "metadata": {},
   "source": [
    "## Separe data by utilidad is defined"
   ]
  },
  {
   "cell_type": "code",
   "execution_count": 13,
   "metadata": {},
   "outputs": [
    {
     "name": "stdout",
     "output_type": "stream",
     "text": [
      "830\n",
      "14748\n"
     ]
    }
   ],
   "source": [
    "dfDataSetComplete = dfStandarized[pd.notnull(dfOrg['utilidad'])]\n",
    "\n",
    "print(dfDataSetComplete.shape[0])\n",
    "\n",
    "dfDataSetToPredict = dfStandarized[pd.isnull(dfOrg['utilidad'])]\n",
    "\n",
    "print(dfDataSetToPredict.shape[0])"
   ]
  },
  {
   "cell_type": "code",
   "execution_count": 14,
   "metadata": {},
   "outputs": [
    {
     "data": {
      "text/html": [
       "<div>\n",
       "<style scoped>\n",
       "    .dataframe tbody tr th:only-of-type {\n",
       "        vertical-align: middle;\n",
       "    }\n",
       "\n",
       "    .dataframe tbody tr th {\n",
       "        vertical-align: top;\n",
       "    }\n",
       "\n",
       "    .dataframe thead th {\n",
       "        text-align: right;\n",
       "    }\n",
       "</style>\n",
       "<table border=\"1\" class=\"dataframe\">\n",
       "  <thead>\n",
       "    <tr style=\"text-align: right;\">\n",
       "      <th></th>\n",
       "      <th>pedido.data.attributes.age</th>\n",
       "      <th>pedido.data.attributes.diagnostic_main</th>\n",
       "      <th>pedido.data.attributes.gender</th>\n",
       "      <th>articulo</th>\n",
       "      <th>respuesta.articlesRevisedYear</th>\n",
       "      <th>respuesta.articlesRevisedMonth</th>\n",
       "      <th>respuesta.pubmed_keys</th>\n",
       "      <th>utilidad</th>\n",
       "    </tr>\n",
       "  </thead>\n",
       "  <tbody>\n",
       "    <tr>\n",
       "      <th>0</th>\n",
       "      <td>1.285887</td>\n",
       "      <td>-1.503163</td>\n",
       "      <td>0.0</td>\n",
       "      <td>-0.00421</td>\n",
       "      <td>0.633249</td>\n",
       "      <td>-1.463658</td>\n",
       "      <td>-1.089722</td>\n",
       "      <td>1.0</td>\n",
       "    </tr>\n",
       "    <tr>\n",
       "      <th>1</th>\n",
       "      <td>1.285887</td>\n",
       "      <td>-1.503163</td>\n",
       "      <td>0.0</td>\n",
       "      <td>-0.00421</td>\n",
       "      <td>0.633249</td>\n",
       "      <td>-1.463658</td>\n",
       "      <td>-1.080463</td>\n",
       "      <td>1.0</td>\n",
       "    </tr>\n",
       "    <tr>\n",
       "      <th>2</th>\n",
       "      <td>1.285887</td>\n",
       "      <td>-1.503163</td>\n",
       "      <td>0.0</td>\n",
       "      <td>-0.00421</td>\n",
       "      <td>0.633249</td>\n",
       "      <td>-1.463658</td>\n",
       "      <td>-1.071203</td>\n",
       "      <td>1.0</td>\n",
       "    </tr>\n",
       "    <tr>\n",
       "      <th>3</th>\n",
       "      <td>1.285887</td>\n",
       "      <td>-1.503163</td>\n",
       "      <td>0.0</td>\n",
       "      <td>-0.00421</td>\n",
       "      <td>0.633249</td>\n",
       "      <td>-1.463658</td>\n",
       "      <td>-1.061944</td>\n",
       "      <td>1.0</td>\n",
       "    </tr>\n",
       "    <tr>\n",
       "      <th>4</th>\n",
       "      <td>1.285887</td>\n",
       "      <td>-1.503163</td>\n",
       "      <td>0.0</td>\n",
       "      <td>-0.00421</td>\n",
       "      <td>0.633249</td>\n",
       "      <td>-1.463658</td>\n",
       "      <td>-1.052684</td>\n",
       "      <td>1.0</td>\n",
       "    </tr>\n",
       "    <tr>\n",
       "      <th>5</th>\n",
       "      <td>1.285887</td>\n",
       "      <td>-1.503163</td>\n",
       "      <td>0.0</td>\n",
       "      <td>-0.00421</td>\n",
       "      <td>0.633249</td>\n",
       "      <td>-1.463658</td>\n",
       "      <td>-1.043424</td>\n",
       "      <td>1.0</td>\n",
       "    </tr>\n",
       "    <tr>\n",
       "      <th>6</th>\n",
       "      <td>1.285887</td>\n",
       "      <td>-1.503163</td>\n",
       "      <td>0.0</td>\n",
       "      <td>-0.00421</td>\n",
       "      <td>0.633249</td>\n",
       "      <td>-1.463658</td>\n",
       "      <td>-1.034165</td>\n",
       "      <td>1.0</td>\n",
       "    </tr>\n",
       "    <tr>\n",
       "      <th>7</th>\n",
       "      <td>1.285887</td>\n",
       "      <td>-1.503163</td>\n",
       "      <td>0.0</td>\n",
       "      <td>-0.00421</td>\n",
       "      <td>0.633249</td>\n",
       "      <td>-1.463658</td>\n",
       "      <td>-1.024905</td>\n",
       "      <td>1.0</td>\n",
       "    </tr>\n",
       "    <tr>\n",
       "      <th>8</th>\n",
       "      <td>1.285887</td>\n",
       "      <td>-1.503163</td>\n",
       "      <td>0.0</td>\n",
       "      <td>-0.00421</td>\n",
       "      <td>0.633249</td>\n",
       "      <td>-1.463658</td>\n",
       "      <td>-1.015646</td>\n",
       "      <td>1.0</td>\n",
       "    </tr>\n",
       "    <tr>\n",
       "      <th>9</th>\n",
       "      <td>1.285887</td>\n",
       "      <td>-1.503163</td>\n",
       "      <td>0.0</td>\n",
       "      <td>-0.00421</td>\n",
       "      <td>0.633249</td>\n",
       "      <td>-1.463658</td>\n",
       "      <td>-1.006386</td>\n",
       "      <td>1.0</td>\n",
       "    </tr>\n",
       "  </tbody>\n",
       "</table>\n",
       "</div>"
      ],
      "text/plain": [
       "   pedido.data.attributes.age  pedido.data.attributes.diagnostic_main  \\\n",
       "0                    1.285887                               -1.503163   \n",
       "1                    1.285887                               -1.503163   \n",
       "2                    1.285887                               -1.503163   \n",
       "3                    1.285887                               -1.503163   \n",
       "4                    1.285887                               -1.503163   \n",
       "5                    1.285887                               -1.503163   \n",
       "6                    1.285887                               -1.503163   \n",
       "7                    1.285887                               -1.503163   \n",
       "8                    1.285887                               -1.503163   \n",
       "9                    1.285887                               -1.503163   \n",
       "\n",
       "   pedido.data.attributes.gender  articulo  respuesta.articlesRevisedYear  \\\n",
       "0                            0.0  -0.00421                       0.633249   \n",
       "1                            0.0  -0.00421                       0.633249   \n",
       "2                            0.0  -0.00421                       0.633249   \n",
       "3                            0.0  -0.00421                       0.633249   \n",
       "4                            0.0  -0.00421                       0.633249   \n",
       "5                            0.0  -0.00421                       0.633249   \n",
       "6                            0.0  -0.00421                       0.633249   \n",
       "7                            0.0  -0.00421                       0.633249   \n",
       "8                            0.0  -0.00421                       0.633249   \n",
       "9                            0.0  -0.00421                       0.633249   \n",
       "\n",
       "   respuesta.articlesRevisedMonth  respuesta.pubmed_keys  utilidad  \n",
       "0                       -1.463658              -1.089722       1.0  \n",
       "1                       -1.463658              -1.080463       1.0  \n",
       "2                       -1.463658              -1.071203       1.0  \n",
       "3                       -1.463658              -1.061944       1.0  \n",
       "4                       -1.463658              -1.052684       1.0  \n",
       "5                       -1.463658              -1.043424       1.0  \n",
       "6                       -1.463658              -1.034165       1.0  \n",
       "7                       -1.463658              -1.024905       1.0  \n",
       "8                       -1.463658              -1.015646       1.0  \n",
       "9                       -1.463658              -1.006386       1.0  "
      ]
     },
     "execution_count": 14,
     "metadata": {},
     "output_type": "execute_result"
    }
   ],
   "source": [
    "dfDataSetComplete.head(10)"
   ]
  },
  {
   "cell_type": "markdown",
   "metadata": {},
   "source": [
    "## Logistic Regression"
   ]
  },
  {
   "cell_type": "code",
   "execution_count": 15,
   "metadata": {},
   "outputs": [],
   "source": [
    "from sklearn import linear_model\n",
    "from sklearn.model_selection import train_test_split\n",
    "from sklearn import model_selection\n",
    "from sklearn.metrics import accuracy_score"
   ]
  },
  {
   "cell_type": "code",
   "execution_count": 16,
   "metadata": {},
   "outputs": [
    {
     "data": {
      "text/html": [
       "<div>\n",
       "<style scoped>\n",
       "    .dataframe tbody tr th:only-of-type {\n",
       "        vertical-align: middle;\n",
       "    }\n",
       "\n",
       "    .dataframe tbody tr th {\n",
       "        vertical-align: top;\n",
       "    }\n",
       "\n",
       "    .dataframe thead th {\n",
       "        text-align: right;\n",
       "    }\n",
       "</style>\n",
       "<table border=\"1\" class=\"dataframe\">\n",
       "  <thead>\n",
       "    <tr style=\"text-align: right;\">\n",
       "      <th></th>\n",
       "      <th>pedido.data.attributes.age</th>\n",
       "      <th>pedido.data.attributes.diagnostic_main</th>\n",
       "      <th>pedido.data.attributes.gender</th>\n",
       "      <th>articulo</th>\n",
       "      <th>respuesta.articlesRevisedYear</th>\n",
       "      <th>respuesta.articlesRevisedMonth</th>\n",
       "      <th>respuesta.pubmed_keys</th>\n",
       "      <th>utilidad</th>\n",
       "    </tr>\n",
       "  </thead>\n",
       "  <tbody>\n",
       "    <tr>\n",
       "      <th>count</th>\n",
       "      <td>830.000000</td>\n",
       "      <td>830.000000</td>\n",
       "      <td>830.0</td>\n",
       "      <td>830.000000</td>\n",
       "      <td>830.000000</td>\n",
       "      <td>830.000000</td>\n",
       "      <td>830.000000</td>\n",
       "      <td>830.000000</td>\n",
       "    </tr>\n",
       "    <tr>\n",
       "      <th>mean</th>\n",
       "      <td>0.323607</td>\n",
       "      <td>-0.039986</td>\n",
       "      <td>0.0</td>\n",
       "      <td>0.076390</td>\n",
       "      <td>0.093236</td>\n",
       "      <td>-0.168806</td>\n",
       "      <td>-0.031101</td>\n",
       "      <td>0.583133</td>\n",
       "    </tr>\n",
       "    <tr>\n",
       "      <th>std</th>\n",
       "      <td>1.006114</td>\n",
       "      <td>0.650873</td>\n",
       "      <td>0.0</td>\n",
       "      <td>0.742731</td>\n",
       "      <td>1.156247</td>\n",
       "      <td>1.082831</td>\n",
       "      <td>0.925381</td>\n",
       "      <td>0.493338</td>\n",
       "    </tr>\n",
       "    <tr>\n",
       "      <th>min</th>\n",
       "      <td>-1.554838</td>\n",
       "      <td>-1.503163</td>\n",
       "      <td>0.0</td>\n",
       "      <td>-1.880409</td>\n",
       "      <td>-2.656375</td>\n",
       "      <td>-1.463658</td>\n",
       "      <td>-1.089722</td>\n",
       "      <td>0.000000</td>\n",
       "    </tr>\n",
       "    <tr>\n",
       "      <th>25%</th>\n",
       "      <td>-1.006628</td>\n",
       "      <td>-0.586347</td>\n",
       "      <td>0.0</td>\n",
       "      <td>-0.309977</td>\n",
       "      <td>-0.189157</td>\n",
       "      <td>-1.178433</td>\n",
       "      <td>-0.904532</td>\n",
       "      <td>0.000000</td>\n",
       "    </tr>\n",
       "    <tr>\n",
       "      <th>50%</th>\n",
       "      <td>0.737677</td>\n",
       "      <td>0.101264</td>\n",
       "      <td>0.0</td>\n",
       "      <td>0.301868</td>\n",
       "      <td>0.427648</td>\n",
       "      <td>-0.893208</td>\n",
       "      <td>-0.358219</td>\n",
       "      <td>1.000000</td>\n",
       "    </tr>\n",
       "    <tr>\n",
       "      <th>75%</th>\n",
       "      <td>1.236049</td>\n",
       "      <td>0.215866</td>\n",
       "      <td>0.0</td>\n",
       "      <td>0.553395</td>\n",
       "      <td>1.044452</td>\n",
       "      <td>1.103364</td>\n",
       "      <td>0.808482</td>\n",
       "      <td>1.000000</td>\n",
       "    </tr>\n",
       "    <tr>\n",
       "      <th>max</th>\n",
       "      <td>1.584910</td>\n",
       "      <td>1.820293</td>\n",
       "      <td>0.0</td>\n",
       "      <td>1.215055</td>\n",
       "      <td>1.044452</td>\n",
       "      <td>1.673814</td>\n",
       "      <td>2.049259</td>\n",
       "      <td>1.000000</td>\n",
       "    </tr>\n",
       "  </tbody>\n",
       "</table>\n",
       "</div>"
      ],
      "text/plain": [
       "       pedido.data.attributes.age  pedido.data.attributes.diagnostic_main  \\\n",
       "count                  830.000000                              830.000000   \n",
       "mean                     0.323607                               -0.039986   \n",
       "std                      1.006114                                0.650873   \n",
       "min                     -1.554838                               -1.503163   \n",
       "25%                     -1.006628                               -0.586347   \n",
       "50%                      0.737677                                0.101264   \n",
       "75%                      1.236049                                0.215866   \n",
       "max                      1.584910                                1.820293   \n",
       "\n",
       "       pedido.data.attributes.gender    articulo  \\\n",
       "count                          830.0  830.000000   \n",
       "mean                             0.0    0.076390   \n",
       "std                              0.0    0.742731   \n",
       "min                              0.0   -1.880409   \n",
       "25%                              0.0   -0.309977   \n",
       "50%                              0.0    0.301868   \n",
       "75%                              0.0    0.553395   \n",
       "max                              0.0    1.215055   \n",
       "\n",
       "       respuesta.articlesRevisedYear  respuesta.articlesRevisedMonth  \\\n",
       "count                     830.000000                      830.000000   \n",
       "mean                        0.093236                       -0.168806   \n",
       "std                         1.156247                        1.082831   \n",
       "min                        -2.656375                       -1.463658   \n",
       "25%                        -0.189157                       -1.178433   \n",
       "50%                         0.427648                       -0.893208   \n",
       "75%                         1.044452                        1.103364   \n",
       "max                         1.044452                        1.673814   \n",
       "\n",
       "       respuesta.pubmed_keys    utilidad  \n",
       "count             830.000000  830.000000  \n",
       "mean               -0.031101    0.583133  \n",
       "std                 0.925381    0.493338  \n",
       "min                -1.089722    0.000000  \n",
       "25%                -0.904532    0.000000  \n",
       "50%                -0.358219    1.000000  \n",
       "75%                 0.808482    1.000000  \n",
       "max                 2.049259    1.000000  "
      ]
     },
     "execution_count": 16,
     "metadata": {},
     "output_type": "execute_result"
    }
   ],
   "source": [
    "dfDataSetComplete.describe()"
   ]
  },
  {
   "cell_type": "markdown",
   "metadata": {},
   "source": [
    "We check the number of results"
   ]
  },
  {
   "cell_type": "code",
   "execution_count": 17,
   "metadata": {},
   "outputs": [
    {
     "data": {
      "text/plain": [
       "utilidad\n",
       "0.0    346\n",
       "1.0    484\n",
       "dtype: int64"
      ]
     },
     "execution_count": 17,
     "metadata": {},
     "output_type": "execute_result"
    }
   ],
   "source": [
    " dfDataSetComplete.groupby('utilidad').size()"
   ]
  },
  {
   "cell_type": "markdown",
   "metadata": {},
   "source": [
    "Choosed \"age\", \"diagnostic_main\", \"month\" and \"pubmed_keys\" attributes (based on PCA_V3 study)"
   ]
  },
  {
   "cell_type": "code",
   "execution_count": 18,
   "metadata": {},
   "outputs": [
    {
     "data": {
      "text/plain": [
       "(830, 4)"
      ]
     },
     "execution_count": 18,
     "metadata": {},
     "output_type": "execute_result"
    }
   ],
   "source": [
    "dataToTrain = dfDataSetComplete[[\"pedido.data.attributes.age\",\n",
    "    \"pedido.data.attributes.diagnostic_main\",\n",
    "    \"respuesta.articlesRevisedMonth\",\n",
    "    \"respuesta.pubmed_keys\",\n",
    "    \"utilidad\"\n",
    "]]\n",
    "\n",
    "\n",
    "X = np.array(dataToTrain.drop(['utilidad'],1))\n",
    "y = np.array(dataToTrain['utilidad'])\n",
    "X.shape"
   ]
  },
  {
   "cell_type": "code",
   "execution_count": 19,
   "metadata": {},
   "outputs": [],
   "source": [
    "X_train, X_test, y_train, y_test = train_test_split(X, y, random_state=0)"
   ]
  },
  {
   "cell_type": "code",
   "execution_count": 20,
   "metadata": {},
   "outputs": [
    {
     "data": {
      "text/plain": [
       "0.5627009646302251"
      ]
     },
     "execution_count": 20,
     "metadata": {},
     "output_type": "execute_result"
    }
   ],
   "source": [
    "model = linear_model.LogisticRegression()\n",
    "model.fit(X_train,y_train)\n",
    " \n",
    "model.score(X_train,y_train)"
   ]
  },
  {
   "cell_type": "code",
   "execution_count": 21,
   "metadata": {},
   "outputs": [
    {
     "name": "stdout",
     "output_type": "stream",
     "text": [
      "Logistic Regression: 0.554531 (0.059046)\n"
     ]
    }
   ],
   "source": [
    "# see: https://es.wikipedia.org/wiki/Validaci%C3%B3n_cruzada\n",
    "kfold = model_selection.KFold(n_splits=10)\n",
    "cv_results = model_selection.cross_val_score(model, X_train, y_train, cv=kfold, scoring='accuracy')\n",
    "msg = \"%s: %f (%f)\" % (\"Logistic Regression\", cv_results.mean(), cv_results.std())\n",
    "print(msg)"
   ]
  },
  {
   "cell_type": "code",
   "execution_count": 22,
   "metadata": {},
   "outputs": [
    {
     "name": "stdout",
     "output_type": "stream",
     "text": [
      "0.49038461538461536\n"
     ]
    }
   ],
   "source": [
    "predictions = model.predict(X_test)\n",
    "print(accuracy_score(y_test, predictions))"
   ]
  },
  {
   "cell_type": "code",
   "execution_count": 23,
   "metadata": {},
   "outputs": [],
   "source": [
    "import seaborn as sn\n",
    "import matplotlib.pyplot as plt\n",
    "from sklearn.metrics import confusion_matrix "
   ]
  },
  {
   "cell_type": "code",
   "execution_count": 24,
   "metadata": {},
   "outputs": [
    {
     "data": {
      "image/png": "[encoded data removed]",
      "text/plain": [
       "<Figure size 432x288 with 2 Axes>"
      ]
     },
     "metadata": {},
     "output_type": "display_data"
    }
   ],
   "source": [
    "cf = confusion_matrix(y_test, predictions)\n",
    "\n",
    "df_cm = pd.DataFrame(cf, range(2), range(2))\n",
    "sn.set(font_scale=1.4) # for label size\n",
    "sn.heatmap(df_cm, annot=True, annot_kws={\"size\": 16}) # font size\n",
    "\n",
    "plt.show()"
   ]
  },
  {
   "cell_type": "markdown",
   "metadata": {},
   "source": [
    "## Run Prediction"
   ]
  },
  {
   "cell_type": "code",
   "execution_count": 25,
   "metadata": {},
   "outputs": [
    {
     "data": {
      "text/plain": [
       "array([0., 0., 0., ..., 1., 1., 1.])"
      ]
     },
     "execution_count": 25,
     "metadata": {},
     "output_type": "execute_result"
    }
   ],
   "source": [
    "result = model.predict(dfDataSetToPredict[[\"pedido.data.attributes.age\",\n",
    "    \"pedido.data.attributes.diagnostic_main\",\n",
    "    \"respuesta.articlesRevisedMonth\",\n",
    "    \"respuesta.pubmed_keys\"\n",
    "]])\n",
    "\n",
    "result"
   ]
  },
  {
   "cell_type": "markdown",
   "metadata": {},
   "source": [
    "## Try with all atributes"
   ]
  },
  {
   "cell_type": "code",
   "execution_count": 26,
   "metadata": {},
   "outputs": [
    {
     "data": {
      "text/plain": [
       "(830, 7)"
      ]
     },
     "execution_count": 26,
     "metadata": {},
     "output_type": "execute_result"
    }
   ],
   "source": [
    "X = np.array(dfDataSetComplete.drop(['utilidad'],1))\n",
    "y = np.array(dfDataSetComplete['utilidad'])\n",
    "X.shape"
   ]
  },
  {
   "cell_type": "code",
   "execution_count": 27,
   "metadata": {},
   "outputs": [
    {
     "data": {
      "text/plain": [
       "0.5530546623794212"
      ]
     },
     "execution_count": 27,
     "metadata": {},
     "output_type": "execute_result"
    }
   ],
   "source": [
    "X_train, X_test, y_train, y_test = train_test_split(X, y, random_state=0)\n",
    "model = linear_model.LogisticRegression()\n",
    "model.fit(X_train,y_train)\n",
    " \n",
    "model.score(X_train,y_train)"
   ]
  },
  {
   "cell_type": "code",
   "execution_count": 28,
   "metadata": {},
   "outputs": [
    {
     "name": "stdout",
     "output_type": "stream",
     "text": [
      "Logistic Regression: 0.541654 (0.047477)\n"
     ]
    }
   ],
   "source": [
    "kfold = model_selection.KFold(n_splits=10)\n",
    "cv_results = model_selection.cross_val_score(model, X_train, y_train, cv=kfold, scoring='accuracy')\n",
    "msg = \"%s: %f (%f)\" % (\"Logistic Regression\", cv_results.mean(), cv_results.std())\n",
    "print(msg)"
   ]
  },
  {
   "cell_type": "code",
   "execution_count": 29,
   "metadata": {},
   "outputs": [
    {
     "name": "stdout",
     "output_type": "stream",
     "text": [
      "0.5\n"
     ]
    }
   ],
   "source": [
    "predictions = model.predict(X_test)\n",
    "print(accuracy_score(y_test, predictions))"
   ]
  },
  {
   "cell_type": "code",
   "execution_count": 30,
   "metadata": {},
   "outputs": [
    {
     "data": {
      "image/png": "[encoded data removed]",
      "text/plain": [
       "<Figure size 432x288 with 2 Axes>"
      ]
     },
     "metadata": {},
     "output_type": "display_data"
    }
   ],
   "source": [
    "cf = confusion_matrix(y_test, predictions)\n",
    "\n",
    "df_cm = pd.DataFrame(cf, range(2), range(2))\n",
    "sn.set(font_scale=1.4) # for label size\n",
    "sn.heatmap(df_cm, annot=True, annot_kws={\"size\": 16}) # font size\n",
    "\n",
    "plt.show()"
   ]
  },
  {
   "cell_type": "code",
   "execution_count": null,
   "metadata": {},
   "outputs": [],
   "source": []
  }
 ],
 "metadata": {
  "kernelspec": {
   "display_name": "Python 3",
   "language": "python",
   "name": "python3"
  },
  "language_info": {
   "codemirror_mode": {
    "name": "ipython",
    "version": 3
   },
   "file_extension": ".py",
   "mimetype": "text/x-python",
   "name": "python",
   "nbconvert_exporter": "python",
   "pygments_lexer": "ipython3",
   "version": "3.7.6"
  }
 },
 "nbformat": 4,
 "nbformat_minor": 4
}

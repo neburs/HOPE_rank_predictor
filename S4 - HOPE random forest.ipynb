{
 "cells": [
  {
   "cell_type": "markdown",
   "metadata": {},
   "source": [
    "# Import data from DB."
   ]
  },
  {
   "cell_type": "code",
   "execution_count": 1,
   "metadata": {},
   "outputs": [],
   "source": [
    "import pandas as pd\n",
    "import numpy as np"
   ]
  },
  {
   "cell_type": "code",
   "execution_count": 2,
   "metadata": {},
   "outputs": [
    {
     "name": "stdout",
     "output_type": "stream",
     "text": [
      "1243\n"
     ]
    }
   ],
   "source": [
    "dfOrg = pd.read_csv('hope_dataset_cleaned.csv')  \n",
    "\n",
    "print(dfOrg.shape[0])"
   ]
  },
  {
   "cell_type": "code",
   "execution_count": 3,
   "metadata": {},
   "outputs": [
    {
     "data": {
      "text/html": [
       "<div>\n",
       "<style scoped>\n",
       "    .dataframe tbody tr th:only-of-type {\n",
       "        vertical-align: middle;\n",
       "    }\n",
       "\n",
       "    .dataframe tbody tr th {\n",
       "        vertical-align: top;\n",
       "    }\n",
       "\n",
       "    .dataframe thead th {\n",
       "        text-align: right;\n",
       "    }\n",
       "</style>\n",
       "<table border=\"1\" class=\"dataframe\">\n",
       "  <thead>\n",
       "    <tr style=\"text-align: right;\">\n",
       "      <th></th>\n",
       "      <th>pedido.data.attributes.age</th>\n",
       "      <th>pedido.data.attributes.diagnostic_main</th>\n",
       "      <th>pedido.data.attributes.gender</th>\n",
       "      <th>articulo</th>\n",
       "      <th>respuesta.articlesRevisedYear</th>\n",
       "      <th>respuesta.articlesRevisedMonth</th>\n",
       "      <th>respuesta.pubmed_keys</th>\n",
       "      <th>utilidad</th>\n",
       "    </tr>\n",
       "  </thead>\n",
       "  <tbody>\n",
       "    <tr>\n",
       "      <th>0</th>\n",
       "      <td>75.0</td>\n",
       "      <td>FISTULA PERITONEAL</td>\n",
       "      <td>male</td>\n",
       "      <td>27395425</td>\n",
       "      <td>2018</td>\n",
       "      <td>1</td>\n",
       "      <td>Abdomen,Adenocarcinoma,Antiemetics,Blood Cultu...</td>\n",
       "      <td>1.0</td>\n",
       "    </tr>\n",
       "    <tr>\n",
       "      <th>1</th>\n",
       "      <td>75.0</td>\n",
       "      <td>FISTULA PERITONEAL</td>\n",
       "      <td>male</td>\n",
       "      <td>28560554</td>\n",
       "      <td>2018</td>\n",
       "      <td>4</td>\n",
       "      <td>Abdomen,Adenocarcinoma,Antiemetics,Blood Cultu...</td>\n",
       "      <td>NaN</td>\n",
       "    </tr>\n",
       "    <tr>\n",
       "      <th>2</th>\n",
       "      <td>75.0</td>\n",
       "      <td>FISTULA PERITONEAL</td>\n",
       "      <td>male</td>\n",
       "      <td>28641726</td>\n",
       "      <td>2017</td>\n",
       "      <td>12</td>\n",
       "      <td>Abdomen,Adenocarcinoma,Antiemetics,Blood Cultu...</td>\n",
       "      <td>NaN</td>\n",
       "    </tr>\n",
       "    <tr>\n",
       "      <th>3</th>\n",
       "      <td>75.0</td>\n",
       "      <td>FISTULA PERITONEAL</td>\n",
       "      <td>male</td>\n",
       "      <td>26245344</td>\n",
       "      <td>2016</td>\n",
       "      <td>12</td>\n",
       "      <td>Abdomen,Adenocarcinoma,Antiemetics,Blood Cultu...</td>\n",
       "      <td>NaN</td>\n",
       "    </tr>\n",
       "    <tr>\n",
       "      <th>4</th>\n",
       "      <td>75.0</td>\n",
       "      <td>FISTULA PERITONEAL</td>\n",
       "      <td>male</td>\n",
       "      <td>28942543</td>\n",
       "      <td>2018</td>\n",
       "      <td>6</td>\n",
       "      <td>Abdomen,Adenocarcinoma,Antiemetics,Blood Cultu...</td>\n",
       "      <td>NaN</td>\n",
       "    </tr>\n",
       "    <tr>\n",
       "      <th>5</th>\n",
       "      <td>75.0</td>\n",
       "      <td>FISTULA PERITONEAL</td>\n",
       "      <td>male</td>\n",
       "      <td>24782153</td>\n",
       "      <td>2014</td>\n",
       "      <td>6</td>\n",
       "      <td>Abdomen,Adenocarcinoma,Antiemetics,Blood Cultu...</td>\n",
       "      <td>NaN</td>\n",
       "    </tr>\n",
       "    <tr>\n",
       "      <th>6</th>\n",
       "      <td>75.0</td>\n",
       "      <td>FISTULA PERITONEAL</td>\n",
       "      <td>male</td>\n",
       "      <td>28002229</td>\n",
       "      <td>2018</td>\n",
       "      <td>9</td>\n",
       "      <td>Abdomen,Adenocarcinoma,Antiemetics,Blood Cultu...</td>\n",
       "      <td>NaN</td>\n",
       "    </tr>\n",
       "    <tr>\n",
       "      <th>7</th>\n",
       "      <td>75.0</td>\n",
       "      <td>FISTULA PERITONEAL</td>\n",
       "      <td>male</td>\n",
       "      <td>27505109</td>\n",
       "      <td>2017</td>\n",
       "      <td>4</td>\n",
       "      <td>Abdomen,Adenocarcinoma,Antiemetics,Blood Cultu...</td>\n",
       "      <td>NaN</td>\n",
       "    </tr>\n",
       "    <tr>\n",
       "      <th>8</th>\n",
       "      <td>75.0</td>\n",
       "      <td>FISTULA PERITONEAL</td>\n",
       "      <td>male</td>\n",
       "      <td>24850546</td>\n",
       "      <td>2015</td>\n",
       "      <td>1</td>\n",
       "      <td>Abdomen,Adenocarcinoma,Antiemetics,Blood Cultu...</td>\n",
       "      <td>NaN</td>\n",
       "    </tr>\n",
       "    <tr>\n",
       "      <th>9</th>\n",
       "      <td>75.0</td>\n",
       "      <td>FISTULA PERITONEAL</td>\n",
       "      <td>male</td>\n",
       "      <td>29371050</td>\n",
       "      <td>2019</td>\n",
       "      <td>4</td>\n",
       "      <td>Abdomen,Adenocarcinoma,Antiemetics,Blood Cultu...</td>\n",
       "      <td>NaN</td>\n",
       "    </tr>\n",
       "  </tbody>\n",
       "</table>\n",
       "</div>"
      ],
      "text/plain": [
       "   pedido.data.attributes.age pedido.data.attributes.diagnostic_main  \\\n",
       "0                        75.0                     FISTULA PERITONEAL   \n",
       "1                        75.0                     FISTULA PERITONEAL   \n",
       "2                        75.0                     FISTULA PERITONEAL   \n",
       "3                        75.0                     FISTULA PERITONEAL   \n",
       "4                        75.0                     FISTULA PERITONEAL   \n",
       "5                        75.0                     FISTULA PERITONEAL   \n",
       "6                        75.0                     FISTULA PERITONEAL   \n",
       "7                        75.0                     FISTULA PERITONEAL   \n",
       "8                        75.0                     FISTULA PERITONEAL   \n",
       "9                        75.0                     FISTULA PERITONEAL   \n",
       "\n",
       "  pedido.data.attributes.gender  articulo  respuesta.articlesRevisedYear  \\\n",
       "0                          male  27395425                           2018   \n",
       "1                          male  28560554                           2018   \n",
       "2                          male  28641726                           2017   \n",
       "3                          male  26245344                           2016   \n",
       "4                          male  28942543                           2018   \n",
       "5                          male  24782153                           2014   \n",
       "6                          male  28002229                           2018   \n",
       "7                          male  27505109                           2017   \n",
       "8                          male  24850546                           2015   \n",
       "9                          male  29371050                           2019   \n",
       "\n",
       "   respuesta.articlesRevisedMonth  \\\n",
       "0                               1   \n",
       "1                               4   \n",
       "2                              12   \n",
       "3                              12   \n",
       "4                               6   \n",
       "5                               6   \n",
       "6                               9   \n",
       "7                               4   \n",
       "8                               1   \n",
       "9                               4   \n",
       "\n",
       "                               respuesta.pubmed_keys  utilidad  \n",
       "0  Abdomen,Adenocarcinoma,Antiemetics,Blood Cultu...       1.0  \n",
       "1  Abdomen,Adenocarcinoma,Antiemetics,Blood Cultu...       NaN  \n",
       "2  Abdomen,Adenocarcinoma,Antiemetics,Blood Cultu...       NaN  \n",
       "3  Abdomen,Adenocarcinoma,Antiemetics,Blood Cultu...       NaN  \n",
       "4  Abdomen,Adenocarcinoma,Antiemetics,Blood Cultu...       NaN  \n",
       "5  Abdomen,Adenocarcinoma,Antiemetics,Blood Cultu...       NaN  \n",
       "6  Abdomen,Adenocarcinoma,Antiemetics,Blood Cultu...       NaN  \n",
       "7  Abdomen,Adenocarcinoma,Antiemetics,Blood Cultu...       NaN  \n",
       "8  Abdomen,Adenocarcinoma,Antiemetics,Blood Cultu...       NaN  \n",
       "9  Abdomen,Adenocarcinoma,Antiemetics,Blood Cultu...       NaN  "
      ]
     },
     "execution_count": 3,
     "metadata": {},
     "output_type": "execute_result"
    }
   ],
   "source": [
    "dfOrg.head(10)"
   ]
  },
  {
   "cell_type": "markdown",
   "metadata": {},
   "source": [
    "# Transform (factorice) from Categories to continuous atributes"
   ]
  },
  {
   "cell_type": "markdown",
   "metadata": {},
   "source": [
    "Transform 'pedido.data.attributes.diagnostic_main' atribute"
   ]
  },
  {
   "cell_type": "code",
   "execution_count": 4,
   "metadata": {},
   "outputs": [],
   "source": [
    "dataDiagnosticMain, categoriesDiagnosticMain = pd.factorize(dfOrg['pedido.data.attributes.diagnostic_main'])\n",
    "\n",
    "dfOrg['pedido.data.attributes.diagnostic_main'] = dataDiagnosticMain"
   ]
  },
  {
   "cell_type": "markdown",
   "metadata": {},
   "source": [
    "Transform 'gender' atribute"
   ]
  },
  {
   "cell_type": "code",
   "execution_count": 5,
   "metadata": {},
   "outputs": [],
   "source": [
    "dataGender, categoriesGender = pd.factorize(dfOrg['pedido.data.attributes.gender'])\n",
    "\n",
    "dfOrg['pedido.data.attributes.gender'] = dataGender"
   ]
  },
  {
   "cell_type": "markdown",
   "metadata": {},
   "source": [
    "Transform 'respuesta.pubmed_keys' atribute"
   ]
  },
  {
   "cell_type": "code",
   "execution_count": 6,
   "metadata": {},
   "outputs": [
    {
     "name": "stdout",
     "output_type": "stream",
     "text": [
      "total: 80\n"
     ]
    }
   ],
   "source": [
    "categoriesORGPubMedKeys = dfOrg['respuesta.pubmed_keys'].value_counts()\n",
    "\n",
    "print(\"total: \" + str(categoriesORGPubMedKeys.size))"
   ]
  },
  {
   "cell_type": "code",
   "execution_count": 7,
   "metadata": {},
   "outputs": [],
   "source": [
    "dataPubMedKeys, categoriesPubMedKeys = pd.factorize(dfOrg['respuesta.pubmed_keys'])\n",
    "\n",
    "dfOrg['respuesta.pubmed_keys'] = dataPubMedKeys"
   ]
  },
  {
   "cell_type": "code",
   "execution_count": 8,
   "metadata": {},
   "outputs": [
    {
     "data": {
      "text/html": [
       "<div>\n",
       "<style scoped>\n",
       "    .dataframe tbody tr th:only-of-type {\n",
       "        vertical-align: middle;\n",
       "    }\n",
       "\n",
       "    .dataframe tbody tr th {\n",
       "        vertical-align: top;\n",
       "    }\n",
       "\n",
       "    .dataframe thead th {\n",
       "        text-align: right;\n",
       "    }\n",
       "</style>\n",
       "<table border=\"1\" class=\"dataframe\">\n",
       "  <thead>\n",
       "    <tr style=\"text-align: right;\">\n",
       "      <th></th>\n",
       "      <th>pedido.data.attributes.age</th>\n",
       "      <th>pedido.data.attributes.diagnostic_main</th>\n",
       "      <th>pedido.data.attributes.gender</th>\n",
       "      <th>articulo</th>\n",
       "      <th>respuesta.articlesRevisedYear</th>\n",
       "      <th>respuesta.articlesRevisedMonth</th>\n",
       "      <th>respuesta.pubmed_keys</th>\n",
       "      <th>utilidad</th>\n",
       "    </tr>\n",
       "  </thead>\n",
       "  <tbody>\n",
       "    <tr>\n",
       "      <th>0</th>\n",
       "      <td>75.0</td>\n",
       "      <td>0</td>\n",
       "      <td>0</td>\n",
       "      <td>27395425</td>\n",
       "      <td>2018</td>\n",
       "      <td>1</td>\n",
       "      <td>0</td>\n",
       "      <td>1.0</td>\n",
       "    </tr>\n",
       "    <tr>\n",
       "      <th>1</th>\n",
       "      <td>75.0</td>\n",
       "      <td>0</td>\n",
       "      <td>0</td>\n",
       "      <td>28560554</td>\n",
       "      <td>2018</td>\n",
       "      <td>4</td>\n",
       "      <td>0</td>\n",
       "      <td>NaN</td>\n",
       "    </tr>\n",
       "    <tr>\n",
       "      <th>2</th>\n",
       "      <td>75.0</td>\n",
       "      <td>0</td>\n",
       "      <td>0</td>\n",
       "      <td>28641726</td>\n",
       "      <td>2017</td>\n",
       "      <td>12</td>\n",
       "      <td>0</td>\n",
       "      <td>NaN</td>\n",
       "    </tr>\n",
       "    <tr>\n",
       "      <th>3</th>\n",
       "      <td>75.0</td>\n",
       "      <td>0</td>\n",
       "      <td>0</td>\n",
       "      <td>26245344</td>\n",
       "      <td>2016</td>\n",
       "      <td>12</td>\n",
       "      <td>0</td>\n",
       "      <td>NaN</td>\n",
       "    </tr>\n",
       "    <tr>\n",
       "      <th>4</th>\n",
       "      <td>75.0</td>\n",
       "      <td>0</td>\n",
       "      <td>0</td>\n",
       "      <td>28942543</td>\n",
       "      <td>2018</td>\n",
       "      <td>6</td>\n",
       "      <td>0</td>\n",
       "      <td>NaN</td>\n",
       "    </tr>\n",
       "    <tr>\n",
       "      <th>5</th>\n",
       "      <td>75.0</td>\n",
       "      <td>0</td>\n",
       "      <td>0</td>\n",
       "      <td>24782153</td>\n",
       "      <td>2014</td>\n",
       "      <td>6</td>\n",
       "      <td>0</td>\n",
       "      <td>NaN</td>\n",
       "    </tr>\n",
       "    <tr>\n",
       "      <th>6</th>\n",
       "      <td>75.0</td>\n",
       "      <td>0</td>\n",
       "      <td>0</td>\n",
       "      <td>28002229</td>\n",
       "      <td>2018</td>\n",
       "      <td>9</td>\n",
       "      <td>0</td>\n",
       "      <td>NaN</td>\n",
       "    </tr>\n",
       "    <tr>\n",
       "      <th>7</th>\n",
       "      <td>75.0</td>\n",
       "      <td>0</td>\n",
       "      <td>0</td>\n",
       "      <td>27505109</td>\n",
       "      <td>2017</td>\n",
       "      <td>4</td>\n",
       "      <td>0</td>\n",
       "      <td>NaN</td>\n",
       "    </tr>\n",
       "    <tr>\n",
       "      <th>8</th>\n",
       "      <td>75.0</td>\n",
       "      <td>0</td>\n",
       "      <td>0</td>\n",
       "      <td>24850546</td>\n",
       "      <td>2015</td>\n",
       "      <td>1</td>\n",
       "      <td>0</td>\n",
       "      <td>NaN</td>\n",
       "    </tr>\n",
       "    <tr>\n",
       "      <th>9</th>\n",
       "      <td>75.0</td>\n",
       "      <td>0</td>\n",
       "      <td>0</td>\n",
       "      <td>29371050</td>\n",
       "      <td>2019</td>\n",
       "      <td>4</td>\n",
       "      <td>0</td>\n",
       "      <td>NaN</td>\n",
       "    </tr>\n",
       "  </tbody>\n",
       "</table>\n",
       "</div>"
      ],
      "text/plain": [
       "   pedido.data.attributes.age  pedido.data.attributes.diagnostic_main  \\\n",
       "0                        75.0                                       0   \n",
       "1                        75.0                                       0   \n",
       "2                        75.0                                       0   \n",
       "3                        75.0                                       0   \n",
       "4                        75.0                                       0   \n",
       "5                        75.0                                       0   \n",
       "6                        75.0                                       0   \n",
       "7                        75.0                                       0   \n",
       "8                        75.0                                       0   \n",
       "9                        75.0                                       0   \n",
       "\n",
       "   pedido.data.attributes.gender  articulo  respuesta.articlesRevisedYear  \\\n",
       "0                              0  27395425                           2018   \n",
       "1                              0  28560554                           2018   \n",
       "2                              0  28641726                           2017   \n",
       "3                              0  26245344                           2016   \n",
       "4                              0  28942543                           2018   \n",
       "5                              0  24782153                           2014   \n",
       "6                              0  28002229                           2018   \n",
       "7                              0  27505109                           2017   \n",
       "8                              0  24850546                           2015   \n",
       "9                              0  29371050                           2019   \n",
       "\n",
       "   respuesta.articlesRevisedMonth  respuesta.pubmed_keys  utilidad  \n",
       "0                               1                      0       1.0  \n",
       "1                               4                      0       NaN  \n",
       "2                              12                      0       NaN  \n",
       "3                              12                      0       NaN  \n",
       "4                               6                      0       NaN  \n",
       "5                               6                      0       NaN  \n",
       "6                               9                      0       NaN  \n",
       "7                               4                      0       NaN  \n",
       "8                               1                      0       NaN  \n",
       "9                               4                      0       NaN  "
      ]
     },
     "execution_count": 8,
     "metadata": {},
     "output_type": "execute_result"
    }
   ],
   "source": [
    "dfOrg.head(10)"
   ]
  },
  {
   "cell_type": "code",
   "execution_count": 9,
   "metadata": {},
   "outputs": [
    {
     "name": "stdout",
     "output_type": "stream",
     "text": [
      "age NaN => 10\n",
      "diagnostic_main NaN => 0\n",
      "gender NaN => 0\n",
      "articulo NaN => 0\n",
      "articlesRevisedYear NaN => 0\n",
      "articlesRevisedMonth NaN => 0\n",
      "pubmed_keys NaN => 0\n",
      "utilidad NaN => 1192\n"
     ]
    }
   ],
   "source": [
    "print(\"age NaN => \" + str(dfOrg[pd.isnull(dfOrg['pedido.data.attributes.age'])].shape[0]))\n",
    "print(\"diagnostic_main NaN => \" + str(dfOrg[pd.isnull(dfOrg['pedido.data.attributes.diagnostic_main'])].shape[0]))\n",
    "print(\"gender NaN => \" + str(dfOrg[pd.isnull(dfOrg['pedido.data.attributes.gender'])].shape[0]))\n",
    "print(\"articulo NaN => \" + str(dfOrg[pd.isnull(dfOrg['articulo'])].shape[0]))\n",
    "print(\"articlesRevisedYear NaN => \" + str(dfOrg[pd.isnull(dfOrg['respuesta.articlesRevisedYear'])].shape[0]))\n",
    "print(\"articlesRevisedMonth NaN => \" + str(dfOrg[pd.isnull(dfOrg['respuesta.articlesRevisedMonth'])].shape[0]))\n",
    "print(\"pubmed_keys NaN => \" + str(dfOrg[pd.isnull(dfOrg['respuesta.pubmed_keys'])].shape[0]))\n",
    "print(\"utilidad NaN => \" + str(dfOrg[pd.isnull(dfOrg['utilidad'])].shape[0]))"
   ]
  },
  {
   "cell_type": "markdown",
   "metadata": {},
   "source": [
    "Remove row with age eq NaN"
   ]
  },
  {
   "cell_type": "code",
   "execution_count": 10,
   "metadata": {},
   "outputs": [],
   "source": [
    "dfOrg = dfOrg[pd.notnull(dfOrg['pedido.data.attributes.age'])]"
   ]
  },
  {
   "cell_type": "markdown",
   "metadata": {},
   "source": [
    "# Standardize the Data"
   ]
  },
  {
   "cell_type": "markdown",
   "metadata": {},
   "source": [
    "Choosed \"age\", \"diagnostic_main\", \"year\", \"pubmed_keys\" and \"articulo\" attributes (based on PCA_V2 study)"
   ]
  },
  {
   "cell_type": "code",
   "execution_count": 11,
   "metadata": {},
   "outputs": [
    {
     "data": {
      "text/html": [
       "<div>\n",
       "<style scoped>\n",
       "    .dataframe tbody tr th:only-of-type {\n",
       "        vertical-align: middle;\n",
       "    }\n",
       "\n",
       "    .dataframe tbody tr th {\n",
       "        vertical-align: top;\n",
       "    }\n",
       "\n",
       "    .dataframe thead th {\n",
       "        text-align: right;\n",
       "    }\n",
       "</style>\n",
       "<table border=\"1\" class=\"dataframe\">\n",
       "  <thead>\n",
       "    <tr style=\"text-align: right;\">\n",
       "      <th></th>\n",
       "      <th>pedido.data.attributes.age</th>\n",
       "      <th>pedido.data.attributes.diagnostic_main</th>\n",
       "      <th>respuesta.articlesRevisedYear</th>\n",
       "      <th>respuesta.pubmed_keys</th>\n",
       "      <th>articulo</th>\n",
       "      <th>utilidad</th>\n",
       "    </tr>\n",
       "  </thead>\n",
       "  <tbody>\n",
       "    <tr>\n",
       "      <th>0</th>\n",
       "      <td>1.443474</td>\n",
       "      <td>-1.360638</td>\n",
       "      <td>0.643671</td>\n",
       "      <td>-1.650220</td>\n",
       "      <td>-0.221939</td>\n",
       "      <td>1.0</td>\n",
       "    </tr>\n",
       "    <tr>\n",
       "      <th>1</th>\n",
       "      <td>1.443474</td>\n",
       "      <td>-1.360638</td>\n",
       "      <td>0.643671</td>\n",
       "      <td>-1.650220</td>\n",
       "      <td>0.137839</td>\n",
       "      <td>NaN</td>\n",
       "    </tr>\n",
       "    <tr>\n",
       "      <th>2</th>\n",
       "      <td>1.443474</td>\n",
       "      <td>-1.360638</td>\n",
       "      <td>0.224418</td>\n",
       "      <td>-1.650220</td>\n",
       "      <td>0.162904</td>\n",
       "      <td>NaN</td>\n",
       "    </tr>\n",
       "    <tr>\n",
       "      <th>3</th>\n",
       "      <td>1.443474</td>\n",
       "      <td>-1.360638</td>\n",
       "      <td>-0.194835</td>\n",
       "      <td>-1.650220</td>\n",
       "      <td>-0.577070</td>\n",
       "      <td>NaN</td>\n",
       "    </tr>\n",
       "    <tr>\n",
       "      <th>4</th>\n",
       "      <td>1.443474</td>\n",
       "      <td>-1.360638</td>\n",
       "      <td>0.643671</td>\n",
       "      <td>-1.650220</td>\n",
       "      <td>0.255793</td>\n",
       "      <td>NaN</td>\n",
       "    </tr>\n",
       "    <tr>\n",
       "      <th>...</th>\n",
       "      <td>...</td>\n",
       "      <td>...</td>\n",
       "      <td>...</td>\n",
       "      <td>...</td>\n",
       "      <td>...</td>\n",
       "      <td>...</td>\n",
       "    </tr>\n",
       "    <tr>\n",
       "      <th>1238</th>\n",
       "      <td>-0.429381</td>\n",
       "      <td>-0.580827</td>\n",
       "      <td>-0.194835</td>\n",
       "      <td>1.520816</td>\n",
       "      <td>0.574852</td>\n",
       "      <td>NaN</td>\n",
       "    </tr>\n",
       "    <tr>\n",
       "      <th>1239</th>\n",
       "      <td>-0.429381</td>\n",
       "      <td>-0.580827</td>\n",
       "      <td>1.062924</td>\n",
       "      <td>1.520816</td>\n",
       "      <td>-0.540973</td>\n",
       "      <td>NaN</td>\n",
       "    </tr>\n",
       "    <tr>\n",
       "      <th>1240</th>\n",
       "      <td>-0.429381</td>\n",
       "      <td>-0.580827</td>\n",
       "      <td>-0.614089</td>\n",
       "      <td>1.520816</td>\n",
       "      <td>0.801912</td>\n",
       "      <td>NaN</td>\n",
       "    </tr>\n",
       "    <tr>\n",
       "      <th>1241</th>\n",
       "      <td>-0.429381</td>\n",
       "      <td>-0.580827</td>\n",
       "      <td>1.062924</td>\n",
       "      <td>1.520816</td>\n",
       "      <td>-0.056202</td>\n",
       "      <td>NaN</td>\n",
       "    </tr>\n",
       "    <tr>\n",
       "      <th>1242</th>\n",
       "      <td>-0.429381</td>\n",
       "      <td>-0.580827</td>\n",
       "      <td>-0.614089</td>\n",
       "      <td>1.520816</td>\n",
       "      <td>-2.782199</td>\n",
       "      <td>NaN</td>\n",
       "    </tr>\n",
       "  </tbody>\n",
       "</table>\n",
       "<p>1233 rows × 6 columns</p>\n",
       "</div>"
      ],
      "text/plain": [
       "      pedido.data.attributes.age  pedido.data.attributes.diagnostic_main  \\\n",
       "0                       1.443474                               -1.360638   \n",
       "1                       1.443474                               -1.360638   \n",
       "2                       1.443474                               -1.360638   \n",
       "3                       1.443474                               -1.360638   \n",
       "4                       1.443474                               -1.360638   \n",
       "...                          ...                                     ...   \n",
       "1238                   -0.429381                               -0.580827   \n",
       "1239                   -0.429381                               -0.580827   \n",
       "1240                   -0.429381                               -0.580827   \n",
       "1241                   -0.429381                               -0.580827   \n",
       "1242                   -0.429381                               -0.580827   \n",
       "\n",
       "      respuesta.articlesRevisedYear  respuesta.pubmed_keys  articulo  utilidad  \n",
       "0                          0.643671              -1.650220 -0.221939       1.0  \n",
       "1                          0.643671              -1.650220  0.137839       NaN  \n",
       "2                          0.224418              -1.650220  0.162904       NaN  \n",
       "3                         -0.194835              -1.650220 -0.577070       NaN  \n",
       "4                          0.643671              -1.650220  0.255793       NaN  \n",
       "...                             ...                    ...       ...       ...  \n",
       "1238                      -0.194835               1.520816  0.574852       NaN  \n",
       "1239                       1.062924               1.520816 -0.540973       NaN  \n",
       "1240                      -0.614089               1.520816  0.801912       NaN  \n",
       "1241                       1.062924               1.520816 -0.056202       NaN  \n",
       "1242                      -0.614089               1.520816 -2.782199       NaN  \n",
       "\n",
       "[1233 rows x 6 columns]"
      ]
     },
     "execution_count": 11,
     "metadata": {},
     "output_type": "execute_result"
    }
   ],
   "source": [
    "from sklearn.preprocessing import StandardScaler\n",
    "\n",
    "features = [\"pedido.data.attributes.age\",\n",
    "    \"pedido.data.attributes.diagnostic_main\",\n",
    "    \"respuesta.articlesRevisedYear\",\n",
    "    \"respuesta.pubmed_keys\",\n",
    "    \"articulo\"]\n",
    "\n",
    "# Separating out the features\n",
    "x = dfOrg.loc[:, features].values\n",
    "\n",
    "featuresTransformed = StandardScaler().fit_transform(x)\n",
    "\n",
    "dfStandarized = pd.DataFrame(featuresTransformed, index=dfOrg.index, columns=features)\n",
    "dfStandarized['utilidad'] = dfOrg['utilidad']\n",
    "\n",
    "dfStandarized"
   ]
  },
  {
   "cell_type": "markdown",
   "metadata": {},
   "source": [
    "# Separe data by utilidad is defined"
   ]
  },
  {
   "cell_type": "code",
   "execution_count": 12,
   "metadata": {},
   "outputs": [
    {
     "name": "stdout",
     "output_type": "stream",
     "text": [
      "51\n",
      "1182\n"
     ]
    }
   ],
   "source": [
    "dfDataSetComplete = dfStandarized[pd.notnull(dfStandarized['utilidad'])]\n",
    "\n",
    "print(dfDataSetComplete.shape[0])\n",
    "\n",
    "dfDataSetToPredict = dfStandarized[pd.isnull(dfStandarized['utilidad'])]\n",
    "\n",
    "print(dfDataSetToPredict.shape[0])"
   ]
  },
  {
   "cell_type": "markdown",
   "metadata": {},
   "source": [
    "# Random Forest"
   ]
  },
  {
   "cell_type": "markdown",
   "metadata": {},
   "source": [
    "We check the number of results"
   ]
  },
  {
   "cell_type": "code",
   "execution_count": 13,
   "metadata": {},
   "outputs": [
    {
     "data": {
      "text/plain": [
       "utilidad\n",
       "0.0    21\n",
       "1.0    30\n",
       "dtype: int64"
      ]
     },
     "execution_count": 13,
     "metadata": {},
     "output_type": "execute_result"
    }
   ],
   "source": [
    " dfDataSetComplete.groupby('utilidad').size()"
   ]
  },
  {
   "cell_type": "markdown",
   "metadata": {},
   "source": [
    "Separe \"utilidad\" atribute from dataToTrain"
   ]
  },
  {
   "cell_type": "code",
   "execution_count": 14,
   "metadata": {},
   "outputs": [
    {
     "data": {
      "text/plain": [
       "(51, 5)"
      ]
     },
     "execution_count": 14,
     "metadata": {},
     "output_type": "execute_result"
    }
   ],
   "source": [
    "X = np.array(dfDataSetComplete.drop(['utilidad'],1))\n",
    "y = np.array(dfDataSetComplete['utilidad'])\n",
    "X.shape"
   ]
  },
  {
   "cell_type": "code",
   "execution_count": 15,
   "metadata": {},
   "outputs": [],
   "source": [
    "from sklearn.model_selection import train_test_split\n",
    "\n",
    "X_train, X_test, y_train, y_test = train_test_split(X, y, random_state=0)"
   ]
  },
  {
   "cell_type": "markdown",
   "metadata": {},
   "source": [
    "# Exploring number of estimators"
   ]
  },
  {
   "cell_type": "markdown",
   "metadata": {},
   "source": [
    "Via the sample size n of the bootstrap sample, we control the bias-variance tradeoff of the random forest. By choosing a larger value for n, we decrease the randomness and thus the forest is more likely to overfit. On the other hand, we can reduce the degree of overfitting by choosing smaller values for n at the expense of the model performance. In most implementations, including the RandomForestClassifier implementation in scikit-learn, the sample size of the bootstrap sample is chosen to be equal to the number of samples in the original training set, which usually provides a good bias-variance tradeoff."
   ]
  },
  {
   "cell_type": "markdown",
   "metadata": {},
   "source": [
    "https://towardsdatascience.com/gini-index-vs-information-entropy-7a7e4fed3fcb"
   ]
  },
  {
   "cell_type": "code",
   "execution_count": 16,
   "metadata": {},
   "outputs": [],
   "source": [
    "from sklearn.ensemble import RandomForestClassifier\n",
    "from sklearn.metrics import classification_report, confusion_matrix, accuracy_score\n",
    "\n",
    "k_range = range(5, 205, 5)\n",
    "accuracy = []\n",
    "\n",
    "for k in k_range:\n",
    "    forest_test = RandomForestClassifier(\n",
    "        criterion='entropy',\n",
    "        n_estimators=k, \n",
    "        random_state=0\n",
    "    )\n",
    "    forest_test.fit(X_train, y_train)\n",
    "    y_pred_test = forest_test.predict(X_test)\n",
    "    \n",
    "    accuracy.append(accuracy_score(y_test, y_pred_test))"
   ]
  },
  {
   "cell_type": "code",
   "execution_count": 17,
   "metadata": {},
   "outputs": [
    {
     "data": {
      "text/plain": [
       "Text(0, 0.5, 'Accuracy')"
      ]
     },
     "execution_count": 17,
     "metadata": {},
     "output_type": "execute_result"
    },
    {
     "data": {
      "image/png": "[encoded data removed]",
      "text/plain": [
       "<Figure size 1080x720 with 1 Axes>"
      ]
     },
     "metadata": {
      "needs_background": "light"
     },
     "output_type": "display_data"
    }
   ],
   "source": [
    "import matplotlib.pyplot as plt\n",
    "\n",
    "fig, axs = plt.subplots(figsize=(15, 10))\n",
    "axs.plot(k_range, accuracy, color='red', linestyle='dashed', marker='o',\n",
    "         markerfacecolor='blue', markersize=10)\n",
    "axs.set_title('Accuracy')\n",
    "axs.set_xlabel('Number of estimators')\n",
    "axs.set_ylabel('Accuracy')\n"
   ]
  },
  {
   "cell_type": "markdown",
   "metadata": {},
   "source": [
    "## Evaluating the Algorithm"
   ]
  },
  {
   "cell_type": "code",
   "execution_count": 18,
   "metadata": {},
   "outputs": [
    {
     "name": "stdout",
     "output_type": "stream",
     "text": [
      "              precision    recall  f1-score   support\n",
      "\n",
      "         0.0       0.57      0.67      0.62         6\n",
      "         1.0       0.67      0.57      0.62         7\n",
      "\n",
      "    accuracy                           0.62        13\n",
      "   macro avg       0.62      0.62      0.62        13\n",
      "weighted avg       0.62      0.62      0.62        13\n",
      "\n",
      "0.6153846153846154\n"
     ]
    }
   ],
   "source": [
    "forest = RandomForestClassifier(\n",
    "    criterion='entropy',\n",
    "    n_estimators=40,\n",
    "    random_state=0\n",
    ")\n",
    "\n",
    "forest.fit(X_train, y_train)\n",
    "\n",
    "y_pred = forest.predict(X_test)\n",
    "\n",
    "print(classification_report(y_test,y_pred))\n",
    "print(accuracy_score(y_test, y_pred))"
   ]
  },
  {
   "cell_type": "code",
   "execution_count": 19,
   "metadata": {},
   "outputs": [
    {
     "data": {
      "image/png": "[encoded data removed]",
      "text/plain": [
       "<Figure size 432x288 with 2 Axes>"
      ]
     },
     "metadata": {
      "needs_background": "light"
     },
     "output_type": "display_data"
    }
   ],
   "source": [
    "import itertools\n",
    "\n",
    "\n",
    "cnf_matrix = confusion_matrix(y_test, y_pred)\n",
    "\n",
    "def plot_confusion_matrix(cm, classes):\n",
    "    cm = cm.astype('float') / cm.sum(axis=1)[:, np.newaxis]\n",
    "   \n",
    "    cmap=plt.cm.Blues\n",
    "\n",
    "    plt.imshow(cm, interpolation='nearest', cmap=cmap)\n",
    "    plt.colorbar()\n",
    "    tick_marks = np.arange(len(classes))\n",
    "    plt.xticks(tick_marks, classes, rotation=45)\n",
    "    plt.yticks(tick_marks, classes)\n",
    "\n",
    "    thresh = cm.max() / 2.\n",
    "    for i, j in itertools.product(range(cm.shape[0]), range(cm.shape[1])):\n",
    "        plt.text(j, i, format(cm[i, j], \".2f\"),\n",
    "                 horizontalalignment=\"center\",\n",
    "                 color=\"white\" if cm[i, j] > thresh else \"black\")\n",
    "\n",
    "    plt.tight_layout()\n",
    "    plt.ylabel('True label')\n",
    "    plt.xlabel('Predicted label')\n",
    "\n",
    "n_classes=[\"0\",\"1\"]\n",
    "plot_confusion_matrix(cnf_matrix, classes=n_classes)"
   ]
  },
  {
   "cell_type": "markdown",
   "metadata": {},
   "source": [
    "# Run Prediction"
   ]
  },
  {
   "cell_type": "code",
   "execution_count": 20,
   "metadata": {},
   "outputs": [
    {
     "data": {
      "text/plain": [
       "array([1., 1., 1., ..., 1., 0., 0.])"
      ]
     },
     "execution_count": 20,
     "metadata": {},
     "output_type": "execute_result"
    }
   ],
   "source": [
    "result = forest.predict(dfDataSetToPredict[[\n",
    "    \"pedido.data.attributes.age\",\n",
    "    \"pedido.data.attributes.diagnostic_main\",\n",
    "    \"respuesta.articlesRevisedYear\",\n",
    "    \"respuesta.pubmed_keys\",\n",
    "    \"articulo\"\n",
    "]])\n",
    "\n",
    "result"
   ]
  },
  {
   "cell_type": "markdown",
   "metadata": {},
   "source": [
    "https://chrisalbon.com/machine_learning/trees_and_forests/random_forest_classifier_example/\n",
    "https://bookdown.org/content/2031/ensambladores-random-forest-parte-i.html\n",
    "https://stackabuse.com/random-forest-algorithm-with-python-and-scikit-learn/\n"
   ]
  }
 ],
 "metadata": {
  "kernelspec": {
   "display_name": "Python 3",
   "language": "python",
   "name": "python3"
  },
  "language_info": {
   "codemirror_mode": {
    "name": "ipython",
    "version": 3
   },
   "file_extension": ".py",
   "mimetype": "text/x-python",
   "name": "python",
   "nbconvert_exporter": "python",
   "pygments_lexer": "ipython3",
   "version": "3.7.6"
  }
 },
 "nbformat": 4,
 "nbformat_minor": 4
}

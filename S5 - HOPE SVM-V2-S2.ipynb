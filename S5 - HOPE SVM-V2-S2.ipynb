{
 "cells": [
  {
   "cell_type": "markdown",
   "metadata": {},
   "source": [
    "# Import data from DB."
   ]
  },
  {
   "cell_type": "code",
   "execution_count": 1,
   "metadata": {},
   "outputs": [],
   "source": [
    "import pandas as pd\n",
    "import numpy as np"
   ]
  },
  {
   "cell_type": "code",
   "execution_count": 2,
   "metadata": {},
   "outputs": [
    {
     "name": "stdout",
     "output_type": "stream",
     "text": [
      "15578\n"
     ]
    }
   ],
   "source": [
    "dfStandarized = pd.read_csv('hope_SVM-V2_dataset.csv')  \n",
    "\n",
    "print(dfStandarized.shape[0])"
   ]
  },
  {
   "cell_type": "code",
   "execution_count": 3,
   "metadata": {},
   "outputs": [
    {
     "data": {
      "text/html": [
       "<div>\n",
       "<style scoped>\n",
       "    .dataframe tbody tr th:only-of-type {\n",
       "        vertical-align: middle;\n",
       "    }\n",
       "\n",
       "    .dataframe tbody tr th {\n",
       "        vertical-align: top;\n",
       "    }\n",
       "\n",
       "    .dataframe thead th {\n",
       "        text-align: right;\n",
       "    }\n",
       "</style>\n",
       "<table border=\"1\" class=\"dataframe\">\n",
       "  <thead>\n",
       "    <tr style=\"text-align: right;\">\n",
       "      <th></th>\n",
       "      <th>pedido.data.attributes.age</th>\n",
       "      <th>pedido.data.attributes.diagnostic_main</th>\n",
       "      <th>respuesta.articlesRevisedMonth</th>\n",
       "      <th>respuesta.pubmed_keys</th>\n",
       "      <th>utilidad</th>\n",
       "    </tr>\n",
       "  </thead>\n",
       "  <tbody>\n",
       "    <tr>\n",
       "      <th>0</th>\n",
       "      <td>1.285887</td>\n",
       "      <td>-1.503163</td>\n",
       "      <td>-1.463658</td>\n",
       "      <td>-1.089722</td>\n",
       "      <td>1.0</td>\n",
       "    </tr>\n",
       "    <tr>\n",
       "      <th>1</th>\n",
       "      <td>1.285887</td>\n",
       "      <td>-1.503163</td>\n",
       "      <td>-1.463658</td>\n",
       "      <td>-1.080463</td>\n",
       "      <td>1.0</td>\n",
       "    </tr>\n",
       "    <tr>\n",
       "      <th>2</th>\n",
       "      <td>1.285887</td>\n",
       "      <td>-1.503163</td>\n",
       "      <td>-1.463658</td>\n",
       "      <td>-1.071203</td>\n",
       "      <td>1.0</td>\n",
       "    </tr>\n",
       "    <tr>\n",
       "      <th>3</th>\n",
       "      <td>1.285887</td>\n",
       "      <td>-1.503163</td>\n",
       "      <td>-1.463658</td>\n",
       "      <td>-1.061944</td>\n",
       "      <td>1.0</td>\n",
       "    </tr>\n",
       "    <tr>\n",
       "      <th>4</th>\n",
       "      <td>1.285887</td>\n",
       "      <td>-1.503163</td>\n",
       "      <td>-1.463658</td>\n",
       "      <td>-1.052684</td>\n",
       "      <td>1.0</td>\n",
       "    </tr>\n",
       "    <tr>\n",
       "      <th>5</th>\n",
       "      <td>1.285887</td>\n",
       "      <td>-1.503163</td>\n",
       "      <td>-1.463658</td>\n",
       "      <td>-1.043424</td>\n",
       "      <td>1.0</td>\n",
       "    </tr>\n",
       "    <tr>\n",
       "      <th>6</th>\n",
       "      <td>1.285887</td>\n",
       "      <td>-1.503163</td>\n",
       "      <td>-1.463658</td>\n",
       "      <td>-1.034165</td>\n",
       "      <td>1.0</td>\n",
       "    </tr>\n",
       "    <tr>\n",
       "      <th>7</th>\n",
       "      <td>1.285887</td>\n",
       "      <td>-1.503163</td>\n",
       "      <td>-1.463658</td>\n",
       "      <td>-1.024905</td>\n",
       "      <td>1.0</td>\n",
       "    </tr>\n",
       "    <tr>\n",
       "      <th>8</th>\n",
       "      <td>1.285887</td>\n",
       "      <td>-1.503163</td>\n",
       "      <td>-1.463658</td>\n",
       "      <td>-1.015646</td>\n",
       "      <td>1.0</td>\n",
       "    </tr>\n",
       "    <tr>\n",
       "      <th>9</th>\n",
       "      <td>1.285887</td>\n",
       "      <td>-1.503163</td>\n",
       "      <td>-1.463658</td>\n",
       "      <td>-1.006386</td>\n",
       "      <td>1.0</td>\n",
       "    </tr>\n",
       "  </tbody>\n",
       "</table>\n",
       "</div>"
      ],
      "text/plain": [
       "   pedido.data.attributes.age  pedido.data.attributes.diagnostic_main  \\\n",
       "0                    1.285887                               -1.503163   \n",
       "1                    1.285887                               -1.503163   \n",
       "2                    1.285887                               -1.503163   \n",
       "3                    1.285887                               -1.503163   \n",
       "4                    1.285887                               -1.503163   \n",
       "5                    1.285887                               -1.503163   \n",
       "6                    1.285887                               -1.503163   \n",
       "7                    1.285887                               -1.503163   \n",
       "8                    1.285887                               -1.503163   \n",
       "9                    1.285887                               -1.503163   \n",
       "\n",
       "   respuesta.articlesRevisedMonth  respuesta.pubmed_keys  utilidad  \n",
       "0                       -1.463658              -1.089722       1.0  \n",
       "1                       -1.463658              -1.080463       1.0  \n",
       "2                       -1.463658              -1.071203       1.0  \n",
       "3                       -1.463658              -1.061944       1.0  \n",
       "4                       -1.463658              -1.052684       1.0  \n",
       "5                       -1.463658              -1.043424       1.0  \n",
       "6                       -1.463658              -1.034165       1.0  \n",
       "7                       -1.463658              -1.024905       1.0  \n",
       "8                       -1.463658              -1.015646       1.0  \n",
       "9                       -1.463658              -1.006386       1.0  "
      ]
     },
     "execution_count": 3,
     "metadata": {},
     "output_type": "execute_result"
    }
   ],
   "source": [
    "dfStandarized.head(10)"
   ]
  },
  {
   "cell_type": "markdown",
   "metadata": {},
   "source": [
    "# Separe data by utilidad is defined"
   ]
  },
  {
   "cell_type": "code",
   "execution_count": 4,
   "metadata": {},
   "outputs": [
    {
     "name": "stdout",
     "output_type": "stream",
     "text": [
      "830\n",
      "14748\n"
     ]
    }
   ],
   "source": [
    "dfDataSetComplete = dfStandarized[pd.notnull(dfStandarized['utilidad'])]\n",
    "\n",
    "print(dfDataSetComplete.shape[0])\n",
    "\n",
    "dfDataSetToPredict = dfStandarized[pd.isnull(dfStandarized['utilidad'])]\n",
    "\n",
    "print(dfDataSetToPredict.shape[0])"
   ]
  },
  {
   "cell_type": "markdown",
   "metadata": {},
   "source": [
    "# SVM"
   ]
  },
  {
   "cell_type": "markdown",
   "metadata": {},
   "source": [
    "We check the number of results"
   ]
  },
  {
   "cell_type": "code",
   "execution_count": 5,
   "metadata": {},
   "outputs": [
    {
     "data": {
      "text/plain": [
       "utilidad\n",
       "0.0    346\n",
       "1.0    484\n",
       "dtype: int64"
      ]
     },
     "execution_count": 5,
     "metadata": {},
     "output_type": "execute_result"
    }
   ],
   "source": [
    " dfDataSetComplete.groupby('utilidad').size()"
   ]
  },
  {
   "cell_type": "markdown",
   "metadata": {},
   "source": [
    "Separe \"utilidad\" atribute from dataToTrain"
   ]
  },
  {
   "cell_type": "code",
   "execution_count": 6,
   "metadata": {},
   "outputs": [
    {
     "data": {
      "text/plain": [
       "(830, 4)"
      ]
     },
     "execution_count": 6,
     "metadata": {},
     "output_type": "execute_result"
    }
   ],
   "source": [
    "X = np.array(dfDataSetComplete.drop(['utilidad'],1))\n",
    "y = np.array(dfDataSetComplete['utilidad'])\n",
    "X.shape"
   ]
  },
  {
   "cell_type": "code",
   "execution_count": 7,
   "metadata": {},
   "outputs": [],
   "source": [
    "from sklearn.model_selection import train_test_split\n",
    "\n",
    "X_train, X_test, y_train, y_test = train_test_split(X, y, random_state=0)"
   ]
  },
  {
   "cell_type": "code",
   "execution_count": 8,
   "metadata": {},
   "outputs": [
    {
     "data": {
      "text/plain": [
       "Text(0.5, 0, 'X')"
      ]
     },
     "execution_count": 8,
     "metadata": {},
     "output_type": "execute_result"
    },
    {
     "data": {
      "image/png": "[encoded data removed]",
      "text/plain": [
       "<Figure size 432x288 with 1 Axes>"
      ]
     },
     "metadata": {
      "needs_background": "light"
     },
     "output_type": "display_data"
    }
   ],
   "source": [
    "ax = dfDataSetComplete.plot.scatter(x=\"pedido.data.attributes.age\", y=\"utilidad\", c=dfDataSetComplete.utilidad.map({0:'b', 1:'r'}))\n",
    "dfDataSetComplete.plot.scatter(x=\"pedido.data.attributes.diagnostic_main\", y=\"utilidad\", c=dfDataSetComplete.utilidad.map({0:'b', 1:'r'}), ax=ax)\n",
    "dfDataSetComplete.plot.scatter(x=\"respuesta.articlesRevisedMonth\", y=\"utilidad\", c=dfDataSetComplete.utilidad.map({0:'b', 1:'r'}), ax=ax)\n",
    "dfDataSetComplete.plot.scatter(x=\"respuesta.pubmed_keys\", y=\"utilidad\", c=dfDataSetComplete.utilidad.map({0:'b', 1:'r'}), ax=ax)\n",
    "ax.set_xlabel('X')"
   ]
  },
  {
   "cell_type": "markdown",
   "metadata": {},
   "source": [
    "A simple vista no podemos crear un hiperplano lineal (division de valores) que nos ayude a poder clasificar los valores del campo utilidad en base los atributos del data set, ya que los resultados del campo \"utilidad\" estan distribuidos sobre todo el plano de X. Exploraremos con los kernel methods, que metodo nos ayuda a poder crear el hiperplano más optimo para la clasificación"
   ]
  },
  {
   "cell_type": "markdown",
   "metadata": {},
   "source": [
    "# Exploring Hiper Parameters"
   ]
  },
  {
   "cell_type": "markdown",
   "metadata": {},
   "source": [
    "· C: el valor de penalització dels errors en la classificació. Indica el compromís entre obtenir l'hiperpla amb el marge més gran possible i classificar el màxim número d'exemples correctament. Provarem valors aleatoris distribuits uniformement entre 1 i 500."
   ]
  },
  {
   "cell_type": "markdown",
   "metadata": {},
   "source": [
    "https://scikit-learn.org/stable/modules/generated/sklearn.svm.SVC.html\n",
    "\n",
    "https://scikit-learn.org/stable/auto_examples/svm/plot_rbf_parameters.html"
   ]
  },
  {
   "cell_type": "code",
   "execution_count": null,
   "metadata": {},
   "outputs": [],
   "source": [
    "from sklearn.model_selection import RandomizedSearchCV\n",
    "from sklearn import svm\n",
    "from scipy.stats import uniform as sp_rand\n",
    "from time import time\n",
    "\n",
    "clf = svm.SVC()\n",
    "\n",
    "kernels = ['poly', 'rbf', 'sigmoid']\n",
    "\n",
    "param_dist = {\n",
    "    \"C\":     sp_rand(loc=1, scale=500),\n",
    "    \"gamma\": sp_rand(loc=1e-3, scale=1e3)\n",
    "}\n",
    "\n",
    "best_score = []\n",
    "\n",
    "for k in kernels:\n",
    "    param_dist['kernel'] = [k]\n",
    "    n_iter_search = 10\n",
    "    random_search = RandomizedSearchCV(clf, param_distributions=param_dist, n_iter=n_iter_search, cv=4)\n",
    "\n",
    "    start = time()\n",
    "    random_search.fit(X_train, y_train)\n",
    "    end = time()\n",
    "    print(\"El entrenamiento a durado {} segundos\".format(end - start))\n",
    "\n",
    "    means = random_search.cv_results_[\"mean_test_score\"]\n",
    "    stds = random_search.cv_results_[\"std_test_score\"]\n",
    "    params = random_search.cv_results_['params']\n",
    "    ranks = random_search.cv_results_['rank_test_score']\n",
    "    best_score.append({'kernel':k,'score':random_search.best_score_, 'params': random_search.best_params_})\n",
    "\n",
    "    for rank, mean, std, pms in zip(ranks, means, stds, params):\n",
    "        print(\"{}) Precision media: {:.2f} +/- {:.2f} con parametros {}\".format(rank, mean*100, std*100, pms))\n",
    "  "
   ]
  },
  {
   "cell_type": "code",
   "execution_count": null,
   "metadata": {},
   "outputs": [],
   "source": [
    "import matplotlib.pyplot as plt\n",
    "\n",
    "fig = plt.figure()\n",
    "ax = fig.add_axes([0,0,1,1])\n",
    "ax.bar([dic['kernel'] for dic in best_score],[dic['score'] for dic in best_score])\n",
    "plt.show()"
   ]
  },
  {
   "cell_type": "code",
   "execution_count": null,
   "metadata": {},
   "outputs": [],
   "source": [
    "pd.DataFrame(best_score)"
   ]
  },
  {
   "cell_type": "markdown",
   "metadata": {},
   "source": [
    "vemos que el kernel que mejor se ajusta al modelo es el radial (rbf). Utilizaremos este kernel con sus correspondientes parametros para entrenar el modelo predictivo"
   ]
  }
 ],
 "metadata": {
  "kernelspec": {
   "display_name": "Python 3",
   "language": "python",
   "name": "python3"
  },
  "language_info": {
   "codemirror_mode": {
    "name": "ipython",
    "version": 3
   },
   "file_extension": ".py",
   "mimetype": "text/x-python",
   "name": "python",
   "nbconvert_exporter": "python",
   "pygments_lexer": "ipython3",
   "version": "3.8.6"
  }
 },
 "nbformat": 4,
 "nbformat_minor": 4
}
